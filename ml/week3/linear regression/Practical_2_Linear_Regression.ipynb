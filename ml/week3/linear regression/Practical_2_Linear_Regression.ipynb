{
 "cells": [
  {
   "cell_type": "markdown",
   "metadata": {
    "id": "2Xay46M9P8nz"
   },
   "source": [
    "# Linear Regression\n",
    "Linear Regression is a method used to define a relationship between a dependent variable (Y) and independent variable (X).\n",
    "\n",
    "**Y = mX+c**\n",
    "# Application of Linear Regression\n",
    "## Height and Weight data\n",
    "\n",
    "**Discuss full story behind dataset.**\n",
    "\n",
    "Context This data set gives average masses for women as a function of their height in\n",
    "a sample of American women of age 30–39.\n",
    "\n",
    "Content The data contains the variables\n",
    "Height (m) Weight (kg)"
   ]
  },
  {
   "cell_type": "code",
   "execution_count": 1,
   "metadata": {},
   "outputs": [
    {
     "name": "stdout",
     "output_type": "stream",
     "text": [
      "19IT016, Manav_Butani\n"
     ]
    }
   ],
   "source": [
    "print(\"19IT016, Manav_Butani\")"
   ]
  },
  {
   "cell_type": "code",
   "execution_count": 2,
   "metadata": {
    "id": "H3iUYf1ZRt8v"
   },
   "outputs": [],
   "source": [
    "import pandas as pd\n",
    "import numpy as np\n",
    "import matplotlib.pyplot as plt\n"
   ]
  },
  {
   "cell_type": "markdown",
   "metadata": {
    "id": "F1JcUuHPSB9H"
   },
   "source": [
    "1. Read Data from file\n",
    "\n",
    "Q1. Why you want to apply regression on selected dataset?\n",
    "\n",
    "As shown below Weight(Y) which is target variable is of continuous type so regression would be the obvious application."
   ]
  },
  {
   "cell_type": "code",
   "execution_count": 3,
   "metadata": {
    "colab": {
     "base_uri": "https://localhost:8080/",
     "height": 221
    },
    "id": "SrveIIQGR0bt",
    "outputId": "10ee8762-9c9c-4679-9a1e-357adce69840"
   },
   "outputs": [
    {
     "data": {
      "text/html": [
       "<div>\n",
       "<style scoped>\n",
       "    .dataframe tbody tr th:only-of-type {\n",
       "        vertical-align: middle;\n",
       "    }\n",
       "\n",
       "    .dataframe tbody tr th {\n",
       "        vertical-align: top;\n",
       "    }\n",
       "\n",
       "    .dataframe thead th {\n",
       "        text-align: right;\n",
       "    }\n",
       "</style>\n",
       "<table border=\"1\" class=\"dataframe\">\n",
       "  <thead>\n",
       "    <tr style=\"text-align: right;\">\n",
       "      <th></th>\n",
       "      <th>Height</th>\n",
       "      <th>Weight</th>\n",
       "    </tr>\n",
       "  </thead>\n",
       "  <tbody>\n",
       "    <tr>\n",
       "      <th>0</th>\n",
       "      <td>1.47</td>\n",
       "      <td>52.21</td>\n",
       "    </tr>\n",
       "    <tr>\n",
       "      <th>1</th>\n",
       "      <td>1.50</td>\n",
       "      <td>53.12</td>\n",
       "    </tr>\n",
       "    <tr>\n",
       "      <th>2</th>\n",
       "      <td>1.52</td>\n",
       "      <td>54.48</td>\n",
       "    </tr>\n",
       "    <tr>\n",
       "      <th>3</th>\n",
       "      <td>1.55</td>\n",
       "      <td>55.84</td>\n",
       "    </tr>\n",
       "    <tr>\n",
       "      <th>4</th>\n",
       "      <td>1.57</td>\n",
       "      <td>57.20</td>\n",
       "    </tr>\n",
       "  </tbody>\n",
       "</table>\n",
       "</div>"
      ],
      "text/plain": [
       "   Height  Weight\n",
       "0    1.47   52.21\n",
       "1    1.50   53.12\n",
       "2    1.52   54.48\n",
       "3    1.55   55.84\n",
       "4    1.57   57.20"
      ]
     },
     "execution_count": 3,
     "metadata": {},
     "output_type": "execute_result"
    }
   ],
   "source": [
    "df = pd.read_csv(\"height-weight.csv\")\n",
    "df.head()"
   ]
  },
  {
   "cell_type": "markdown",
   "metadata": {
    "id": "twhx7kI-S17G"
   },
   "source": [
    "Q2. How many total observations in data?\n",
    "\n",
    "    As shown below there are total 15 obsevations.\n",
    "\n",
    "Q3. How many independent variables?\n",
    "\n",
    "    There is just on independent variable, Height.\n",
    "\n",
    "Q4. Which is dependent variable?\n",
    "\n",
    "    Weight is dependent variable.\n"
   ]
  },
  {
   "cell_type": "code",
   "execution_count": 4,
   "metadata": {
    "colab": {
     "base_uri": "https://localhost:8080/"
    },
    "id": "fQjlrOyfTB7L",
    "outputId": "77a336ed-7863-4921-c03f-45ac4b46432c"
   },
   "outputs": [
    {
     "data": {
      "text/plain": [
       "(15, 2)"
      ]
     },
     "execution_count": 4,
     "metadata": {},
     "output_type": "execute_result"
    }
   ],
   "source": [
    "df.shape"
   ]
  },
  {
   "cell_type": "markdown",
   "metadata": {
    "id": "DlKefCEcTjC7"
   },
   "source": [
    "Q5. Which are most useful variable in estimation? Prove using correlation.\n",
    "\n",
    "    In this dataset there is only one independent variable. So there is no selection of most useful variable. But following is correlation between independent and dependent variable."
   ]
  },
  {
   "cell_type": "code",
   "execution_count": 6,
   "metadata": {
    "colab": {
     "base_uri": "https://localhost:8080/",
     "height": 265
    },
    "id": "P1c4Hy77T8Yl",
    "outputId": "0f0e4240-5eb2-4ea6-f7c2-b44e7a8f2df1"
   },
   "outputs": [
    {
     "data": {
      "image/png": "[encoded data removed]",
      "text/plain": [
       "<Figure size 432x288 with 1 Axes>"
      ]
     },
     "metadata": {
      "needs_background": "light"
     },
     "output_type": "display_data"
    }
   ],
   "source": [
    "plt.scatter(df.Height, df.Weight)\n",
    "plt.show()"
   ]
  },
  {
   "cell_type": "code",
   "execution_count": 13,
   "metadata": {
    "colab": {
     "base_uri": "https://localhost:8080/",
     "height": 329
    },
    "id": "9sgkN74VUcx5",
    "outputId": "4217b430-492a-4e16-d60a-4087558c15f1"
   },
   "outputs": [
    {
     "name": "stdout",
     "output_type": "stream",
     "text": [
      "1.6506666666666665 62.078\n",
      "61.272186542110624 -39.06195591884392\n"
     ]
    },
    {
     "data": {
      "image/png": "[encoded data removed]",
      "text/plain": [
       "<Figure size 432x288 with 1 Axes>"
      ]
     },
     "metadata": {
      "needs_background": "light"
     },
     "output_type": "display_data"
    }
   ],
   "source": [
    "# Model Development using OLS\n",
    "# Describe OLS method\n",
    "# Select Data\n",
    "#X = pd.DataFrame(df.Height)\n",
    "#Y = df.Weight\n",
    "\n",
    "Height_bar = df.Height.sum()/df.Height.count()\n",
    "Weight_bar = df.Weight.sum()/df.Weight.count()\n",
    "print(Height_bar,Weight_bar)\n",
    "\n",
    "n = ((df.Height-Height_bar) * (df.Weight-Weight_bar)).sum()\n",
    "d = ((df.Height-Height_bar)**2).sum()\n",
    "m = n/d\n",
    "b = Weight_bar - m* Height_bar\n",
    "print(m, b)\n",
    "\n",
    "max_Height = df.Height.max()\n",
    "height = df.Height\n",
    "predicted_df = pd.DataFrame(data = range(0,int(max_Height)), columns={'X'})\n",
    "predicted_df['Y'] = height*m + (b)\n",
    "\n",
    "x = predicted_df['X']\n",
    "y = predicted_df['Y']\n",
    "\n",
    "#fig, ax = plt.subplots(figsize=(12,6))\n",
    "\n",
    "plt.plot(x,y,c='red')\n",
    "plt.scatter(df.Height, df.Weight)\n",
    "plt.xlabel('Height')\n",
    "plt.ylabel('Weight')\n",
    "plt.title('Plot for Regression line fit')\n",
    "#plt.legend()\n",
    "plt.show()\n",
    "#n = (X - x_bar)  * (Y - y_bar)\n"
   ]
  },
  {
   "cell_type": "markdown",
   "metadata": {
    "id": "BtHzsvtqVfDy"
   },
   "source": [
    "## Implementation of LR using Gradient Descent\n",
    "Initial Line\n",
    "\n",
    "Error value/Optimization parameter\n",
    "\n",
    "Direction of change\n",
    "\n",
    "Learning rate\n",
    "\n",
    "Convergence/Number of iterations\n",
    "\n",
    "We will take m=0 and b=0 as initial values which is just horizontal line.\n",
    "\n",
    "RMSE\n",
    "\n",
    "Our challenge is to determine the value of optimum values of m and c, such that the line corresponding to those values is the best fitting line or gives the minimum error.\n",
    "\n",
    "\n",
    "Error in current values of m and b is called loss function. It means that we need to optimize loss function to reduce error in m and b.\n",
    "\n",
    "Our loss function will be the Root Mean Squared Error function to calculate the loss and is given by following equation."
   ]
  },
  {
   "cell_type": "markdown",
   "metadata": {
    "id": "nVKFHwbUWCAe"
   },
   "source": [
    "Let’s try applying gradient descent to m and c and approach it step by step:\n",
    "\n",
    "Initially let m = 0 and c = 0. Let L be our learning rate. This controls how much the value of m changes with each step. L could be a small value like 0.0001 for good accuracy.\n",
    "We will define these all as below.\n",
    "\n",
    "m = 0\n",
    "\n",
    "b = 0\n",
    "\n",
    "learning_rate = 0.01\n",
    "\n",
    "Calculate the partial derivative of the loss function with respect to m, and plug in the current values of x, y, m and c in it to obtain the derivative value D. As it is in following equation.\n",
    "<img src = \"dm.jpeg\" />\n",
    "\n",
    "This can be written in code as,\n",
    "\n",
    "D_m = (-2/n) sum(X (Y - Y_pred))\n",
    "\n",
    "Similarly lets find the partial derivative with respect to c, Dc :\n",
    "<img src = \"dc.jpeg\" />\n",
    "\n",
    "and code for dc is given below,\n",
    "\n",
    "D_c = (-2/n) * sum(Y - Y_pred)\n",
    "\n",
    "Now we update the current value of m and c using the following equation: <img src = \"mc.jpeg\" />\n",
    "m = m - L * D_m # Update m\n",
    "\n",
    "c = c - L * D_c # Update c\n",
    "\n",
    "We repeat this process until our loss function is a very small value or ideally 0 (which means 0 error or 100% accuracy). The value of m and c that we are left with now will be the optimum values.\n",
    "Practically we will repeat this process for 1000 time which is defined as,\n",
    "\n",
    "epochs = 1000"
   ]
  },
  {
   "cell_type": "code",
   "execution_count": 14,
   "metadata": {
    "id": "RSF5UPjcWK0B"
   },
   "outputs": [],
   "source": [
    "Height = df.iloc[:, 0]\n",
    "Weight = df.iloc[:, 1]"
   ]
  },
  {
   "cell_type": "code",
   "execution_count": 15,
   "metadata": {
    "colab": {
     "base_uri": "https://localhost:8080/"
    },
    "id": "jBRb_cmNWQZQ",
    "outputId": "6e6c7562-bcee-40ed-a99f-d1bced49b06b"
   },
   "outputs": [
    {
     "name": "stdout",
     "output_type": "stream",
     "text": [
      "4.708373076248757 2.8306970595771928\n",
      "RMSE:  51.85729389555311 -57.17605371989666\n"
     ]
    }
   ],
   "source": [
    "m = 0\n",
    "c = 0\n",
    "\n",
    "L      = 0.00001  # The learning Rate\n",
    "epochs = 2500  # The number of iterations to perform gradient descent\n",
    "\n",
    "n = float(len(Height)) # Number of elements in X\n",
    "\n",
    "# Performing Gradient Descent \n",
    "for i in range(epochs): \n",
    "    Y_pred = m*Height + c  # The current predicted value of Y\n",
    "    D_m = (-2/n) * sum(Height * (Weight - Y_pred))  # Derivative wrt m\n",
    "    D_c = (-2/n) * sum(Weight - Y_pred)  # Derivative wrt c\n",
    "    m = m - L * D_m  # Update m\n",
    "    c = c - L * D_c  # Update c\n",
    "print (m, c)\n",
    "from math import sqrt\n",
    "from sklearn.metrics import mean_squared_error\n",
    "from sklearn.metrics import r2_score\n",
    "Y_pred = m*Height + c\n",
    "print(\"RMSE: \", sqrt(mean_squared_error(Weight,Y_pred)), r2_score(Weight,Y_pred))"
   ]
  },
  {
   "cell_type": "code",
   "execution_count": 19,
   "metadata": {
    "colab": {
     "base_uri": "https://localhost:8080/"
    },
    "id": "oD1HjGQbYyaB",
    "outputId": "f7535c50-1180-4625-c8c9-63b6e81e9f44"
   },
   "outputs": [
    {
     "name": "stdout",
     "output_type": "stream",
     "text": [
      "RMSE:  0.7066615599131167 R2 Score: 0.9891969224457968\n"
     ]
    }
   ],
   "source": [
    "from sklearn import linear_model\n",
    "\n",
    "# This is using SKlearn API\n",
    "Height = pd.DataFrame(df.Height)\n",
    "Weight = df.Weight\n",
    "\n",
    "# Create object of algorithm\n",
    "\n",
    "rg = linear_model.LinearRegression()\n",
    "\n",
    "# Create model by fitting data\n",
    "rg.fit(Height, Weight)\n",
    "# RMSE and R2 Score\n",
    "\n",
    "print(\"RMSE: \", sqrt(mean_squared_error(Weight,rg.predict(Height))), \"R2 Score:\", r2_score(Weight,rg.predict(Height)))\n"
   ]
  },
  {
   "cell_type": "code",
   "execution_count": 22,
   "metadata": {
    "colab": {
     "base_uri": "https://localhost:8080/",
     "height": 265
    },
    "id": "j0mIw7NYXsps",
    "outputId": "9125d3a5-e81b-4bd0-8b07-587d4b04cb10"
   },
   "outputs": [
    {
     "data": {
      "image/png": "[encoded data removed]",
      "text/plain": [
       "<Figure size 432x288 with 1 Axes>"
      ]
     },
     "metadata": {
      "needs_background": "light"
     },
     "output_type": "display_data"
    }
   ],
   "source": [
    "plt.scatter(Height, Weight) \n",
    "plt.plot([min(Height), max(Weight)], [min(Y_pred), max(Y_pred)], color='red')  # regression line\n",
    "plt.show()"
   ]
  },
  {
   "cell_type": "code",
   "execution_count": 23,
   "metadata": {},
   "outputs": [],
   "source": [
    "#Id No :- 19IT016 Name: Manav_Butani"
   ]
  }
 ],
 "metadata": {
  "colab": {
   "name": "Practical 2 Linear Regression",
   "provenance": []
  },
  "kernelspec": {
   "display_name": "Python 3 (ipykernel)",
   "language": "python",
   "name": "python3"
  },
  "language_info": {
   "codemirror_mode": {
    "name": "ipython",
    "version": 3
   },
   "file_extension": ".py",
   "mimetype": "text/x-python",
   "name": "python",
   "nbconvert_exporter": "python",
   "pygments_lexer": "ipython3",
   "version": "3.9.7"
  }
 },
 "nbformat": 4,
 "nbformat_minor": 1
}
