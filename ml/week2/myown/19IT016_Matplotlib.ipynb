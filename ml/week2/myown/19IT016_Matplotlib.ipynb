{
  "cells": [
    {
      "cell_type": "code",
      "execution_count": 1,
      "metadata": {
        "id": "xkYeW3pY8f8T"
      },
      "outputs": [
        {
          "name": "stdout",
          "output_type": "stream",
          "text": [
            "19IT016: Mananv Butani\n"
          ]
        }
      ],
      "source": [
        "print(\"19IT016: Mananv Butani\")"
      ]
    },
    {
      "cell_type": "markdown",
      "metadata": {
        "id": "mJjhYOHJ8hLR"
      },
      "source": [
        "# **Matplotlib**"
      ]
    },
    {
      "cell_type": "markdown",
      "metadata": {
        "id": "w6AM4QQz8qgK"
      },
      "source": [
        "***Importing matplotlib***"
      ]
    },
    {
      "cell_type": "code",
      "execution_count": 2,
      "metadata": {
        "id": "YILosNKt8osI"
      },
      "outputs": [
        {
          "ename": "ModuleNotFoundError",
          "evalue": "No module named 'matplotlib'",
          "output_type": "error",
          "traceback": [
            "\u001b[1;31m---------------------------------------------------------------------------\u001b[0m",
            "\u001b[1;31mModuleNotFoundError\u001b[0m                       Traceback (most recent call last)",
            "\u001b[1;32m~\\AppData\\Local\\Temp/ipykernel_2060/858861909.py\u001b[0m in \u001b[0;36m<module>\u001b[1;34m\u001b[0m\n\u001b[1;32m----> 1\u001b[1;33m \u001b[1;32mimport\u001b[0m \u001b[0mmatplotlib\u001b[0m \u001b[1;32mas\u001b[0m \u001b[0mmt\u001b[0m\u001b[1;33m\u001b[0m\u001b[1;33m\u001b[0m\u001b[0m\n\u001b[0m\u001b[0;32m      2\u001b[0m \u001b[1;32mfrom\u001b[0m \u001b[0mmatplotlib\u001b[0m \u001b[1;32mimport\u001b[0m \u001b[0mpyplot\u001b[0m \u001b[1;32mas\u001b[0m \u001b[0mplt\u001b[0m\u001b[1;33m\u001b[0m\u001b[1;33m\u001b[0m\u001b[0m\n\u001b[0;32m      3\u001b[0m \u001b[0mget_ipython\u001b[0m\u001b[1;33m(\u001b[0m\u001b[1;33m)\u001b[0m\u001b[1;33m.\u001b[0m\u001b[0mrun_line_magic\u001b[0m\u001b[1;33m(\u001b[0m\u001b[1;34m'matplotlib'\u001b[0m\u001b[1;33m,\u001b[0m \u001b[1;34m'inline'\u001b[0m\u001b[1;33m)\u001b[0m\u001b[1;33m\u001b[0m\u001b[1;33m\u001b[0m\u001b[0m\n",
            "\u001b[1;31mModuleNotFoundError\u001b[0m: No module named 'matplotlib'"
          ]
        }
      ],
      "source": [
        "import matplotlib as mt\n",
        "from matplotlib import pyplot as plt\n",
        "%matplotlib inline"
      ]
    },
    {
      "cell_type": "markdown",
      "metadata": {
        "id": "66gfZffM862A"
      },
      "source": [
        "***Simple line chart***"
      ]
    },
    {
      "cell_type": "code",
      "execution_count": 3,
      "metadata": {
        "id": "aWNdJC9H86FB"
      },
      "outputs": [
        {
          "ename": "NameError",
          "evalue": "name 'plt' is not defined",
          "output_type": "error",
          "traceback": [
            "\u001b[1;31m---------------------------------------------------------------------------\u001b[0m",
            "\u001b[1;31mNameError\u001b[0m                                 Traceback (most recent call last)",
            "\u001b[1;32m~\\AppData\\Local\\Temp/ipykernel_2060/1024130371.py\u001b[0m in \u001b[0;36m<module>\u001b[1;34m\u001b[0m\n\u001b[1;32m----> 1\u001b[1;33m \u001b[0mplt\u001b[0m\u001b[1;33m.\u001b[0m\u001b[0mylabel\u001b[0m\u001b[1;33m(\u001b[0m\u001b[1;34m\"19IT016- Y axis\"\u001b[0m\u001b[1;33m)\u001b[0m\u001b[1;33m\u001b[0m\u001b[1;33m\u001b[0m\u001b[0m\n\u001b[0m\u001b[0;32m      2\u001b[0m \u001b[0mplt\u001b[0m\u001b[1;33m.\u001b[0m\u001b[0mxlabel\u001b[0m\u001b[1;33m(\u001b[0m\u001b[1;34m\"19IT016- X axis\"\u001b[0m\u001b[1;33m)\u001b[0m\u001b[1;33m\u001b[0m\u001b[1;33m\u001b[0m\u001b[0m\n\u001b[0;32m      3\u001b[0m \u001b[0mplt\u001b[0m\u001b[1;33m.\u001b[0m\u001b[0mtitle\u001b[0m\u001b[1;33m(\u001b[0m\u001b[1;34m\"19IT016’s data\"\u001b[0m\u001b[1;33m)\u001b[0m\u001b[1;33m\u001b[0m\u001b[1;33m\u001b[0m\u001b[0m\n\u001b[0;32m      4\u001b[0m \u001b[0mplt\u001b[0m\u001b[1;33m.\u001b[0m\u001b[0mplot\u001b[0m\u001b[1;33m(\u001b[0m\u001b[1;33m[\u001b[0m\u001b[1;36m1\u001b[0m\u001b[1;33m,\u001b[0m\u001b[1;36m2\u001b[0m\u001b[1;33m,\u001b[0m\u001b[1;36m3\u001b[0m\u001b[1;33m]\u001b[0m\u001b[1;33m,\u001b[0m\u001b[1;33m[\u001b[0m\u001b[1;36m2\u001b[0m\u001b[1;33m,\u001b[0m\u001b[1;36m5\u001b[0m\u001b[1;33m,\u001b[0m\u001b[1;36m7\u001b[0m\u001b[1;33m]\u001b[0m\u001b[1;33m)\u001b[0m\u001b[1;33m\u001b[0m\u001b[1;33m\u001b[0m\u001b[0m\n\u001b[0;32m      5\u001b[0m \u001b[0mplt\u001b[0m\u001b[1;33m.\u001b[0m\u001b[0mshow\u001b[0m\u001b[1;33m(\u001b[0m\u001b[1;33m)\u001b[0m\u001b[1;33m\u001b[0m\u001b[1;33m\u001b[0m\u001b[0m\n",
            "\u001b[1;31mNameError\u001b[0m: name 'plt' is not defined"
          ]
        }
      ],
      "source": [
        "plt.ylabel(\"19IT016- Y axis\")\n",
        "plt.xlabel(\"19IT016- X axis\")\n",
        "plt.title(\"19IT016’s data\")\n",
        "plt.plot([1,2,3],[2,5,7])\n",
        "plt.show()"
      ]
    },
    {
      "cell_type": "markdown",
      "metadata": {
        "id": "1vXayDHpW18r"
      },
      "source": [
        "***Correlation chart***"
      ]
    },
    {
      "cell_type": "code",
      "execution_count": null,
      "metadata": {
        "id": "BxcY-igw80DH"
      },
      "outputs": [],
      "source": [
        "import numpy as np\n",
        "x_axis = np.array([24.40,10.25,20.05,22.00,16.90,7.80,15.00,22.80,34.90,13.30])\n",
        "y_axis = np.array([-4.40,0.25,-0.05,2.00,6.90,-0.80,5.00,2.80,-4.90,3.30])\n",
        "lines = plt.xcorr(x_axis, y_axis, maxlags=9, usevlines=True)\n",
        "plt.title('Hypothetical Data: Angle of collision vs Energy lost')\n",
        "plt.xlabel('Angle of collision')\n",
        "plt.ylabel('Energy lost')    \n",
        "plt.grid(True)\n",
        "plt.axhline(0, color='red', lw=2)\n",
        "plt.show()"
      ]
    },
    {
      "cell_type": "markdown",
      "metadata": {
        "id": "MTs9bcDkVnro"
      },
      "source": [
        "***Histogram***"
      ]
    },
    {
      "cell_type": "code",
      "execution_count": null,
      "metadata": {
        "id": "TfQ7OlOPVsKN"
      },
      "outputs": [],
      "source": [
        "import numpy as np\n",
        "x = np.random.normal(170, 10, 250) # use NumPy to randomly generate an array with 250 values, where the values will concentrate around 170, and the standard deviation is 10\n",
        "plt.hist(x)\n",
        "plt.show()"
      ]
    },
    {
      "cell_type": "markdown",
      "metadata": {
        "id": "0RfxAYCHijZB"
      },
      "source": [
        "***Plotting of Multivariate data***"
      ]
    },
    {
      "cell_type": "code",
      "execution_count": null,
      "metadata": {
        "id": "m_0f6YOvl1lj"
      },
      "outputs": [],
      "source": [
        "import pandas as pd\n",
        "import numpy as np\n",
        "from IPython.display import HTML\n",
        "\n",
        "# spin up a random dataframe of size 100\n",
        "np.random.seed(13)\n",
        "X = np.random.normal(50, 20, size=100)\n",
        "Y = 2 * X + np.random.randint(25)\n",
        "Z = np.random.choice(['pink', 'blue', 'green', 'red'], p=[0.1, 0.3, 0.4, 0.2], size=100)\n",
        "df = pd.DataFrame({'X': X, 'Y': Y, 'Z': Z})\n",
        "HTML(df.head().to_html(classes=\"table table-stripped table-hover table-dark\"))\n",
        "for size, color in zip([250, 80, 175, 30],['blue','green','pink','red']):    \n",
        "    color_index = df[df.Z == color].index\n",
        "    color_array = np.random.normal(size, 10, size = len(color_index))\n",
        "    for i in range(len(color_index)):\n",
        "        df.at[color_index[i], 'A'] = color_array[i]\n",
        "import matplotlib as mpl\n",
        "plt.rcParams.update(mpl.rcParamsDefault)\n",
        "\n",
        "plt.figure(figsize= (5, 3))\n",
        "\n",
        "plt.scatter(df[df['Z'] == 'green'].X, df[df['Z'] == 'green'].A\n",
        "            , color='yellowgreen');\n",
        "\n",
        "plt.scatter(df[df['Z'] == 'blue'].X, df[df['Z'] == 'blue'].A\n",
        "            , color='deepskyblue');\n",
        "\n",
        "plt.scatter(df[df['Z'] == 'pink'].X, df[df['Z'] == 'pink'].A\n",
        "            , color='hotpink');\n",
        "\n",
        "plt.scatter(df[df['Z'] == 'red'].X, df[df['Z'] == 'red'].A\n",
        "            , color='tomato');\n"
      ]
    },
    {
      "cell_type": "markdown",
      "metadata": {
        "id": "pJzg2M8Blvvz"
      },
      "source": [
        "***Plot Pi Chart***"
      ]
    },
    {
      "cell_type": "code",
      "execution_count": null,
      "metadata": {
        "id": "IgBh_tc9ik8K"
      },
      "outputs": [],
      "source": [
        "marks = np.array([35, 25, 25, 15])\n",
        "subjects = [\"Machien Learning\", \"CRNS\", \"Computer Vision\", \"HS\"]\n",
        "plt.pie(marks, labels = subjects, startangle = 90)\n",
        "plt.show()"
      ]
    }
  ],
  "metadata": {
    "colab": {
      "collapsed_sections": [],
      "name": "19IT016_Matplotlib.ipynb",
      "private_outputs": true,
      "provenance": []
    },
    "kernelspec": {
      "display_name": "Python 3",
      "name": "python3"
    },
    "language_info": {
      "codemirror_mode": {
        "name": "ipython",
        "version": 3
      },
      "file_extension": ".py",
      "mimetype": "text/x-python",
      "name": "python",
      "nbconvert_exporter": "python",
      "pygments_lexer": "ipython3",
      "version": "3.9.5"
    }
  },
  "nbformat": 4,
  "nbformat_minor": 0
}
