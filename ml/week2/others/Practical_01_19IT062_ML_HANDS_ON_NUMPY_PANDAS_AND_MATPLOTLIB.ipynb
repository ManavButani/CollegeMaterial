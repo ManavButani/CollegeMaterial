{
 "cells": [
  {
   "cell_type": "markdown",
   "metadata": {},
   "source": [
    "# Practical-01"
   ]
  },
  {
   "cell_type": "markdown",
   "metadata": {},
   "source": [
    "# Numpy "
   ]
  },
  {
   "cell_type": "markdown",
   "metadata": {},
   "source": [
    "# Creating blank array, with predefined data, with pattern specific data"
   ]
  },
  {
   "cell_type": "code",
   "execution_count": 2,
   "metadata": {},
   "outputs": [],
   "source": [
    "import numpy as np"
   ]
  },
  {
   "cell_type": "markdown",
   "metadata": {},
   "source": [
    "Blank array"
   ]
  },
  {
   "cell_type": "code",
   "execution_count": 8,
   "metadata": {},
   "outputs": [
    {
     "name": "stdout",
     "output_type": "stream",
     "text": [
      "[]\n"
     ]
    }
   ],
   "source": [
    "array=np.empty(0, dtype=int, order='C')\n",
    "print(array)"
   ]
  },
  {
   "cell_type": "markdown",
   "metadata": {},
   "source": [
    "with predefined data"
   ]
  },
  {
   "cell_type": "code",
   "execution_count": 11,
   "metadata": {},
   "outputs": [
    {
     "name": "stdout",
     "output_type": "stream",
     "text": [
      "62\n",
      "[1 2 3 4 5]\n"
     ]
    }
   ],
   "source": [
    "array_predefined = np.array(62)\n",
    "print(array_predefined)\n",
    "array_predefined = np.array([1, 2, 3, 4, 5])\n",
    "print(array_predefined)"
   ]
  },
  {
   "cell_type": "markdown",
   "metadata": {},
   "source": [
    "with pattern specific data"
   ]
  },
  {
   "cell_type": "code",
   "execution_count": 13,
   "metadata": {},
   "outputs": [
    {
     "name": "stdout",
     "output_type": "stream",
     "text": [
      "[('name', '<U10'), ('age', '<i4'), ('weight', '<f8')]\n",
      "[('Vivek', 19, 65. ) ('Raj', 20, 90.5) ('Utsav', 61, 64. )\n",
      " ('Sahil', 30, 75.5)]\n"
     ]
    }
   ],
   "source": [
    "name = ['Vivek', 'Raj', 'Utsav', 'Sahil']\n",
    "age = [19, 20, 61, 30]\n",
    "weight = [65.0, 90.5, 64.0, 75.5]\n",
    "data = np.zeros(4, dtype={'names':('name', 'age', 'weight'),\n",
    "                          'formats':('U10', 'i4', 'f8')})\n",
    "print(data.dtype)\n",
    "data['name'] = name\n",
    "data['age'] = age\n",
    "data['weight'] = weight\n",
    "print(data)"
   ]
  },
  {
   "cell_type": "markdown",
   "metadata": {},
   "source": [
    "# Slicing and Updating elements"
   ]
  },
  {
   "cell_type": "code",
   "execution_count": 28,
   "metadata": {},
   "outputs": [
    {
     "name": "stdout",
     "output_type": "stream",
     "text": [
      "[ 1  2  3  4  5  6  7 62  9]\n",
      "[[ 1  2  3 16  5]\n",
      " [ 6  7  8  9 10]]\n",
      "[2 3 4 5 6 7]\n",
      "[ 3  4  5  6  7 62  9]\n",
      "[ 1  2  3  4  5  6  7 62  9]\n",
      "[ 7 62]\n",
      "[ 2  5 62]\n",
      "[7 8 9]\n"
     ]
    }
   ],
   "source": [
    "slice_array = np.array([1, 2, 3, 4, 5, 6, 7, 8, 9])\n",
    "slice_array_1 = np.array([[1, 2, 3, 4, 5], [6, 7, 8, 9, 10]])\n",
    "slice_array[7]=62\n",
    "slice_array_1[0,3]=16\n",
    "print(slice_array)\n",
    "print(slice_array_1)\n",
    "print(slice_array[1:7])\n",
    "print(slice_array[2:])\n",
    "print(slice_array[:12])\n",
    "print(slice_array[-3:-1])\n",
    "print(slice_array[1:8:3])\n",
    "print(slice_array_1[1, 1:4])"
   ]
  },
  {
   "cell_type": "markdown",
   "metadata": {},
   "source": [
    "# Shape manipulations"
   ]
  },
  {
   "cell_type": "code",
   "execution_count": 86,
   "metadata": {},
   "outputs": [
    {
     "name": "stdout",
     "output_type": "stream",
     "text": [
      "[ 6  5  2 14  3 12  4  9 15  2  3 13 10 14 12]\n",
      "[[ 6  5  2 14  3]\n",
      " [12  4  9 15  2]\n",
      " [ 3 13 10 14 12]]\n"
     ]
    },
    {
     "ename": "ValueError",
     "evalue": "cannot reshape array of size 15 into shape (3,6)",
     "output_type": "error",
     "traceback": [
      "\u001b[1;31m---------------------------------------------------------------------------\u001b[0m",
      "\u001b[1;31mValueError\u001b[0m                                Traceback (most recent call last)",
      "\u001b[1;32m~\\AppData\\Local\\Temp/ipykernel_7072/497919412.py\u001b[0m in \u001b[0;36m<module>\u001b[1;34m\u001b[0m\n\u001b[0;32m     15\u001b[0m \u001b[0mnew_shape_array\u001b[0m\u001b[1;33m=\u001b[0m\u001b[0mshape_array\u001b[0m\u001b[1;33m.\u001b[0m\u001b[0mreshape\u001b[0m\u001b[1;33m(\u001b[0m\u001b[1;36m3\u001b[0m\u001b[1;33m,\u001b[0m\u001b[1;36m5\u001b[0m\u001b[1;33m)\u001b[0m\u001b[1;33m\u001b[0m\u001b[1;33m\u001b[0m\u001b[0m\n\u001b[0;32m     16\u001b[0m \u001b[0mprint\u001b[0m\u001b[1;33m(\u001b[0m\u001b[0mnew_shape_array\u001b[0m\u001b[1;33m)\u001b[0m\u001b[1;33m\u001b[0m\u001b[1;33m\u001b[0m\u001b[0m\n\u001b[1;32m---> 17\u001b[1;33m \u001b[0mnew_shape_array_01\u001b[0m\u001b[1;33m=\u001b[0m\u001b[0mshape_array\u001b[0m\u001b[1;33m.\u001b[0m\u001b[0mreshape\u001b[0m\u001b[1;33m(\u001b[0m\u001b[1;36m3\u001b[0m\u001b[1;33m,\u001b[0m\u001b[1;36m6\u001b[0m\u001b[1;33m)\u001b[0m\u001b[1;33m\u001b[0m\u001b[1;33m\u001b[0m\u001b[0m\n\u001b[0m\u001b[0;32m     18\u001b[0m \u001b[0mprint\u001b[0m\u001b[1;33m(\u001b[0m\u001b[0mnew_shape_array_01\u001b[0m\u001b[1;33m)\u001b[0m\u001b[1;33m\u001b[0m\u001b[1;33m\u001b[0m\u001b[0m\n",
      "\u001b[1;31mValueError\u001b[0m: cannot reshape array of size 15 into shape (3,6)"
     ]
    }
   ],
   "source": [
    "import random\n",
    "def Rand(start, end, num):\n",
    "    res = []\n",
    " \n",
    "    for j in range(num):\n",
    "        res.append(random.randint(start, end))\n",
    " \n",
    "    return res\n",
    "\n",
    "num = 15\n",
    "start = 1\n",
    "end = 15\n",
    "shape_array = np.array(Rand(start, end, num))\n",
    "print(shape_array)\n",
    "new_shape_array=shape_array.reshape(3,5)\n",
    "print(new_shape_array)\n",
    "new_shape_array_01=shape_array.reshape(3,6)\n",
    "print(new_shape_array_01)"
   ]
  },
  {
   "cell_type": "markdown",
   "metadata": {},
   "source": [
    "# Looping over arrays"
   ]
  },
  {
   "cell_type": "code",
   "execution_count": 36,
   "metadata": {},
   "outputs": [
    {
     "name": "stdout",
     "output_type": "stream",
     "text": [
      "1-dimension Array\n",
      "1\n",
      "2\n",
      "3\n",
      "4\n",
      "5\n",
      "6\n",
      "7\n",
      "62\n",
      "9\n",
      "2-dimension Array\n",
      "1\n",
      "2\n",
      "3\n",
      "16\n",
      "5\n",
      "6\n",
      "7\n",
      "8\n",
      "9\n",
      "10\n"
     ]
    }
   ],
   "source": [
    "print(\"1-dimension Array\")\n",
    "for x in slice_array:\n",
    "     print(x)\n",
    "print(\"2-dimension Array\")\n",
    "for x in slice_array_1:\n",
    "    for y in x:\n",
    "        print(y)"
   ]
  },
  {
   "cell_type": "markdown",
   "metadata": {},
   "source": [
    "# Reading files in numpy"
   ]
  },
  {
   "cell_type": "code",
   "execution_count": 38,
   "metadata": {},
   "outputs": [
    {
     "name": "stdout",
     "output_type": "stream",
     "text": [
      "vivek\n",
      "raj\n",
      "utsav\n",
      "jeel\n",
      "sahil\n",
      "mihir\n"
     ]
    }
   ],
   "source": [
    "import numpy as np\n",
    "data = np.loadtxt(\"text_for_practical_01.txt\", usecols=1, skiprows=1, dtype='str')\n",
    "  \n",
    "for each in data:\n",
    "    print(each)"
   ]
  },
  {
   "cell_type": "markdown",
   "metadata": {},
   "source": [
    "# Use numpy vs list for matrix multiplication of 1000 X 1000 array"
   ]
  },
  {
   "cell_type": "code",
   "execution_count": 39,
   "metadata": {},
   "outputs": [
    {
     "name": "stdout",
     "output_type": "stream",
     "text": [
      "1.648721229963447\n",
      "Run time = 0.5665221214294434\n"
     ]
    }
   ],
   "source": [
    "import time\n",
    "\n",
    "start_time = time.time()\n",
    "\n",
    "num_multiplies = 5000000\n",
    "data = range(num_multiplies)\n",
    "number = 1\n",
    "\n",
    "for i in data:\n",
    "    number *= 1.0000001\n",
    "\n",
    "end_time = time.time()\n",
    "\n",
    "print(number)\n",
    "print(\"Run time = {}\".format(end_time - start_time))"
   ]
  },
  {
   "cell_type": "code",
   "execution_count": 42,
   "metadata": {},
   "outputs": [
    {
     "name": "stdout",
     "output_type": "stream",
     "text": [
      "Run time = 0.013930082321166992\n"
     ]
    }
   ],
   "source": [
    "import time\n",
    "import numpy as np\n",
    "\n",
    "start_time = time.time()\n",
    "\n",
    "data = np.ones(shape=(1000, 1000), dtype=\"float\")\n",
    "\n",
    "for i in range(5):\n",
    "    data *= 1.0000001\n",
    "\n",
    "end_time = time.time()\n",
    "\n",
    "print(\"Run time = {}\".format(end_time - start_time))"
   ]
  },
  {
   "cell_type": "markdown",
   "metadata": {},
   "source": [
    "# Pandas"
   ]
  },
  {
   "cell_type": "markdown",
   "metadata": {},
   "source": [
    "# Creating data frame"
   ]
  },
  {
   "cell_type": "code",
   "execution_count": 45,
   "metadata": {},
   "outputs": [],
   "source": [
    "import pandas as pd"
   ]
  },
  {
   "cell_type": "code",
   "execution_count": 52,
   "metadata": {},
   "outputs": [
    {
     "name": "stdout",
     "output_type": "stream",
     "text": [
      "Empty DataFrame\n",
      "Columns: []\n",
      "Index: []\n",
      "            0\n",
      "0        Java\n",
      "1      Python\n",
      "2           C\n",
      "3         C++\n",
      "4  JavaScript\n",
      "5       Swift\n",
      "6          Go\n",
      "     Name  Age\n",
      "0     Tom   20\n",
      "1  Joseph   21\n",
      "2   Krish   19\n",
      "3    John   18\n",
      "             Name  Age\n",
      "position1     Tom   20\n",
      "position2  Joseph   21\n",
      "position3   Krish   19\n",
      "position4    John   18\n",
      "         Electronics  Civil\n",
      "John              97     97\n",
      "Abhinay           56     88\n",
      "Peter             87     44\n",
      "Andrew            45     96\n"
     ]
    }
   ],
   "source": [
    "dataframes = pd.DataFrame()  \n",
    "print(dataframes)  \n",
    "languaes = ['Java', 'Python', 'C', 'C++',  \n",
    "         'JavaScript', 'Swift', 'Go']\n",
    "dataframes = pd.DataFrame(languaes)  \n",
    "print(dataframes)\n",
    "data = {'Name': ['Tom', 'Joseph', 'Krish', 'John'], 'Age': [20, 21, 19, 18]}  \n",
    "dataframes = pd.DataFrame(data)  \n",
    "print(dataframes)\n",
    "dataframes = pd.DataFrame(data, index =['position1', 'position2', 'position3', 'position4'])  \n",
    "print(dataframes)\n",
    "d = {'Electronics' : pd.Series([97, 56, 87, 45], index =['John', 'Abhinay', 'Peter', 'Andrew']),  \n",
    "   'Civil' : pd.Series([97, 88, 44, 96], index =['John', 'Abhinay', 'Peter', 'Andrew'])} \n",
    "dataframes = pd.DataFrame(d)  \n",
    "print(dataframes)"
   ]
  },
  {
   "cell_type": "markdown",
   "metadata": {},
   "source": [
    "# Reading files"
   ]
  },
  {
   "cell_type": "code",
   "execution_count": 92,
   "metadata": {},
   "outputs": [
    {
     "name": "stdout",
     "output_type": "stream",
     "text": [
      "             Some Data   Unnamed: 1   Unnamed: 2   Unnamed: 3   Unnamed: 4  \\\n",
      "0          Main Column      January     February        March        April   \n",
      "1              Value 1          123          321          312          213   \n",
      "2              Value 2           67           34           56           76   \n",
      "3              Value 3           78           23           77           77   \n",
      "4              Value 4           89           12           56           55   \n",
      "5              Value 5     0.491632     0.478972     0.579097     0.638244   \n",
      "6              Value 6       0.8899     0.920011     0.732506     0.671966   \n",
      "7              Value 7     0.437504      0.44066     0.424193     0.428878   \n",
      "8                  NaN          NaN          NaN          NaN          NaN   \n",
      "9   Some sub headline!          NaN          NaN          NaN          NaN   \n",
      "10                 NaN          NaN          NaN          NaN          NaN   \n",
      "11           Employees  Something 1  Something 2  Something 3  Something 4   \n",
      "12            John Doe         14.3           10         0.34         0.65   \n",
      "13            Jane Doe           16            8         1.41         0.67   \n",
      "14         Lorem Ipsum            8            4         2.01         0.56   \n",
      "15         Paul Weller            6            5          2.1         0.12   \n",
      "16          Dave Grohl           12        10.66         2.22         0.75   \n",
      "17             Mr. Big           11        11.38          3.3         0.64   \n",
      "18            The Dude           21       12.325          2.1         0.34   \n",
      "19        Bart Simpson           24        17.88          5.5         0.12   \n",
      "20            Iron Man           12         1.44          7.1         0.55   \n",
      "21           Thomas H.           20            2            2         0.11   \n",
      "22                 NaN          NaN          NaN          NaN          NaN   \n",
      "23                 NaN        144.3       82.685        28.08        0.451   \n",
      "\n",
      "     Unnamed: 5   Unnamed: 6 Unnamed: 7 Unnamed: 8 Unnamed: 9 Unnamed: 10  \\\n",
      "0           May         June       July     August  September     October   \n",
      "1           312          222        111        124          0           0   \n",
      "2           123          545        444        442          0           0   \n",
      "3           222          434        544        234          0           0   \n",
      "4            33          333        654        423          0           0   \n",
      "5      0.511928     0.675326   0.606272   0.762846          0           0   \n",
      "6      0.616595     0.667848   0.868355   0.276603          0           0   \n",
      "7      0.315652     0.451015   0.526459   0.211006          0           0   \n",
      "8           NaN          NaN        NaN        NaN        NaN         NaN   \n",
      "9           NaN          NaN        NaN        NaN        NaN         NaN   \n",
      "10          NaN          NaN        NaN        NaN        NaN         NaN   \n",
      "11  Something 5  Something 6        NaN        NaN        NaN         NaN   \n",
      "12          0.5        -0.15        NaN        NaN        NaN         NaN   \n",
      "13          0.6        -0.07        NaN        NaN        NaN         NaN   \n",
      "14          0.7         0.14        NaN        NaN        NaN         NaN   \n",
      "15          0.8         0.68        NaN        NaN        NaN         NaN   \n",
      "16          0.9         0.15        NaN        NaN        NaN         NaN   \n",
      "17          0.2        -0.44        NaN        NaN        NaN         NaN   \n",
      "18          0.3        -0.04        NaN        NaN        NaN         NaN   \n",
      "19          0.4         0.28        NaN        NaN        NaN         NaN   \n",
      "20          0.5        -0.05        NaN        NaN        NaN         NaN   \n",
      "21          0.6         0.49        NaN        NaN        NaN         NaN   \n",
      "22          NaN            0        NaN        NaN        NaN         NaN   \n",
      "23         0.55        0.099        NaN        NaN        NaN         NaN   \n",
      "\n",
      "   Unnamed: 11 Unnamed: 12  Unnamed: 13  \\\n",
      "0     November    December          NaN   \n",
      "1            0           0          NaN   \n",
      "2            0           0          NaN   \n",
      "3            0           0          NaN   \n",
      "4            0           0          NaN   \n",
      "5            0           0          NaN   \n",
      "6            0           0          NaN   \n",
      "7            0           0          NaN   \n",
      "8          NaN         NaN          NaN   \n",
      "9          NaN         NaN          NaN   \n",
      "10         NaN         NaN          NaN   \n",
      "11         NaN         NaN          NaN   \n",
      "12         NaN         NaN          NaN   \n",
      "13         NaN         NaN          NaN   \n",
      "14         NaN         NaN          NaN   \n",
      "15         NaN         NaN          NaN   \n",
      "16         NaN         NaN          NaN   \n",
      "17         NaN         NaN          NaN   \n",
      "18         NaN         NaN          NaN   \n",
      "19         NaN         NaN          NaN   \n",
      "20         NaN         NaN          NaN   \n",
      "21         NaN         NaN          NaN   \n",
      "22         NaN         NaN          NaN   \n",
      "23         NaN         NaN          NaN   \n",
      "\n",
      "                                     Some Explanation  \n",
      "0   Lorem ipsum dolor sit amet, consetetur sadipsc...  \n",
      "1                                                 NaN  \n",
      "2                                    1. Explanation 1  \n",
      "3                                                 NaN  \n",
      "4                                                 NaN  \n",
      "5                                                 NaN  \n",
      "6                                                 NaN  \n",
      "7                                                 NaN  \n",
      "8                                                 NaN  \n",
      "9                                                 NaN  \n",
      "10                             Auxiliary calculations  \n",
      "11                                         123 Things  \n",
      "12                                111 Things not used  \n",
      "13                                        20 Whatever  \n",
      "14                                                NaN  \n",
      "15                                                NaN  \n",
      "16                                                NaN  \n",
      "17                                                NaN  \n",
      "18                                                NaN  \n",
      "19                                                NaN  \n",
      "20                                                NaN  \n",
      "21                                                NaN  \n",
      "22                                                NaN  \n",
      "23                                                NaN  \n",
      "  Main Column     January    February       March       April         May  \\\n",
      "0     Value 1  123.000000  321.000000  312.000000  213.000000  312.000000   \n",
      "1     Value 2   67.000000   34.000000   56.000000   76.000000  123.000000   \n",
      "2     Value 3   78.000000   23.000000   77.000000   77.000000  222.000000   \n",
      "3     Value 4   89.000000   12.000000   56.000000   55.000000   33.000000   \n",
      "4     Value 5    0.491632    0.478972    0.579097    0.638244    0.511928   \n",
      "5     Value 6    0.889900    0.920011    0.732506    0.671966    0.616595   \n",
      "6     Value 7    0.437504    0.440660    0.424193    0.428878    0.315652   \n",
      "\n",
      "         June        July      August  September  October  November  December  \n",
      "0  222.000000  111.000000  124.000000          0        0         0         0  \n",
      "1  545.000000  444.000000  442.000000          0        0         0         0  \n",
      "2  434.000000  544.000000  234.000000          0        0         0         0  \n",
      "3  333.000000  654.000000  423.000000          0        0         0         0  \n",
      "4    0.675326    0.606272    0.762846          0        0         0         0  \n",
      "5    0.667848    0.868355    0.276603          0        0         0         0  \n",
      "6    0.451015    0.526459    0.211006          0        0         0         0  \n"
     ]
    }
   ],
   "source": [
    "df = pd.read_excel(\"Practical_01_simple_file.xlsx\")\n",
    "print(df)\n",
    "df = pd.read_excel(\"Practical_01_simple_file.xlsx\", header=1, usecols=\"A:M\", nrows=7)\n",
    "print(df)"
   ]
  },
  {
   "cell_type": "markdown",
   "metadata": {},
   "source": [
    "# Slicing manipulations"
   ]
  },
  {
   "cell_type": "code",
   "execution_count": 107,
   "metadata": {},
   "outputs": [
    {
     "data": {
      "text/html": [
       "<div>\n",
       "<style scoped>\n",
       "    .dataframe tbody tr th:only-of-type {\n",
       "        vertical-align: middle;\n",
       "    }\n",
       "\n",
       "    .dataframe tbody tr th {\n",
       "        vertical-align: top;\n",
       "    }\n",
       "\n",
       "    .dataframe thead th {\n",
       "        text-align: right;\n",
       "    }\n",
       "</style>\n",
       "<table border=\"1\" class=\"dataframe\">\n",
       "  <thead>\n",
       "    <tr style=\"text-align: right;\">\n",
       "      <th></th>\n",
       "      <th>Main Column</th>\n",
       "      <th>January</th>\n",
       "      <th>February</th>\n",
       "      <th>March</th>\n",
       "      <th>April</th>\n",
       "      <th>May</th>\n",
       "      <th>June</th>\n",
       "      <th>July</th>\n",
       "      <th>August</th>\n",
       "      <th>September</th>\n",
       "      <th>October</th>\n",
       "      <th>November</th>\n",
       "      <th>December</th>\n",
       "      <th>January (int)</th>\n",
       "    </tr>\n",
       "  </thead>\n",
       "  <tbody>\n",
       "    <tr>\n",
       "      <th>0</th>\n",
       "      <td>Value 1</td>\n",
       "      <td>123.0</td>\n",
       "      <td>321.000000</td>\n",
       "      <td>312.000000</td>\n",
       "      <td>213.000000</td>\n",
       "      <td>312.000000</td>\n",
       "      <td>222.000000</td>\n",
       "      <td>111.000000</td>\n",
       "      <td>124.000000</td>\n",
       "      <td>0</td>\n",
       "      <td>0</td>\n",
       "      <td>0</td>\n",
       "      <td>0</td>\n",
       "      <td></td>\n",
       "    </tr>\n",
       "    <tr>\n",
       "      <th>1</th>\n",
       "      <td>Value 2</td>\n",
       "      <td>67.0</td>\n",
       "      <td>34.000000</td>\n",
       "      <td>56.000000</td>\n",
       "      <td>76.000000</td>\n",
       "      <td>123.000000</td>\n",
       "      <td>545.000000</td>\n",
       "      <td>444.000000</td>\n",
       "      <td>442.000000</td>\n",
       "      <td>0</td>\n",
       "      <td>0</td>\n",
       "      <td>0</td>\n",
       "      <td>0</td>\n",
       "      <td></td>\n",
       "    </tr>\n",
       "    <tr>\n",
       "      <th>2</th>\n",
       "      <td>Value 3</td>\n",
       "      <td>78.0</td>\n",
       "      <td>23.000000</td>\n",
       "      <td>77.000000</td>\n",
       "      <td>77.000000</td>\n",
       "      <td>222.000000</td>\n",
       "      <td>434.000000</td>\n",
       "      <td>544.000000</td>\n",
       "      <td>234.000000</td>\n",
       "      <td>0</td>\n",
       "      <td>0</td>\n",
       "      <td>0</td>\n",
       "      <td>0</td>\n",
       "      <td></td>\n",
       "    </tr>\n",
       "    <tr>\n",
       "      <th>3</th>\n",
       "      <td>Value 4</td>\n",
       "      <td>89.0</td>\n",
       "      <td>12.000000</td>\n",
       "      <td>56.000000</td>\n",
       "      <td>55.000000</td>\n",
       "      <td>33.000000</td>\n",
       "      <td>333.000000</td>\n",
       "      <td>654.000000</td>\n",
       "      <td>423.000000</td>\n",
       "      <td>0</td>\n",
       "      <td>0</td>\n",
       "      <td>0</td>\n",
       "      <td>0</td>\n",
       "      <td></td>\n",
       "    </tr>\n",
       "    <tr>\n",
       "      <th>4</th>\n",
       "      <td>Value 5</td>\n",
       "      <td>0.49163244038496906</td>\n",
       "      <td>0.478972</td>\n",
       "      <td>0.579097</td>\n",
       "      <td>0.638244</td>\n",
       "      <td>0.511928</td>\n",
       "      <td>0.675326</td>\n",
       "      <td>0.606272</td>\n",
       "      <td>0.762846</td>\n",
       "      <td>0</td>\n",
       "      <td>0</td>\n",
       "      <td>0</td>\n",
       "      <td>0</td>\n",
       "      <td>0.491632440384</td>\n",
       "    </tr>\n",
       "    <tr>\n",
       "      <th>5</th>\n",
       "      <td>Value 6</td>\n",
       "      <td>0.8899002493765586</td>\n",
       "      <td>0.920011</td>\n",
       "      <td>0.732506</td>\n",
       "      <td>0.671966</td>\n",
       "      <td>0.616595</td>\n",
       "      <td>0.667848</td>\n",
       "      <td>0.868355</td>\n",
       "      <td>0.276603</td>\n",
       "      <td>0</td>\n",
       "      <td>0</td>\n",
       "      <td>0</td>\n",
       "      <td>0</td>\n",
       "      <td>0.88990024937</td>\n",
       "    </tr>\n",
       "    <tr>\n",
       "      <th>6</th>\n",
       "      <td>Value 7</td>\n",
       "      <td>0.43750383130019005</td>\n",
       "      <td>0.440660</td>\n",
       "      <td>0.424193</td>\n",
       "      <td>0.428878</td>\n",
       "      <td>0.315652</td>\n",
       "      <td>0.451015</td>\n",
       "      <td>0.526459</td>\n",
       "      <td>0.211006</td>\n",
       "      <td>0</td>\n",
       "      <td>0</td>\n",
       "      <td>0</td>\n",
       "      <td>0</td>\n",
       "      <td>0.437503831300</td>\n",
       "    </tr>\n",
       "  </tbody>\n",
       "</table>\n",
       "</div>"
      ],
      "text/plain": [
       "  Main Column              January    February       March       April  \\\n",
       "0     Value 1                123.0  321.000000  312.000000  213.000000   \n",
       "1     Value 2                 67.0   34.000000   56.000000   76.000000   \n",
       "2     Value 3                 78.0   23.000000   77.000000   77.000000   \n",
       "3     Value 4                 89.0   12.000000   56.000000   55.000000   \n",
       "4     Value 5  0.49163244038496906    0.478972    0.579097    0.638244   \n",
       "5     Value 6   0.8899002493765586    0.920011    0.732506    0.671966   \n",
       "6     Value 7  0.43750383130019005    0.440660    0.424193    0.428878   \n",
       "\n",
       "          May        June        July      August  September  October  \\\n",
       "0  312.000000  222.000000  111.000000  124.000000          0        0   \n",
       "1  123.000000  545.000000  444.000000  442.000000          0        0   \n",
       "2  222.000000  434.000000  544.000000  234.000000          0        0   \n",
       "3   33.000000  333.000000  654.000000  423.000000          0        0   \n",
       "4    0.511928    0.675326    0.606272    0.762846          0        0   \n",
       "5    0.616595    0.667848    0.868355    0.276603          0        0   \n",
       "6    0.315652    0.451015    0.526459    0.211006          0        0   \n",
       "\n",
       "   November  December   January (int)  \n",
       "0         0         0                  \n",
       "1         0         0                  \n",
       "2         0         0                  \n",
       "3         0         0                  \n",
       "4         0         0  0.491632440384  \n",
       "5         0         0   0.88990024937  \n",
       "6         0         0  0.437503831300  "
      ]
     },
     "execution_count": 107,
     "metadata": {},
     "output_type": "execute_result"
    }
   ],
   "source": [
    "data = pd.read_excel(\"Practical_01_simple_file.xlsx\", header=1, usecols=\"A:M\", nrows=7) \n",
    "data.dropna(inplace = True) \n",
    "start, stop, step = 0, -5, 1\n",
    "data[\"January\"]= data[\"January\"].astype(str)\n",
    "data[\"January (int)\"]= data[\"January\"].str.slice(start, stop, step)\n",
    "data.head(10)"
   ]
  },
  {
   "cell_type": "markdown",
   "metadata": {},
   "source": [
    "# Exporting data to files"
   ]
  },
  {
   "cell_type": "code",
   "execution_count": 102,
   "metadata": {},
   "outputs": [
    {
     "name": "stdout",
     "output_type": "stream",
     "text": [
      "  first_name     last_name  age  Comedy_Score  Rating_Score\n",
      "0    Sheldon        Copper   42             9            25\n",
      "1        Raj  Koothrappali   38             7            25\n",
      "2    Leonard    Hofstadter   36             8            49\n",
      "3     Howard      Wolowitz   41             8            62\n",
      "4        Amy        Fowler   35             5            70\n"
     ]
    }
   ],
   "source": [
    "raw_data = {'first_name': ['Sheldon', 'Raj', 'Leonard', 'Howard', 'Amy'],\n",
    "                'last_name': ['Copper', 'Koothrappali', 'Hofstadter', 'Wolowitz', 'Fowler'],\n",
    "                'age': [42, 38, 36, 41, 35],\n",
    "                'Comedy_Score': [9, 7, 8, 8, 5],\n",
    "                'Rating_Score': [25, 25, 49, 62, 70]}\n",
    "\n",
    "df = pd.DataFrame(raw_data, columns = ['first_name', 'last_name', 'age','Comedy_Score', 'Rating_Score'])\n",
    "print(df)\n",
    "df.to_excel('Practical_01_raw_data.xlsx', index=False)\n",
    "\n",
    " "
   ]
  },
  {
   "cell_type": "markdown",
   "metadata": {},
   "source": [
    "# Columns and row manipulations with loops"
   ]
  },
  {
   "cell_type": "code",
   "execution_count": 103,
   "metadata": {},
   "outputs": [
    {
     "name": "stdout",
     "output_type": "stream",
     "text": [
      "Main Column 0    Value 1\n",
      "1    Value 2\n",
      "2    Value 3\n",
      "3    Value 4\n",
      "4    Value 5\n",
      "5    Value 6\n",
      "6    Value 7\n",
      "Name: Main Column, dtype: object\n",
      "\n",
      "January 0                  123.0\n",
      "1                   67.0\n",
      "2                   78.0\n",
      "3                   89.0\n",
      "4    0.49163244038496906\n",
      "5     0.8899002493765586\n",
      "6    0.43750383130019005\n",
      "Name: January, dtype: object\n",
      "\n",
      "February 0    321.000000\n",
      "1     34.000000\n",
      "2     23.000000\n",
      "3     12.000000\n",
      "4      0.478972\n",
      "5      0.920011\n",
      "6      0.440660\n",
      "Name: February, dtype: float64\n",
      "\n",
      "March 0    312.000000\n",
      "1     56.000000\n",
      "2     77.000000\n",
      "3     56.000000\n",
      "4      0.579097\n",
      "5      0.732506\n",
      "6      0.424193\n",
      "Name: March, dtype: float64\n",
      "\n",
      "April 0    213.000000\n",
      "1     76.000000\n",
      "2     77.000000\n",
      "3     55.000000\n",
      "4      0.638244\n",
      "5      0.671966\n",
      "6      0.428878\n",
      "Name: April, dtype: float64\n",
      "\n",
      "May 0    312.000000\n",
      "1    123.000000\n",
      "2    222.000000\n",
      "3     33.000000\n",
      "4      0.511928\n",
      "5      0.616595\n",
      "6      0.315652\n",
      "Name: May, dtype: float64\n",
      "\n",
      "June 0    222.000000\n",
      "1    545.000000\n",
      "2    434.000000\n",
      "3    333.000000\n",
      "4      0.675326\n",
      "5      0.667848\n",
      "6      0.451015\n",
      "Name: June, dtype: float64\n",
      "\n",
      "July 0    111.000000\n",
      "1    444.000000\n",
      "2    544.000000\n",
      "3    654.000000\n",
      "4      0.606272\n",
      "5      0.868355\n",
      "6      0.526459\n",
      "Name: July, dtype: float64\n",
      "\n",
      "August 0    124.000000\n",
      "1    442.000000\n",
      "2    234.000000\n",
      "3    423.000000\n",
      "4      0.762846\n",
      "5      0.276603\n",
      "6      0.211006\n",
      "Name: August, dtype: float64\n",
      "\n",
      "September 0    0\n",
      "1    0\n",
      "2    0\n",
      "3    0\n",
      "4    0\n",
      "5    0\n",
      "6    0\n",
      "Name: September, dtype: int64\n",
      "\n",
      "October 0    0\n",
      "1    0\n",
      "2    0\n",
      "3    0\n",
      "4    0\n",
      "5    0\n",
      "6    0\n",
      "Name: October, dtype: int64\n",
      "\n",
      "November 0    0\n",
      "1    0\n",
      "2    0\n",
      "3    0\n",
      "4    0\n",
      "5    0\n",
      "6    0\n",
      "Name: November, dtype: int64\n",
      "\n",
      "December 0    0\n",
      "1    0\n",
      "2    0\n",
      "3    0\n",
      "4    0\n",
      "5    0\n",
      "6    0\n",
      "Name: December, dtype: int64\n",
      "\n",
      "January (int) 0                  \n",
      "1                  \n",
      "2                  \n",
      "3                  \n",
      "4    0.491632440384\n",
      "5     0.88990024937\n",
      "6    0.437503831300\n",
      "Name: January (int), dtype: object\n",
      "\n"
     ]
    }
   ],
   "source": [
    "for key, value in data.iteritems():\n",
    "    print(key, value)\n",
    "    print()"
   ]
  },
  {
   "cell_type": "markdown",
   "metadata": {},
   "source": [
    "# Use pandas for masking data and reading if in Boolean format."
   ]
  },
  {
   "cell_type": "code",
   "execution_count": 114,
   "metadata": {},
   "outputs": [
    {
     "data": {
      "text/html": [
       "<div>\n",
       "<style scoped>\n",
       "    .dataframe tbody tr th:only-of-type {\n",
       "        vertical-align: middle;\n",
       "    }\n",
       "\n",
       "    .dataframe tbody tr th {\n",
       "        vertical-align: top;\n",
       "    }\n",
       "\n",
       "    .dataframe thead th {\n",
       "        text-align: right;\n",
       "    }\n",
       "</style>\n",
       "<table border=\"1\" class=\"dataframe\">\n",
       "  <thead>\n",
       "    <tr style=\"text-align: right;\">\n",
       "      <th></th>\n",
       "      <th>A</th>\n",
       "      <th>B</th>\n",
       "      <th>C</th>\n",
       "      <th>D</th>\n",
       "    </tr>\n",
       "  </thead>\n",
       "  <tbody>\n",
       "    <tr>\n",
       "      <th>0</th>\n",
       "      <td>12</td>\n",
       "      <td>5</td>\n",
       "      <td>-62</td>\n",
       "      <td>14</td>\n",
       "    </tr>\n",
       "    <tr>\n",
       "      <th>1</th>\n",
       "      <td>4</td>\n",
       "      <td>2</td>\n",
       "      <td>-62</td>\n",
       "      <td>3</td>\n",
       "    </tr>\n",
       "    <tr>\n",
       "      <th>2</th>\n",
       "      <td>5</td>\n",
       "      <td>-62</td>\n",
       "      <td>7</td>\n",
       "      <td>-62</td>\n",
       "    </tr>\n",
       "    <tr>\n",
       "      <th>3</th>\n",
       "      <td>-62</td>\n",
       "      <td>3</td>\n",
       "      <td>3</td>\n",
       "      <td>2</td>\n",
       "    </tr>\n",
       "    <tr>\n",
       "      <th>4</th>\n",
       "      <td>1</td>\n",
       "      <td>2</td>\n",
       "      <td>8</td>\n",
       "      <td>6</td>\n",
       "    </tr>\n",
       "  </tbody>\n",
       "</table>\n",
       "</div>"
      ],
      "text/plain": [
       "    A   B   C   D\n",
       "0  12   5 -62  14\n",
       "1   4   2 -62   3\n",
       "2   5 -62   7 -62\n",
       "3 -62   3   3   2\n",
       "4   1   2   8   6"
      ]
     },
     "execution_count": 114,
     "metadata": {},
     "output_type": "execute_result"
    }
   ],
   "source": [
    "import pandas as pd\n",
    "df = pd.DataFrame({\"A\":[12, 4, 5, 44, 1],\n",
    "                   \"B\":[5, 2, 54, 3, 2],\n",
    "                   \"C\":[20, 16, 7, 3, 8],\n",
    "                   \"D\":[14, 3, 17, 2, 6]})\n",
    "df.mask(df > 15, -62)"
   ]
  },
  {
   "cell_type": "markdown",
   "metadata": {},
   "source": [
    "# Matplotlib"
   ]
  },
  {
   "cell_type": "markdown",
   "metadata": {},
   "source": [
    "# Importing matplotlib"
   ]
  },
  {
   "cell_type": "code",
   "execution_count": 1,
   "metadata": {},
   "outputs": [],
   "source": [
    "from matplotlib import pyplot as plt"
   ]
  },
  {
   "cell_type": "markdown",
   "metadata": {},
   "source": [
    "# Simple line chart"
   ]
  },
  {
   "cell_type": "code",
   "execution_count": 2,
   "metadata": {},
   "outputs": [
    {
     "name": "stdout",
     "output_type": "stream",
     "text": [
      "[-1.         -0.95918367 -0.91836735 -0.87755102 -0.83673469 -0.79591837\n",
      " -0.75510204 -0.71428571 -0.67346939 -0.63265306 -0.59183673 -0.55102041\n",
      " -0.51020408 -0.46938776 -0.42857143 -0.3877551  -0.34693878 -0.30612245\n",
      " -0.26530612 -0.2244898  -0.18367347 -0.14285714 -0.10204082 -0.06122449\n",
      " -0.02040816  0.02040816  0.06122449  0.10204082  0.14285714  0.18367347\n",
      "  0.2244898   0.26530612  0.30612245  0.34693878  0.3877551   0.42857143\n",
      "  0.46938776  0.51020408  0.55102041  0.59183673  0.63265306  0.67346939\n",
      "  0.71428571  0.75510204  0.79591837  0.83673469  0.87755102  0.91836735\n",
      "  0.95918367  1.        ]\n"
     ]
    },
    {
     "data": {
      "image/png": "[encoded data removed]",
      "text/plain": [
       "<Figure size 432x288 with 1 Axes>"
      ]
     },
     "metadata": {
      "needs_background": "light"
     },
     "output_type": "display_data"
    }
   ],
   "source": [
    "import numpy as np\n",
    "\n",
    "x = np.linspace(-1, 1, 50)\n",
    "print(x)\n",
    "y = 2*x + 1\n",
    "\n",
    "plt.plot(x, y)\n",
    "plt.show()"
   ]
  },
  {
   "cell_type": "markdown",
   "metadata": {},
   "source": [
    "# Correlation chart"
   ]
  },
  {
   "cell_type": "code",
   "execution_count": 3,
   "metadata": {},
   "outputs": [
    {
     "data": {
      "image/png": "[encoded data removed]",
      "text/plain": [
       "<Figure size 432x288 with 1 Axes>"
      ]
     },
     "metadata": {
      "needs_background": "light"
     },
     "output_type": "display_data"
    }
   ],
   "source": [
    "import numpy as np\n",
    "x_axis = np.array([24.40,10.25,20.05,22.00,16.90,7.80,15.00,22.80,34.90,13.30])\n",
    "y_axis = np.array([-4.40,0.25,-0.05,2.00,6.90,-0.80,5.00,2.80,-4.90,3.30])\n",
    "lines = plot.xcorr(x_axis, y_axis, maxlags=9, usevlines=True)\n",
    "plot.title('Hypothetical Data: Angle of collision vs Energy lost')\n",
    "plot.xlabel('Angle of collision')\n",
    "plot.ylabel('Energy lost')    \n",
    "plot.grid(True)\n",
    "plot.axhline(0, color='red', lw=2)\n",
    "plot.show()"
   ]
  },
  {
   "cell_type": "markdown",
   "metadata": {},
   "source": [
    "# Histogram"
   ]
  },
  {
   "cell_type": "code",
   "execution_count": 11,
   "metadata": {},
   "outputs": [
    {
     "data": {
      "image/png": "[encoded data removed]",
      "text/plain": [
       "<Figure size 432x288 with 1 Axes>"
      ]
     },
     "metadata": {
      "needs_background": "light"
     },
     "output_type": "display_data"
    }
   ],
   "source": [
    "import numpy as np\n",
    "a = np.random.normal(0, 3, 3000)\n",
    "b = np.random.normal(2, 4, 2000)\n",
    "bins = np.linspace(-10, 10, 20)\n",
    "plt.hist([a, b], bins, label=['a', 'b'])\n",
    "plt.legend(loc='upper left')\n",
    "plt.show()"
   ]
  },
  {
   "cell_type": "markdown",
   "metadata": {},
   "source": [
    "# Plotting of Multivariate data"
   ]
  },
  {
   "cell_type": "code",
   "execution_count": 20,
   "metadata": {},
   "outputs": [
    {
     "data": {
      "image/png": "[encoded data removed]",
      "text/plain": [
       "<Figure size 500x300 with 1 Axes>"
      ]
     },
     "metadata": {},
     "output_type": "display_data"
    }
   ],
   "source": [
    "import pandas as pd\n",
    "import numpy as np\n",
    "from IPython.display import HTML\n",
    "\n",
    "# spin up a random dataframe of size 100\n",
    "np.random.seed(13)\n",
    "X = np.random.normal(50, 20, size=100)\n",
    "Y = 2 * X + np.random.randint(25)\n",
    "Z = np.random.choice(['pink', 'blue', 'green', 'red'], p=[0.1, 0.3, 0.4, 0.2], size=100)\n",
    "df = pd.DataFrame({'X': X, 'Y': Y, 'Z': Z})\n",
    "HTML(df.head().to_html(classes=\"table table-stripped table-hover table-dark\"))\n",
    "for size, color in zip([250, 80, 175, 30],['blue','green','pink','red']):    \n",
    "    color_index = df[df.Z == color].index\n",
    "    color_array = np.random.normal(size, 10, size = len(color_index))\n",
    "    for i in range(len(color_index)):\n",
    "        df.at[color_index[i], 'A'] = color_array[i]\n",
    "import matplotlib as mpl\n",
    "plt.rcParams.update(mpl.rcParamsDefault)\n",
    "\n",
    "plt.figure(figsize= (5, 3))\n",
    "\n",
    "plt.scatter(df[df['Z'] == 'green'].X, df[df['Z'] == 'green'].A\n",
    "            , color='yellowgreen');\n",
    "\n",
    "plt.scatter(df[df['Z'] == 'blue'].X, df[df['Z'] == 'blue'].A\n",
    "            , color='deepskyblue');\n",
    "\n",
    "plt.scatter(df[df['Z'] == 'pink'].X, df[df['Z'] == 'pink'].A\n",
    "            , color='hotpink');\n",
    "\n",
    "plt.scatter(df[df['Z'] == 'red'].X, df[df['Z'] == 'red'].A\n",
    "            , color='tomato');\n"
   ]
  },
  {
   "cell_type": "markdown",
   "metadata": {},
   "source": [
    "# Plot Pi Chart"
   ]
  },
  {
   "cell_type": "code",
   "execution_count": 21,
   "metadata": {},
   "outputs": [
    {
     "data": {
      "image/png": "[encoded data removed]",
      "text/plain": [
       "<Figure size 640x480 with 1 Axes>"
      ]
     },
     "metadata": {},
     "output_type": "display_data"
    }
   ],
   "source": [
    "labels = ['Cookies', 'Jellybean', 'Milkshake', 'Cheesecake']\n",
    "sizes = [38.4, 40.6, 20.7, 10.3]\n",
    "colors = ['yellowgreen', 'gold', 'lightskyblue', 'lightcoral']\n",
    "patches, texts = plt.pie(sizes, colors=colors, shadow=True, startangle=90)\n",
    "plt.legend(patches, labels, loc=\"best\")\n",
    "plt.axis('equal')\n",
    "plt.tight_layout()\n",
    "plt.show()"
   ]
  },
  {
   "cell_type": "code",
   "execution_count": null,
   "metadata": {},
   "outputs": [],
   "source": []
  }
 ],
 "metadata": {
  "kernelspec": {
   "display_name": "Python 3 (ipykernel)",
   "language": "python",
   "name": "python3"
  },
  "language_info": {
   "codemirror_mode": {
    "name": "ipython",
    "version": 3
   },
   "file_extension": ".py",
   "mimetype": "text/x-python",
   "name": "python",
   "nbconvert_exporter": "python",
   "pygments_lexer": "ipython3",
   "version": "3.7.4"
  }
 },
 "nbformat": 4,
 "nbformat_minor": 2
}
