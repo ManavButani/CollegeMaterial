{
 "cells": [
  {
   "cell_type": "code",
   "execution_count": 7,
   "id": "6ff17e03",
   "metadata": {},
   "outputs": [],
   "source": [
    "import numpy as np\n",
    "import matplotlib.pyplot as plt\n",
    "from sklearn.svm import SVC\n",
    "from sklearn.datasets import make_blobs\n",
    "from sklearn import datasets\n",
    "import seaborn as sns"
   ]
  },
  {
   "cell_type": "code",
   "execution_count": 11,
   "id": "3f5d030c",
   "metadata": {},
   "outputs": [
    {
     "name": "stdout",
     "output_type": "stream",
     "text": [
      "(40, 2) (40,)\n"
     ]
    },
    {
     "data": {
      "image/png": "[encoded data removed]",
      "text/plain": [
       "<Figure size 432x288 with 1 Axes>"
      ]
     },
     "metadata": {
      "needs_background": "light"
     },
     "output_type": "display_data"
    }
   ],
   "source": [
    "X, y = make_blobs(n_samples=40, centers=2, random_state=4)\n",
    "plt.scatter(X[:, 0], X[:, 1], c='black')\n",
    "print(X.shape,y.shape)"
   ]
  },
  {
   "cell_type": "code",
   "execution_count": 15,
   "id": "dbe5d7fd",
   "metadata": {},
   "outputs": [
    {
     "name": "stdout",
     "output_type": "stream",
     "text": [
      "[[ 9.78593723  3.14884324]\n",
      " [ 8.92229526 -0.63993225]\n",
      " [ 8.69289001  1.54322016]\n",
      " [10.07235689  4.20833295]\n",
      " [ 8.34468785  1.63824349]]\n",
      "**************************************\n",
      "[1 0 0 1 0]\n",
      "(5, 2) (5,)\n"
     ]
    }
   ],
   "source": [
    "X, y = make_blobs(n_samples=5, centers=2, random_state=4)\n",
    "print(X)\n",
    "print(\"**************************************\")\n",
    "print(y)\n",
    "print(X.shape,y.shape)\n",
    "# two featuresw because default is 2, n_feature"
   ]
  },
  {
   "cell_type": "code",
   "execution_count": 19,
   "id": "12c3ff16",
   "metadata": {},
   "outputs": [
    {
     "data": {
      "text/plain": [
       "'\\nc : array-like or list of colors or color, optional\\n    The marker colors. Possible values:\\n\\n    - A scalar or sequence of n numbers to be mapped to colors using\\n      *cmap* and *norm*.\\n    - A 2D array in which the rows are RGB or RGBA.\\n    - A sequence of colors of length n.\\n    - A single color format string.\\n'"
      ]
     },
     "execution_count": 19,
     "metadata": {},
     "output_type": "execute_result"
    },
    {
     "data": {
      "image/png": "[encoded data removed]",
      "text/plain": [
       "<Figure size 432x288 with 1 Axes>"
      ]
     },
     "metadata": {
      "needs_background": "light"
     },
     "output_type": "display_data"
    }
   ],
   "source": [
    "plt.scatter(X[:, 0], X[:, 1], c=y, cmap=plt.cm.Set3, edgecolor=\"k\")\n",
    "#edgecolor represents border of circle color\n",
    "#cmap set of color of datapoints\n",
    "#c denotes color\n",
    "#c and cmap both are related\n",
    "\n",
    "\"\"\"\n",
    "c : array-like or list of colors or color, optional\n",
    "    The marker colors. Possible values:\n",
    "\n",
    "    - A scalar or sequence of n numbers to be mapped to colors using\n",
    "      *cmap* and *norm*.\n",
    "    - A 2D array in which the rows are RGB or RGBA.\n",
    "    - A sequence of colors of length n.\n",
    "    - A single color format string.\n",
    "\"\"\""
   ]
  },
  {
   "cell_type": "code",
   "execution_count": 20,
   "id": "e386b41e",
   "metadata": {},
   "outputs": [
    {
     "data": {
      "text/plain": [
       "\"\\nkernel : {'linear', 'poly', 'rbf', 'sigmoid', 'precomputed'}, default='rbf'\\n    Specifies the kernel type to be used in the algorithm.\\n    It must be one of 'linear', 'poly', 'rbf', 'sigmoid', 'precomputed' or\\n    a callable\\n\\nC : float, default=1.0\\n    Regularization parameter. The strength of the regularization is\\n    inversely proportional to C. Must be strictly positive. The penalty\\n    is a squared l2 penalty.\\n    \\nThe Regularization parameter (often termed as C parameter in python's sklearn library) \\ntells the SVM optimization how much you want to avoid misclassifying each training example.\\n\\n\""
      ]
     },
     "execution_count": 20,
     "metadata": {},
     "output_type": "execute_result"
    }
   ],
   "source": [
    "model = SVC(kernel=\"linear\", C=0.10)\n",
    "model.fit(X,y)\n",
    "\n",
    "\"\"\"\n",
    "kernel : {'linear', 'poly', 'rbf', 'sigmoid', 'precomputed'}, default='rbf'\n",
    "    Specifies the kernel type to be used in the algorithm.\n",
    "    It must be one of 'linear', 'poly', 'rbf', 'sigmoid', 'precomputed' or\n",
    "    a callable\n",
    "\n",
    "C : float, default=1.0\n",
    "    Regularization parameter. The strength of the regularization is\n",
    "    inversely proportional to C. Must be strictly positive. The penalty\n",
    "    is a squared l2 penalty.\n",
    "    \n",
    "The Regularization parameter (often termed as C parameter in python's sklearn library) \n",
    "tells the SVM optimization how much you want to avoid misclassifying each training example.\n",
    "\n",
    "\"\"\""
   ]
  },
  {
   "cell_type": "code",
   "execution_count": 22,
   "id": "65ba0e4d",
   "metadata": {},
   "outputs": [
    {
     "data": {
      "text/plain": [
       "<matplotlib.collections.PathCollection at 0x283e7538be0>"
      ]
     },
     "execution_count": 22,
     "metadata": {},
     "output_type": "execute_result"
    },
    {
     "data": {
      "image/png": "[encoded data removed]",
      "text/plain": [
       "<Figure size 432x288 with 1 Axes>"
      ]
     },
     "metadata": {
      "needs_background": "light"
     },
     "output_type": "display_data"
    }
   ],
   "source": [
    "plt.scatter(X[:, 0], X[:, 1], c=y)"
   ]
  },
  {
   "cell_type": "code",
   "execution_count": 24,
   "id": "6d457d65",
   "metadata": {},
   "outputs": [
    {
     "data": {
      "text/plain": [
       "'\\nGet the current Axes, creating one if necessary.\\n\\nThe following kwargs are supported for ensuring the returned Axes\\nadheres to the given projection etc., and for Axes creation if\\nthe active Axes does not exist:\\n'"
      ]
     },
     "execution_count": 24,
     "metadata": {},
     "output_type": "execute_result"
    },
    {
     "data": {
      "image/png": "[encoded data removed]",
      "text/plain": [
       "<Figure size 432x288 with 1 Axes>"
      ]
     },
     "metadata": {
      "needs_background": "light"
     },
     "output_type": "display_data"
    }
   ],
   "source": [
    "ax = plt.gca()\n",
    "\n",
    "\"\"\"\n",
    "Get the current Axes, creating one if necessary.\n",
    "\n",
    "The following kwargs are supported for ensuring the returned Axes\n",
    "adheres to the given projection etc., and for Axes creation if\n",
    "the active Axes does not exist:\n",
    "\"\"\""
   ]
  },
  {
   "cell_type": "code",
   "execution_count": 26,
   "id": "db074c30",
   "metadata": {},
   "outputs": [
    {
     "name": "stdout",
     "output_type": "stream",
     "text": [
      "(0.0, 1.0)\n",
      "(0.0, 1.0)\n"
     ]
    }
   ],
   "source": [
    "xlim = ax.get_xlim()\n",
    "ylim = ax.get_ylim()\n",
    "\n",
    "\"\"\"\n",
    "\n",
    "Returns\n",
    "-------\n",
    "bottom, top : (float, float)\n",
    "    The current y-axis limits in data coordinates.\n",
    "    \n",
    "\"\"\"\n",
    "print(xlim)\n",
    "print(ylim)"
   ]
  },
  {
   "cell_type": "code",
   "execution_count": 28,
   "id": "653670e0",
   "metadata": {},
   "outputs": [
    {
     "data": {
      "text/plain": [
       "array([0.  , 0.25, 0.5 , 0.75, 1.  ])"
      ]
     },
     "execution_count": 28,
     "metadata": {},
     "output_type": "execute_result"
    }
   ],
   "source": [
    "xx = np.linspace(xlim[0], xlim[1], 5)\n",
    "yy = np.linspace(ylim[0], ylim[1], 30)\n",
    "\n",
    "\"\"\"\n",
    "Return evenly spaced numbers over a specified interval.\n",
    "\n",
    "Returns `num` evenly spaced samples, calculated over the\n",
    "interval [`start`, `stop`].\n",
    "\n",
    "\"\"\"\n",
    "\n",
    "xx"
   ]
  },
  {
   "cell_type": "code",
   "execution_count": 29,
   "id": "fb202d3c",
   "metadata": {},
   "outputs": [],
   "source": [
    "YY, XX = np.meshgrid(yy, xx)\n",
    "# Return coordinate matrices from coordinate vectors."
   ]
  },
  {
   "cell_type": "code",
   "execution_count": 32,
   "id": "cef8db1d",
   "metadata": {},
   "outputs": [
    {
     "data": {
      "text/plain": [
       "array([[0.        , 0.        ],\n",
       "       [0.        , 0.03448276],\n",
       "       [0.        , 0.06896552],\n",
       "       [0.        , 0.10344828],\n",
       "       [0.        , 0.13793103],\n",
       "       [0.        , 0.17241379],\n",
       "       [0.        , 0.20689655],\n",
       "       [0.        , 0.24137931],\n",
       "       [0.        , 0.27586207],\n",
       "       [0.        , 0.31034483],\n",
       "       [0.        , 0.34482759],\n",
       "       [0.        , 0.37931034],\n",
       "       [0.        , 0.4137931 ],\n",
       "       [0.        , 0.44827586],\n",
       "       [0.        , 0.48275862],\n",
       "       [0.        , 0.51724138],\n",
       "       [0.        , 0.55172414],\n",
       "       [0.        , 0.5862069 ],\n",
       "       [0.        , 0.62068966],\n",
       "       [0.        , 0.65517241],\n",
       "       [0.        , 0.68965517],\n",
       "       [0.        , 0.72413793],\n",
       "       [0.        , 0.75862069],\n",
       "       [0.        , 0.79310345],\n",
       "       [0.        , 0.82758621],\n",
       "       [0.        , 0.86206897],\n",
       "       [0.        , 0.89655172],\n",
       "       [0.        , 0.93103448],\n",
       "       [0.        , 0.96551724],\n",
       "       [0.        , 1.        ],\n",
       "       [0.25      , 0.        ],\n",
       "       [0.25      , 0.03448276],\n",
       "       [0.25      , 0.06896552],\n",
       "       [0.25      , 0.10344828],\n",
       "       [0.25      , 0.13793103],\n",
       "       [0.25      , 0.17241379],\n",
       "       [0.25      , 0.20689655],\n",
       "       [0.25      , 0.24137931],\n",
       "       [0.25      , 0.27586207],\n",
       "       [0.25      , 0.31034483],\n",
       "       [0.25      , 0.34482759],\n",
       "       [0.25      , 0.37931034],\n",
       "       [0.25      , 0.4137931 ],\n",
       "       [0.25      , 0.44827586],\n",
       "       [0.25      , 0.48275862],\n",
       "       [0.25      , 0.51724138],\n",
       "       [0.25      , 0.55172414],\n",
       "       [0.25      , 0.5862069 ],\n",
       "       [0.25      , 0.62068966],\n",
       "       [0.25      , 0.65517241],\n",
       "       [0.25      , 0.68965517],\n",
       "       [0.25      , 0.72413793],\n",
       "       [0.25      , 0.75862069],\n",
       "       [0.25      , 0.79310345],\n",
       "       [0.25      , 0.82758621],\n",
       "       [0.25      , 0.86206897],\n",
       "       [0.25      , 0.89655172],\n",
       "       [0.25      , 0.93103448],\n",
       "       [0.25      , 0.96551724],\n",
       "       [0.25      , 1.        ],\n",
       "       [0.5       , 0.        ],\n",
       "       [0.5       , 0.03448276],\n",
       "       [0.5       , 0.06896552],\n",
       "       [0.5       , 0.10344828],\n",
       "       [0.5       , 0.13793103],\n",
       "       [0.5       , 0.17241379],\n",
       "       [0.5       , 0.20689655],\n",
       "       [0.5       , 0.24137931],\n",
       "       [0.5       , 0.27586207],\n",
       "       [0.5       , 0.31034483],\n",
       "       [0.5       , 0.34482759],\n",
       "       [0.5       , 0.37931034],\n",
       "       [0.5       , 0.4137931 ],\n",
       "       [0.5       , 0.44827586],\n",
       "       [0.5       , 0.48275862],\n",
       "       [0.5       , 0.51724138],\n",
       "       [0.5       , 0.55172414],\n",
       "       [0.5       , 0.5862069 ],\n",
       "       [0.5       , 0.62068966],\n",
       "       [0.5       , 0.65517241],\n",
       "       [0.5       , 0.68965517],\n",
       "       [0.5       , 0.72413793],\n",
       "       [0.5       , 0.75862069],\n",
       "       [0.5       , 0.79310345],\n",
       "       [0.5       , 0.82758621],\n",
       "       [0.5       , 0.86206897],\n",
       "       [0.5       , 0.89655172],\n",
       "       [0.5       , 0.93103448],\n",
       "       [0.5       , 0.96551724],\n",
       "       [0.5       , 1.        ],\n",
       "       [0.75      , 0.        ],\n",
       "       [0.75      , 0.03448276],\n",
       "       [0.75      , 0.06896552],\n",
       "       [0.75      , 0.10344828],\n",
       "       [0.75      , 0.13793103],\n",
       "       [0.75      , 0.17241379],\n",
       "       [0.75      , 0.20689655],\n",
       "       [0.75      , 0.24137931],\n",
       "       [0.75      , 0.27586207],\n",
       "       [0.75      , 0.31034483],\n",
       "       [0.75      , 0.34482759],\n",
       "       [0.75      , 0.37931034],\n",
       "       [0.75      , 0.4137931 ],\n",
       "       [0.75      , 0.44827586],\n",
       "       [0.75      , 0.48275862],\n",
       "       [0.75      , 0.51724138],\n",
       "       [0.75      , 0.55172414],\n",
       "       [0.75      , 0.5862069 ],\n",
       "       [0.75      , 0.62068966],\n",
       "       [0.75      , 0.65517241],\n",
       "       [0.75      , 0.68965517],\n",
       "       [0.75      , 0.72413793],\n",
       "       [0.75      , 0.75862069],\n",
       "       [0.75      , 0.79310345],\n",
       "       [0.75      , 0.82758621],\n",
       "       [0.75      , 0.86206897],\n",
       "       [0.75      , 0.89655172],\n",
       "       [0.75      , 0.93103448],\n",
       "       [0.75      , 0.96551724],\n",
       "       [0.75      , 1.        ],\n",
       "       [1.        , 0.        ],\n",
       "       [1.        , 0.03448276],\n",
       "       [1.        , 0.06896552],\n",
       "       [1.        , 0.10344828],\n",
       "       [1.        , 0.13793103],\n",
       "       [1.        , 0.17241379],\n",
       "       [1.        , 0.20689655],\n",
       "       [1.        , 0.24137931],\n",
       "       [1.        , 0.27586207],\n",
       "       [1.        , 0.31034483],\n",
       "       [1.        , 0.34482759],\n",
       "       [1.        , 0.37931034],\n",
       "       [1.        , 0.4137931 ],\n",
       "       [1.        , 0.44827586],\n",
       "       [1.        , 0.48275862],\n",
       "       [1.        , 0.51724138],\n",
       "       [1.        , 0.55172414],\n",
       "       [1.        , 0.5862069 ],\n",
       "       [1.        , 0.62068966],\n",
       "       [1.        , 0.65517241],\n",
       "       [1.        , 0.68965517],\n",
       "       [1.        , 0.72413793],\n",
       "       [1.        , 0.75862069],\n",
       "       [1.        , 0.79310345],\n",
       "       [1.        , 0.82758621],\n",
       "       [1.        , 0.86206897],\n",
       "       [1.        , 0.89655172],\n",
       "       [1.        , 0.93103448],\n",
       "       [1.        , 0.96551724],\n",
       "       [1.        , 1.        ]])"
      ]
     },
     "execution_count": 32,
     "metadata": {},
     "output_type": "execute_result"
    }
   ],
   "source": [
    "xy = np.vstack([XX.ravel(), YY.ravel()]).T\n",
    "\"\"\"\n",
    "\n",
    "ravel() Return a flattened array.\n",
    "vstack() Stack arrays in sequence vertically (row wise).\n",
    "\n",
    "\"\"\"\n",
    "\n",
    "xy"
   ]
  },
  {
   "cell_type": "code",
   "execution_count": null,
   "id": "1e595483",
   "metadata": {},
   "outputs": [],
   "source": []
  }
 ],
 "metadata": {
  "kernelspec": {
   "display_name": "Python 3 (ipykernel)",
   "language": "python",
   "name": "python3"
  },
  "language_info": {
   "codemirror_mode": {
    "name": "ipython",
    "version": 3
   },
   "file_extension": ".py",
   "mimetype": "text/x-python",
   "name": "python",
   "nbconvert_exporter": "python",
   "pygments_lexer": "ipython3",
   "version": "3.9.7"
  }
 },
 "nbformat": 4,
 "nbformat_minor": 5
}
