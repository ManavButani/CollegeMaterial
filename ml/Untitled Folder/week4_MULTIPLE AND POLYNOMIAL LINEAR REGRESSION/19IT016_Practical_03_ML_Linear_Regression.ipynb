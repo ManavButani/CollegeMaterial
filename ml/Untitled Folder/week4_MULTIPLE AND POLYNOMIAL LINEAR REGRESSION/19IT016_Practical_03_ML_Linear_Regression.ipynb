{
 "cells": [
  {
   "cell_type": "markdown",
   "id": "171765d8",
   "metadata": {},
   "source": [
    "# **19IT016 Manav Butani**\n",
    "# Week 4: Multiple and Polynomial Regression\n",
    "\n",
    "## Houseprice Prediction Dataset"
   ]
  },
  {
   "cell_type": "markdown",
   "id": "acadaafc",
   "metadata": {
    "papermill": {
     "duration": 0.018043,
     "end_time": "2022-01-13T09:20:52.391158",
     "exception": false,
     "start_time": "2022-01-13T09:20:52.373115",
     "status": "completed"
    },
    "tags": []
   },
   "source": [
    "**Importing Libraries**"
   ]
  },
  {
   "cell_type": "code",
   "execution_count": 1,
   "id": "91c341f5",
   "metadata": {
    "execution": {
     "iopub.execute_input": "2022-01-13T09:20:52.432085Z",
     "iopub.status.busy": "2022-01-13T09:20:52.430850Z",
     "iopub.status.idle": "2022-01-13T09:20:52.439458Z",
     "shell.execute_reply": "2022-01-13T09:20:52.439998Z",
     "shell.execute_reply.started": "2022-01-13T08:36:25.904240Z"
    },
    "papermill": {
     "duration": 0.030835,
     "end_time": "2022-01-13T09:20:52.440298",
     "exception": false,
     "start_time": "2022-01-13T09:20:52.409463",
     "status": "completed"
    },
    "tags": []
   },
   "outputs": [],
   "source": [
    "import pandas as pd\n",
    "import numpy as np\n",
    "import matplotlib.pyplot as plt"
   ]
  },
  {
   "cell_type": "markdown",
   "id": "d8e3ff14",
   "metadata": {
    "papermill": {
     "duration": 0.017934,
     "end_time": "2022-01-13T09:20:52.477044",
     "exception": false,
     "start_time": "2022-01-13T09:20:52.459110",
     "status": "completed"
    },
    "tags": []
   },
   "source": [
    "**Why you want to apply regression on selected dataset?**\n",
    "\n",
    "Because our Y which is target variable is of continuous type so we can apply regression"
   ]
  },
  {
   "cell_type": "code",
   "execution_count": 2,
   "id": "748e0121",
   "metadata": {
    "execution": {
     "iopub.execute_input": "2022-01-13T09:20:52.520276Z",
     "iopub.status.busy": "2022-01-13T09:20:52.519576Z",
     "iopub.status.idle": "2022-01-13T09:20:52.553675Z",
     "shell.execute_reply": "2022-01-13T09:20:52.554194Z",
     "shell.execute_reply.started": "2022-01-13T08:38:09.144952Z"
    },
    "papermill": {
     "duration": 0.05905,
     "end_time": "2022-01-13T09:20:52.554376",
     "exception": false,
     "start_time": "2022-01-13T09:20:52.495326",
     "status": "completed"
    },
    "tags": []
   },
   "outputs": [
    {
     "data": {
      "text/html": [
       "<div>\n",
       "<style scoped>\n",
       "    .dataframe tbody tr th:only-of-type {\n",
       "        vertical-align: middle;\n",
       "    }\n",
       "\n",
       "    .dataframe tbody tr th {\n",
       "        vertical-align: top;\n",
       "    }\n",
       "\n",
       "    .dataframe thead th {\n",
       "        text-align: right;\n",
       "    }\n",
       "</style>\n",
       "<table border=\"1\" class=\"dataframe\">\n",
       "  <thead>\n",
       "    <tr style=\"text-align: right;\">\n",
       "      <th></th>\n",
       "      <th>Area</th>\n",
       "      <th>Garage</th>\n",
       "      <th>FirePlace</th>\n",
       "      <th>Baths</th>\n",
       "      <th>White Marble</th>\n",
       "      <th>Black Marble</th>\n",
       "      <th>Indian Marble</th>\n",
       "      <th>Floors</th>\n",
       "      <th>City</th>\n",
       "      <th>Solar</th>\n",
       "      <th>Electric</th>\n",
       "      <th>Fiber</th>\n",
       "      <th>Glass Doors</th>\n",
       "      <th>Swiming Pool</th>\n",
       "      <th>Garden</th>\n",
       "      <th>Prices</th>\n",
       "    </tr>\n",
       "  </thead>\n",
       "  <tbody>\n",
       "    <tr>\n",
       "      <th>0</th>\n",
       "      <td>164</td>\n",
       "      <td>2</td>\n",
       "      <td>0</td>\n",
       "      <td>2</td>\n",
       "      <td>0</td>\n",
       "      <td>1</td>\n",
       "      <td>0</td>\n",
       "      <td>0</td>\n",
       "      <td>3</td>\n",
       "      <td>1</td>\n",
       "      <td>1</td>\n",
       "      <td>1</td>\n",
       "      <td>1</td>\n",
       "      <td>0</td>\n",
       "      <td>0</td>\n",
       "      <td>43800</td>\n",
       "    </tr>\n",
       "    <tr>\n",
       "      <th>1</th>\n",
       "      <td>84</td>\n",
       "      <td>2</td>\n",
       "      <td>0</td>\n",
       "      <td>4</td>\n",
       "      <td>0</td>\n",
       "      <td>0</td>\n",
       "      <td>1</td>\n",
       "      <td>1</td>\n",
       "      <td>2</td>\n",
       "      <td>0</td>\n",
       "      <td>0</td>\n",
       "      <td>0</td>\n",
       "      <td>1</td>\n",
       "      <td>1</td>\n",
       "      <td>1</td>\n",
       "      <td>37550</td>\n",
       "    </tr>\n",
       "    <tr>\n",
       "      <th>2</th>\n",
       "      <td>190</td>\n",
       "      <td>2</td>\n",
       "      <td>4</td>\n",
       "      <td>4</td>\n",
       "      <td>1</td>\n",
       "      <td>0</td>\n",
       "      <td>0</td>\n",
       "      <td>0</td>\n",
       "      <td>2</td>\n",
       "      <td>0</td>\n",
       "      <td>0</td>\n",
       "      <td>1</td>\n",
       "      <td>0</td>\n",
       "      <td>0</td>\n",
       "      <td>0</td>\n",
       "      <td>49500</td>\n",
       "    </tr>\n",
       "    <tr>\n",
       "      <th>3</th>\n",
       "      <td>75</td>\n",
       "      <td>2</td>\n",
       "      <td>4</td>\n",
       "      <td>4</td>\n",
       "      <td>0</td>\n",
       "      <td>0</td>\n",
       "      <td>1</td>\n",
       "      <td>1</td>\n",
       "      <td>1</td>\n",
       "      <td>1</td>\n",
       "      <td>1</td>\n",
       "      <td>1</td>\n",
       "      <td>1</td>\n",
       "      <td>1</td>\n",
       "      <td>1</td>\n",
       "      <td>50075</td>\n",
       "    </tr>\n",
       "    <tr>\n",
       "      <th>4</th>\n",
       "      <td>148</td>\n",
       "      <td>1</td>\n",
       "      <td>4</td>\n",
       "      <td>2</td>\n",
       "      <td>1</td>\n",
       "      <td>0</td>\n",
       "      <td>0</td>\n",
       "      <td>1</td>\n",
       "      <td>2</td>\n",
       "      <td>1</td>\n",
       "      <td>0</td>\n",
       "      <td>0</td>\n",
       "      <td>1</td>\n",
       "      <td>1</td>\n",
       "      <td>1</td>\n",
       "      <td>52400</td>\n",
       "    </tr>\n",
       "  </tbody>\n",
       "</table>\n",
       "</div>"
      ],
      "text/plain": [
       "   Area  Garage  FirePlace  Baths  White Marble  Black Marble  Indian Marble  \\\n",
       "0   164       2          0      2             0             1              0   \n",
       "1    84       2          0      4             0             0              1   \n",
       "2   190       2          4      4             1             0              0   \n",
       "3    75       2          4      4             0             0              1   \n",
       "4   148       1          4      2             1             0              0   \n",
       "\n",
       "   Floors  City  Solar  Electric  Fiber  Glass Doors  Swiming Pool  Garden  \\\n",
       "0       0     3      1         1      1            1             0       0   \n",
       "1       1     2      0         0      0            1             1       1   \n",
       "2       0     2      0         0      1            0             0       0   \n",
       "3       1     1      1         1      1            1             1       1   \n",
       "4       1     2      1         0      0            1             1       1   \n",
       "\n",
       "   Prices  \n",
       "0   43800  \n",
       "1   37550  \n",
       "2   49500  \n",
       "3   50075  \n",
       "4   52400  "
      ]
     },
     "execution_count": 2,
     "metadata": {},
     "output_type": "execute_result"
    }
   ],
   "source": [
    "df = pd.read_csv('HousePrices_HalfMil.CSV')\n",
    "df.head()"
   ]
  },
  {
   "cell_type": "markdown",
   "id": "dc6e5541",
   "metadata": {
    "papermill": {
     "duration": 0.020437,
     "end_time": "2022-01-13T09:20:52.596597",
     "exception": false,
     "start_time": "2022-01-13T09:20:52.576160",
     "status": "completed"
    },
    "tags": []
   },
   "source": [
    "**How many total observations in data?**\n",
    "\n",
    "The dimensionality of the dataset is the number of rows x columns in the dataset. The rows represent the observations and the columns represent the variables. The shape attribute of the DataFrame class returns a tuple representing rows x columns.There are 500000 observations (rows) and 16 variables (columns) in the dataset.\n"
   ]
  },
  {
   "cell_type": "code",
   "execution_count": 3,
   "id": "83e09ac2",
   "metadata": {},
   "outputs": [
    {
     "name": "stdout",
     "output_type": "stream",
     "text": [
      "500000\n",
      "(500000, 16)\n"
     ]
    }
   ],
   "source": [
    "print(len(df))\n",
    "print(df.shape)"
   ]
  },
  {
   "cell_type": "markdown",
   "id": "9dffa1dd",
   "metadata": {
    "papermill": {
     "duration": 0.020179,
     "end_time": "2022-01-13T09:20:52.637970",
     "exception": false,
     "start_time": "2022-01-13T09:20:52.617791",
     "status": "completed"
    },
    "tags": []
   },
   "source": [
    "**How many independent variables?**\n",
    "\n",
    "In This dataset,we could say Area,\tGarage,\tFirePlace,\tBaths,\tWhite Marble,\tBlack Marble,\tIndian Marble,\tFloors,\tCity,\tSolar,\tElectric,\tFiber,\tGlass Doors, Swiming Pool,\tGarden are the independent variables."
   ]
  },
  {
   "cell_type": "markdown",
   "id": "804a0868",
   "metadata": {
    "papermill": {
     "duration": 0.020009,
     "end_time": "2022-01-13T09:20:52.677420",
     "exception": false,
     "start_time": "2022-01-13T09:20:52.657411",
     "status": "completed"
    },
    "tags": []
   },
   "source": [
    "**Which is dependent variable?**\n",
    "\n",
    "Prices is the dependent variable."
   ]
  },
  {
   "cell_type": "markdown",
   "id": "f3b8ab78",
   "metadata": {
    "papermill": {
     "duration": 0.018053,
     "end_time": "2022-01-13T09:20:52.713931",
     "exception": false,
     "start_time": "2022-01-13T09:20:52.695878",
     "status": "completed"
    },
    "tags": []
   },
   "source": [
    "**Which are most useful variable in estimation? Prove using correlation.**\n",
    "\n",
    "In this dataset Area, Baths, White Marble, Floors,\tCity, Fiber, Glass Doors are useful."
   ]
  },
  {
   "cell_type": "code",
   "execution_count": 4,
   "id": "871cab40",
   "metadata": {
    "execution": {
     "iopub.execute_input": "2022-01-13T09:20:52.766192Z",
     "iopub.status.busy": "2022-01-13T09:20:52.765414Z",
     "iopub.status.idle": "2022-01-13T09:20:52.768221Z",
     "shell.execute_reply": "2022-01-13T09:20:52.768762Z",
     "shell.execute_reply.started": "2022-01-13T08:42:34.568883Z"
    },
    "papermill": {
     "duration": 0.035285,
     "end_time": "2022-01-13T09:20:52.768938",
     "exception": false,
     "start_time": "2022-01-13T09:20:52.733653",
     "status": "completed"
    },
    "tags": []
   },
   "outputs": [
    {
     "data": {
      "text/html": [
       "<div>\n",
       "<style scoped>\n",
       "    .dataframe tbody tr th:only-of-type {\n",
       "        vertical-align: middle;\n",
       "    }\n",
       "\n",
       "    .dataframe tbody tr th {\n",
       "        vertical-align: top;\n",
       "    }\n",
       "\n",
       "    .dataframe thead th {\n",
       "        text-align: right;\n",
       "    }\n",
       "</style>\n",
       "<table border=\"1\" class=\"dataframe\">\n",
       "  <thead>\n",
       "    <tr style=\"text-align: right;\">\n",
       "      <th></th>\n",
       "      <th>Area</th>\n",
       "      <th>Garage</th>\n",
       "      <th>FirePlace</th>\n",
       "      <th>Baths</th>\n",
       "      <th>White Marble</th>\n",
       "      <th>Black Marble</th>\n",
       "      <th>Indian Marble</th>\n",
       "      <th>Floors</th>\n",
       "      <th>City</th>\n",
       "      <th>Solar</th>\n",
       "      <th>Electric</th>\n",
       "      <th>Fiber</th>\n",
       "      <th>Glass Doors</th>\n",
       "      <th>Swiming Pool</th>\n",
       "      <th>Garden</th>\n",
       "      <th>Prices</th>\n",
       "    </tr>\n",
       "  </thead>\n",
       "  <tbody>\n",
       "    <tr>\n",
       "      <th>Area</th>\n",
       "      <td>1.000000</td>\n",
       "      <td>-0.000897</td>\n",
       "      <td>0.000374</td>\n",
       "      <td>-0.000398</td>\n",
       "      <td>0.002525</td>\n",
       "      <td>-0.001477</td>\n",
       "      <td>-0.001047</td>\n",
       "      <td>-0.000776</td>\n",
       "      <td>-0.003455</td>\n",
       "      <td>0.000526</td>\n",
       "      <td>-0.000128</td>\n",
       "      <td>0.000114</td>\n",
       "      <td>-0.001230</td>\n",
       "      <td>0.000610</td>\n",
       "      <td>0.001428</td>\n",
       "      <td>0.147717</td>\n",
       "    </tr>\n",
       "    <tr>\n",
       "      <th>Garage</th>\n",
       "      <td>-0.000897</td>\n",
       "      <td>1.000000</td>\n",
       "      <td>0.001307</td>\n",
       "      <td>-0.003647</td>\n",
       "      <td>0.000541</td>\n",
       "      <td>0.001847</td>\n",
       "      <td>-0.002385</td>\n",
       "      <td>-0.000931</td>\n",
       "      <td>0.000793</td>\n",
       "      <td>0.001480</td>\n",
       "      <td>0.000779</td>\n",
       "      <td>-0.000562</td>\n",
       "      <td>-0.002171</td>\n",
       "      <td>0.001088</td>\n",
       "      <td>-0.000669</td>\n",
       "      <td>0.100294</td>\n",
       "    </tr>\n",
       "    <tr>\n",
       "      <th>FirePlace</th>\n",
       "      <td>0.000374</td>\n",
       "      <td>0.001307</td>\n",
       "      <td>1.000000</td>\n",
       "      <td>0.000643</td>\n",
       "      <td>0.000952</td>\n",
       "      <td>-0.000922</td>\n",
       "      <td>-0.000030</td>\n",
       "      <td>0.000185</td>\n",
       "      <td>-0.000211</td>\n",
       "      <td>-0.000309</td>\n",
       "      <td>0.001342</td>\n",
       "      <td>0.001818</td>\n",
       "      <td>-0.000366</td>\n",
       "      <td>0.001295</td>\n",
       "      <td>0.000231</td>\n",
       "      <td>0.089139</td>\n",
       "    </tr>\n",
       "    <tr>\n",
       "      <th>Baths</th>\n",
       "      <td>-0.000398</td>\n",
       "      <td>-0.003647</td>\n",
       "      <td>0.000643</td>\n",
       "      <td>1.000000</td>\n",
       "      <td>0.002493</td>\n",
       "      <td>-0.002739</td>\n",
       "      <td>0.000246</td>\n",
       "      <td>-0.000880</td>\n",
       "      <td>-0.000858</td>\n",
       "      <td>-0.000755</td>\n",
       "      <td>0.001047</td>\n",
       "      <td>-0.000687</td>\n",
       "      <td>-0.001668</td>\n",
       "      <td>0.002212</td>\n",
       "      <td>0.001723</td>\n",
       "      <td>0.145087</td>\n",
       "    </tr>\n",
       "    <tr>\n",
       "      <th>White Marble</th>\n",
       "      <td>0.002525</td>\n",
       "      <td>0.000541</td>\n",
       "      <td>0.000952</td>\n",
       "      <td>0.002493</td>\n",
       "      <td>1.000000</td>\n",
       "      <td>-0.498893</td>\n",
       "      <td>-0.500723</td>\n",
       "      <td>0.000078</td>\n",
       "      <td>-0.000861</td>\n",
       "      <td>-0.001583</td>\n",
       "      <td>0.000558</td>\n",
       "      <td>-0.000576</td>\n",
       "      <td>-0.000402</td>\n",
       "      <td>-0.001898</td>\n",
       "      <td>0.000959</td>\n",
       "      <td>0.448154</td>\n",
       "    </tr>\n",
       "    <tr>\n",
       "      <th>Black Marble</th>\n",
       "      <td>-0.001477</td>\n",
       "      <td>0.001847</td>\n",
       "      <td>-0.000922</td>\n",
       "      <td>-0.002739</td>\n",
       "      <td>-0.498893</td>\n",
       "      <td>1.000000</td>\n",
       "      <td>-0.500383</td>\n",
       "      <td>-0.000368</td>\n",
       "      <td>-0.000324</td>\n",
       "      <td>0.001764</td>\n",
       "      <td>-0.000549</td>\n",
       "      <td>0.000073</td>\n",
       "      <td>0.000086</td>\n",
       "      <td>0.000713</td>\n",
       "      <td>0.000133</td>\n",
       "      <td>-0.078049</td>\n",
       "    </tr>\n",
       "    <tr>\n",
       "      <th>Indian Marble</th>\n",
       "      <td>-0.001047</td>\n",
       "      <td>-0.002385</td>\n",
       "      <td>-0.000030</td>\n",
       "      <td>0.000246</td>\n",
       "      <td>-0.500723</td>\n",
       "      <td>-0.500383</td>\n",
       "      <td>1.000000</td>\n",
       "      <td>0.000289</td>\n",
       "      <td>0.001184</td>\n",
       "      <td>-0.000180</td>\n",
       "      <td>-0.000010</td>\n",
       "      <td>0.000503</td>\n",
       "      <td>0.000316</td>\n",
       "      <td>0.001184</td>\n",
       "      <td>-0.001091</td>\n",
       "      <td>-0.369756</td>\n",
       "    </tr>\n",
       "    <tr>\n",
       "      <th>Floors</th>\n",
       "      <td>-0.000776</td>\n",
       "      <td>-0.000931</td>\n",
       "      <td>0.000185</td>\n",
       "      <td>-0.000880</td>\n",
       "      <td>0.000078</td>\n",
       "      <td>-0.000368</td>\n",
       "      <td>0.000289</td>\n",
       "      <td>1.000000</td>\n",
       "      <td>-0.000641</td>\n",
       "      <td>-0.002651</td>\n",
       "      <td>0.000082</td>\n",
       "      <td>0.001373</td>\n",
       "      <td>-0.000008</td>\n",
       "      <td>-0.000211</td>\n",
       "      <td>-0.000492</td>\n",
       "      <td>0.619451</td>\n",
       "    </tr>\n",
       "    <tr>\n",
       "      <th>City</th>\n",
       "      <td>-0.003455</td>\n",
       "      <td>0.000793</td>\n",
       "      <td>-0.000211</td>\n",
       "      <td>-0.000858</td>\n",
       "      <td>-0.000861</td>\n",
       "      <td>-0.000324</td>\n",
       "      <td>0.001184</td>\n",
       "      <td>-0.000641</td>\n",
       "      <td>1.000000</td>\n",
       "      <td>0.000488</td>\n",
       "      <td>0.000788</td>\n",
       "      <td>-0.002716</td>\n",
       "      <td>0.000770</td>\n",
       "      <td>0.000322</td>\n",
       "      <td>0.001207</td>\n",
       "      <td>0.233259</td>\n",
       "    </tr>\n",
       "    <tr>\n",
       "      <th>Solar</th>\n",
       "      <td>0.000526</td>\n",
       "      <td>0.001480</td>\n",
       "      <td>-0.000309</td>\n",
       "      <td>-0.000755</td>\n",
       "      <td>-0.001583</td>\n",
       "      <td>0.001764</td>\n",
       "      <td>-0.000180</td>\n",
       "      <td>-0.002651</td>\n",
       "      <td>0.000488</td>\n",
       "      <td>1.000000</td>\n",
       "      <td>0.001883</td>\n",
       "      <td>0.000238</td>\n",
       "      <td>-0.000817</td>\n",
       "      <td>-0.000466</td>\n",
       "      <td>-0.004263</td>\n",
       "      <td>0.008429</td>\n",
       "    </tr>\n",
       "    <tr>\n",
       "      <th>Electric</th>\n",
       "      <td>-0.000128</td>\n",
       "      <td>0.000779</td>\n",
       "      <td>0.001342</td>\n",
       "      <td>0.001047</td>\n",
       "      <td>0.000558</td>\n",
       "      <td>-0.000549</td>\n",
       "      <td>-0.000010</td>\n",
       "      <td>0.000082</td>\n",
       "      <td>0.000788</td>\n",
       "      <td>0.001883</td>\n",
       "      <td>1.000000</td>\n",
       "      <td>-0.000309</td>\n",
       "      <td>0.001088</td>\n",
       "      <td>0.000571</td>\n",
       "      <td>0.000772</td>\n",
       "      <td>0.052443</td>\n",
       "    </tr>\n",
       "    <tr>\n",
       "      <th>Fiber</th>\n",
       "      <td>0.000114</td>\n",
       "      <td>-0.000562</td>\n",
       "      <td>0.001818</td>\n",
       "      <td>-0.000687</td>\n",
       "      <td>-0.000576</td>\n",
       "      <td>0.000073</td>\n",
       "      <td>0.000503</td>\n",
       "      <td>0.001373</td>\n",
       "      <td>-0.002716</td>\n",
       "      <td>0.000238</td>\n",
       "      <td>-0.000309</td>\n",
       "      <td>1.000000</td>\n",
       "      <td>-0.002268</td>\n",
       "      <td>0.004127</td>\n",
       "      <td>-0.000023</td>\n",
       "      <td>0.484626</td>\n",
       "    </tr>\n",
       "    <tr>\n",
       "      <th>Glass Doors</th>\n",
       "      <td>-0.001230</td>\n",
       "      <td>-0.002171</td>\n",
       "      <td>-0.000366</td>\n",
       "      <td>-0.001668</td>\n",
       "      <td>-0.000402</td>\n",
       "      <td>0.000086</td>\n",
       "      <td>0.000316</td>\n",
       "      <td>-0.000008</td>\n",
       "      <td>0.000770</td>\n",
       "      <td>-0.000817</td>\n",
       "      <td>0.001088</td>\n",
       "      <td>-0.002268</td>\n",
       "      <td>1.000000</td>\n",
       "      <td>0.000396</td>\n",
       "      <td>0.003329</td>\n",
       "      <td>0.181973</td>\n",
       "    </tr>\n",
       "    <tr>\n",
       "      <th>Swiming Pool</th>\n",
       "      <td>0.000610</td>\n",
       "      <td>0.001088</td>\n",
       "      <td>0.001295</td>\n",
       "      <td>0.002212</td>\n",
       "      <td>-0.001898</td>\n",
       "      <td>0.000713</td>\n",
       "      <td>0.001184</td>\n",
       "      <td>-0.000211</td>\n",
       "      <td>0.000322</td>\n",
       "      <td>-0.000466</td>\n",
       "      <td>0.000571</td>\n",
       "      <td>0.004127</td>\n",
       "      <td>0.000396</td>\n",
       "      <td>1.000000</td>\n",
       "      <td>-0.000191</td>\n",
       "      <td>0.001787</td>\n",
       "    </tr>\n",
       "    <tr>\n",
       "      <th>Garden</th>\n",
       "      <td>0.001428</td>\n",
       "      <td>-0.000669</td>\n",
       "      <td>0.000231</td>\n",
       "      <td>0.001723</td>\n",
       "      <td>0.000959</td>\n",
       "      <td>0.000133</td>\n",
       "      <td>-0.001091</td>\n",
       "      <td>-0.000492</td>\n",
       "      <td>0.001207</td>\n",
       "      <td>-0.004263</td>\n",
       "      <td>0.000772</td>\n",
       "      <td>-0.000023</td>\n",
       "      <td>0.003329</td>\n",
       "      <td>-0.000191</td>\n",
       "      <td>1.000000</td>\n",
       "      <td>0.001540</td>\n",
       "    </tr>\n",
       "    <tr>\n",
       "      <th>Prices</th>\n",
       "      <td>0.147717</td>\n",
       "      <td>0.100294</td>\n",
       "      <td>0.089139</td>\n",
       "      <td>0.145087</td>\n",
       "      <td>0.448154</td>\n",
       "      <td>-0.078049</td>\n",
       "      <td>-0.369756</td>\n",
       "      <td>0.619451</td>\n",
       "      <td>0.233259</td>\n",
       "      <td>0.008429</td>\n",
       "      <td>0.052443</td>\n",
       "      <td>0.484626</td>\n",
       "      <td>0.181973</td>\n",
       "      <td>0.001787</td>\n",
       "      <td>0.001540</td>\n",
       "      <td>1.000000</td>\n",
       "    </tr>\n",
       "  </tbody>\n",
       "</table>\n",
       "</div>"
      ],
      "text/plain": [
       "                   Area    Garage  FirePlace     Baths  White Marble  \\\n",
       "Area           1.000000 -0.000897   0.000374 -0.000398      0.002525   \n",
       "Garage        -0.000897  1.000000   0.001307 -0.003647      0.000541   \n",
       "FirePlace      0.000374  0.001307   1.000000  0.000643      0.000952   \n",
       "Baths         -0.000398 -0.003647   0.000643  1.000000      0.002493   \n",
       "White Marble   0.002525  0.000541   0.000952  0.002493      1.000000   \n",
       "Black Marble  -0.001477  0.001847  -0.000922 -0.002739     -0.498893   \n",
       "Indian Marble -0.001047 -0.002385  -0.000030  0.000246     -0.500723   \n",
       "Floors        -0.000776 -0.000931   0.000185 -0.000880      0.000078   \n",
       "City          -0.003455  0.000793  -0.000211 -0.000858     -0.000861   \n",
       "Solar          0.000526  0.001480  -0.000309 -0.000755     -0.001583   \n",
       "Electric      -0.000128  0.000779   0.001342  0.001047      0.000558   \n",
       "Fiber          0.000114 -0.000562   0.001818 -0.000687     -0.000576   \n",
       "Glass Doors   -0.001230 -0.002171  -0.000366 -0.001668     -0.000402   \n",
       "Swiming Pool   0.000610  0.001088   0.001295  0.002212     -0.001898   \n",
       "Garden         0.001428 -0.000669   0.000231  0.001723      0.000959   \n",
       "Prices         0.147717  0.100294   0.089139  0.145087      0.448154   \n",
       "\n",
       "               Black Marble  Indian Marble    Floors      City     Solar  \\\n",
       "Area              -0.001477      -0.001047 -0.000776 -0.003455  0.000526   \n",
       "Garage             0.001847      -0.002385 -0.000931  0.000793  0.001480   \n",
       "FirePlace         -0.000922      -0.000030  0.000185 -0.000211 -0.000309   \n",
       "Baths             -0.002739       0.000246 -0.000880 -0.000858 -0.000755   \n",
       "White Marble      -0.498893      -0.500723  0.000078 -0.000861 -0.001583   \n",
       "Black Marble       1.000000      -0.500383 -0.000368 -0.000324  0.001764   \n",
       "Indian Marble     -0.500383       1.000000  0.000289  0.001184 -0.000180   \n",
       "Floors            -0.000368       0.000289  1.000000 -0.000641 -0.002651   \n",
       "City              -0.000324       0.001184 -0.000641  1.000000  0.000488   \n",
       "Solar              0.001764      -0.000180 -0.002651  0.000488  1.000000   \n",
       "Electric          -0.000549      -0.000010  0.000082  0.000788  0.001883   \n",
       "Fiber              0.000073       0.000503  0.001373 -0.002716  0.000238   \n",
       "Glass Doors        0.000086       0.000316 -0.000008  0.000770 -0.000817   \n",
       "Swiming Pool       0.000713       0.001184 -0.000211  0.000322 -0.000466   \n",
       "Garden             0.000133      -0.001091 -0.000492  0.001207 -0.004263   \n",
       "Prices            -0.078049      -0.369756  0.619451  0.233259  0.008429   \n",
       "\n",
       "               Electric     Fiber  Glass Doors  Swiming Pool    Garden  \\\n",
       "Area          -0.000128  0.000114    -0.001230      0.000610  0.001428   \n",
       "Garage         0.000779 -0.000562    -0.002171      0.001088 -0.000669   \n",
       "FirePlace      0.001342  0.001818    -0.000366      0.001295  0.000231   \n",
       "Baths          0.001047 -0.000687    -0.001668      0.002212  0.001723   \n",
       "White Marble   0.000558 -0.000576    -0.000402     -0.001898  0.000959   \n",
       "Black Marble  -0.000549  0.000073     0.000086      0.000713  0.000133   \n",
       "Indian Marble -0.000010  0.000503     0.000316      0.001184 -0.001091   \n",
       "Floors         0.000082  0.001373    -0.000008     -0.000211 -0.000492   \n",
       "City           0.000788 -0.002716     0.000770      0.000322  0.001207   \n",
       "Solar          0.001883  0.000238    -0.000817     -0.000466 -0.004263   \n",
       "Electric       1.000000 -0.000309     0.001088      0.000571  0.000772   \n",
       "Fiber         -0.000309  1.000000    -0.002268      0.004127 -0.000023   \n",
       "Glass Doors    0.001088 -0.002268     1.000000      0.000396  0.003329   \n",
       "Swiming Pool   0.000571  0.004127     0.000396      1.000000 -0.000191   \n",
       "Garden         0.000772 -0.000023     0.003329     -0.000191  1.000000   \n",
       "Prices         0.052443  0.484626     0.181973      0.001787  0.001540   \n",
       "\n",
       "                 Prices  \n",
       "Area           0.147717  \n",
       "Garage         0.100294  \n",
       "FirePlace      0.089139  \n",
       "Baths          0.145087  \n",
       "White Marble   0.448154  \n",
       "Black Marble  -0.078049  \n",
       "Indian Marble -0.369756  \n",
       "Floors         0.619451  \n",
       "City           0.233259  \n",
       "Solar          0.008429  \n",
       "Electric       0.052443  \n",
       "Fiber          0.484626  \n",
       "Glass Doors    0.181973  \n",
       "Swiming Pool   0.001787  \n",
       "Garden         0.001540  \n",
       "Prices         1.000000  "
      ]
     },
     "execution_count": 4,
     "metadata": {},
     "output_type": "execute_result"
    }
   ],
   "source": [
    "df.corr()"
   ]
  },
  {
   "cell_type": "markdown",
   "id": "1510cc6a",
   "metadata": {
    "papermill": {
     "duration": 0.019877,
     "end_time": "2022-01-13T09:20:52.809551",
     "exception": false,
     "start_time": "2022-01-13T09:20:52.789674",
     "status": "completed"
    },
    "tags": []
   },
   "source": [
    "# Data Preparation"
   ]
  },
  {
   "cell_type": "markdown",
   "id": "ea826ab6",
   "metadata": {
    "papermill": {
     "duration": 0.019431,
     "end_time": "2022-01-13T09:20:52.849265",
     "exception": false,
     "start_time": "2022-01-13T09:20:52.829834",
     "status": "completed"
    },
    "tags": []
   },
   "source": [
    "**Finding Missing Values**"
   ]
  },
  {
   "cell_type": "code",
   "execution_count": 5,
   "id": "0d7255e8",
   "metadata": {
    "execution": {
     "iopub.execute_input": "2022-01-13T09:20:52.893048Z",
     "iopub.status.busy": "2022-01-13T09:20:52.892390Z",
     "iopub.status.idle": "2022-01-13T09:20:52.901187Z",
     "shell.execute_reply": "2022-01-13T09:20:52.901913Z",
     "shell.execute_reply.started": "2022-01-13T08:43:55.230282Z"
    },
    "papermill": {
     "duration": 0.032243,
     "end_time": "2022-01-13T09:20:52.902135",
     "exception": false,
     "start_time": "2022-01-13T09:20:52.869892",
     "status": "completed"
    },
    "tags": []
   },
   "outputs": [
    {
     "data": {
      "text/html": [
       "<div>\n",
       "<style scoped>\n",
       "    .dataframe tbody tr th:only-of-type {\n",
       "        vertical-align: middle;\n",
       "    }\n",
       "\n",
       "    .dataframe tbody tr th {\n",
       "        vertical-align: top;\n",
       "    }\n",
       "\n",
       "    .dataframe thead th {\n",
       "        text-align: right;\n",
       "    }\n",
       "</style>\n",
       "<table border=\"1\" class=\"dataframe\">\n",
       "  <thead>\n",
       "    <tr style=\"text-align: right;\">\n",
       "      <th></th>\n",
       "      <th>Area</th>\n",
       "      <th>Garage</th>\n",
       "      <th>FirePlace</th>\n",
       "      <th>Baths</th>\n",
       "      <th>White Marble</th>\n",
       "      <th>Black Marble</th>\n",
       "      <th>Indian Marble</th>\n",
       "      <th>Floors</th>\n",
       "      <th>City</th>\n",
       "      <th>Solar</th>\n",
       "      <th>Electric</th>\n",
       "      <th>Fiber</th>\n",
       "      <th>Glass Doors</th>\n",
       "      <th>Swiming Pool</th>\n",
       "      <th>Garden</th>\n",
       "      <th>Prices</th>\n",
       "    </tr>\n",
       "  </thead>\n",
       "  <tbody>\n",
       "    <tr>\n",
       "      <th>0</th>\n",
       "      <td>164</td>\n",
       "      <td>2</td>\n",
       "      <td>0</td>\n",
       "      <td>2</td>\n",
       "      <td>0</td>\n",
       "      <td>1</td>\n",
       "      <td>0</td>\n",
       "      <td>0</td>\n",
       "      <td>3</td>\n",
       "      <td>1</td>\n",
       "      <td>1</td>\n",
       "      <td>1</td>\n",
       "      <td>1</td>\n",
       "      <td>0</td>\n",
       "      <td>0</td>\n",
       "      <td>43800</td>\n",
       "    </tr>\n",
       "    <tr>\n",
       "      <th>1</th>\n",
       "      <td>84</td>\n",
       "      <td>2</td>\n",
       "      <td>0</td>\n",
       "      <td>4</td>\n",
       "      <td>0</td>\n",
       "      <td>0</td>\n",
       "      <td>1</td>\n",
       "      <td>1</td>\n",
       "      <td>2</td>\n",
       "      <td>0</td>\n",
       "      <td>0</td>\n",
       "      <td>0</td>\n",
       "      <td>1</td>\n",
       "      <td>1</td>\n",
       "      <td>1</td>\n",
       "      <td>37550</td>\n",
       "    </tr>\n",
       "    <tr>\n",
       "      <th>2</th>\n",
       "      <td>190</td>\n",
       "      <td>2</td>\n",
       "      <td>4</td>\n",
       "      <td>4</td>\n",
       "      <td>1</td>\n",
       "      <td>0</td>\n",
       "      <td>0</td>\n",
       "      <td>0</td>\n",
       "      <td>2</td>\n",
       "      <td>0</td>\n",
       "      <td>0</td>\n",
       "      <td>1</td>\n",
       "      <td>0</td>\n",
       "      <td>0</td>\n",
       "      <td>0</td>\n",
       "      <td>49500</td>\n",
       "    </tr>\n",
       "    <tr>\n",
       "      <th>3</th>\n",
       "      <td>75</td>\n",
       "      <td>2</td>\n",
       "      <td>4</td>\n",
       "      <td>4</td>\n",
       "      <td>0</td>\n",
       "      <td>0</td>\n",
       "      <td>1</td>\n",
       "      <td>1</td>\n",
       "      <td>1</td>\n",
       "      <td>1</td>\n",
       "      <td>1</td>\n",
       "      <td>1</td>\n",
       "      <td>1</td>\n",
       "      <td>1</td>\n",
       "      <td>1</td>\n",
       "      <td>50075</td>\n",
       "    </tr>\n",
       "    <tr>\n",
       "      <th>4</th>\n",
       "      <td>148</td>\n",
       "      <td>1</td>\n",
       "      <td>4</td>\n",
       "      <td>2</td>\n",
       "      <td>1</td>\n",
       "      <td>0</td>\n",
       "      <td>0</td>\n",
       "      <td>1</td>\n",
       "      <td>2</td>\n",
       "      <td>1</td>\n",
       "      <td>0</td>\n",
       "      <td>0</td>\n",
       "      <td>1</td>\n",
       "      <td>1</td>\n",
       "      <td>1</td>\n",
       "      <td>52400</td>\n",
       "    </tr>\n",
       "  </tbody>\n",
       "</table>\n",
       "</div>"
      ],
      "text/plain": [
       "   Area  Garage  FirePlace  Baths  White Marble  Black Marble  Indian Marble  \\\n",
       "0   164       2          0      2             0             1              0   \n",
       "1    84       2          0      4             0             0              1   \n",
       "2   190       2          4      4             1             0              0   \n",
       "3    75       2          4      4             0             0              1   \n",
       "4   148       1          4      2             1             0              0   \n",
       "\n",
       "   Floors  City  Solar  Electric  Fiber  Glass Doors  Swiming Pool  Garden  \\\n",
       "0       0     3      1         1      1            1             0       0   \n",
       "1       1     2      0         0      0            1             1       1   \n",
       "2       0     2      0         0      1            0             0       0   \n",
       "3       1     1      1         1      1            1             1       1   \n",
       "4       1     2      1         0      0            1             1       1   \n",
       "\n",
       "   Prices  \n",
       "0   43800  \n",
       "1   37550  \n",
       "2   49500  \n",
       "3   50075  \n",
       "4   52400  "
      ]
     },
     "execution_count": 5,
     "metadata": {},
     "output_type": "execute_result"
    }
   ],
   "source": [
    "df.head()"
   ]
  },
  {
   "cell_type": "code",
   "execution_count": 6,
   "id": "04b1085f",
   "metadata": {
    "execution": {
     "iopub.execute_input": "2022-01-13T09:20:52.948469Z",
     "iopub.status.busy": "2022-01-13T09:20:52.947764Z",
     "iopub.status.idle": "2022-01-13T09:20:52.972519Z",
     "shell.execute_reply": "2022-01-13T09:20:52.971757Z",
     "shell.execute_reply.started": "2022-01-13T08:44:08.269774Z"
    },
    "papermill": {
     "duration": 0.049043,
     "end_time": "2022-01-13T09:20:52.972726",
     "exception": false,
     "start_time": "2022-01-13T09:20:52.923683",
     "status": "completed"
    },
    "tags": []
   },
   "outputs": [
    {
     "name": "stdout",
     "output_type": "stream",
     "text": [
      "<class 'pandas.core.frame.DataFrame'>\n",
      "RangeIndex: 500000 entries, 0 to 499999\n",
      "Data columns (total 16 columns):\n",
      " #   Column         Non-Null Count   Dtype\n",
      "---  ------         --------------   -----\n",
      " 0   Area           500000 non-null  int64\n",
      " 1   Garage         500000 non-null  int64\n",
      " 2   FirePlace      500000 non-null  int64\n",
      " 3   Baths          500000 non-null  int64\n",
      " 4   White Marble   500000 non-null  int64\n",
      " 5   Black Marble   500000 non-null  int64\n",
      " 6   Indian Marble  500000 non-null  int64\n",
      " 7   Floors         500000 non-null  int64\n",
      " 8   City           500000 non-null  int64\n",
      " 9   Solar          500000 non-null  int64\n",
      " 10  Electric       500000 non-null  int64\n",
      " 11  Fiber          500000 non-null  int64\n",
      " 12  Glass Doors    500000 non-null  int64\n",
      " 13  Swiming Pool   500000 non-null  int64\n",
      " 14  Garden         500000 non-null  int64\n",
      " 15  Prices         500000 non-null  int64\n",
      "dtypes: int64(16)\n",
      "memory usage: 61.0 MB\n"
     ]
    }
   ],
   "source": [
    "df.info()"
   ]
  },
  {
   "cell_type": "code",
   "execution_count": 7,
   "id": "14c8afdf",
   "metadata": {
    "execution": {
     "iopub.execute_input": "2022-01-13T09:20:53.019908Z",
     "iopub.status.busy": "2022-01-13T09:20:53.018934Z",
     "iopub.status.idle": "2022-01-13T09:20:53.026862Z",
     "shell.execute_reply": "2022-01-13T09:20:53.027401Z",
     "shell.execute_reply.started": "2022-01-13T08:44:42.164306Z"
    },
    "papermill": {
     "duration": 0.033159,
     "end_time": "2022-01-13T09:20:53.027576",
     "exception": false,
     "start_time": "2022-01-13T09:20:52.994417",
     "status": "completed"
    },
    "tags": []
   },
   "outputs": [
    {
     "data": {
      "text/plain": [
       "Area             0\n",
       "Garage           0\n",
       "FirePlace        0\n",
       "Baths            0\n",
       "White Marble     0\n",
       "Black Marble     0\n",
       "Indian Marble    0\n",
       "Floors           0\n",
       "City             0\n",
       "Solar            0\n",
       "Electric         0\n",
       "Fiber            0\n",
       "Glass Doors      0\n",
       "Swiming Pool     0\n",
       "Garden           0\n",
       "Prices           0\n",
       "dtype: int64"
      ]
     },
     "execution_count": 7,
     "metadata": {},
     "output_type": "execute_result"
    }
   ],
   "source": [
    "df.isnull().sum()"
   ]
  },
  {
   "cell_type": "markdown",
   "id": "d6c534c2",
   "metadata": {
    "papermill": {
     "duration": 0.019687,
     "end_time": "2022-01-13T09:20:53.067519",
     "exception": false,
     "start_time": "2022-01-13T09:20:53.047832",
     "status": "completed"
    },
    "tags": []
   },
   "source": [
    "**Area column**"
   ]
  },
  {
   "cell_type": "code",
   "execution_count": 24,
   "id": "fa4e8896",
   "metadata": {
    "execution": {
     "iopub.execute_input": "2022-01-13T09:20:53.115157Z",
     "iopub.status.busy": "2022-01-13T09:20:53.114171Z",
     "iopub.status.idle": "2022-01-13T09:20:54.543226Z",
     "shell.execute_reply": "2022-01-13T09:20:54.542477Z",
     "shell.execute_reply.started": "2022-01-13T08:45:50.110458Z"
    },
    "papermill": {
     "duration": 1.454922,
     "end_time": "2022-01-13T09:20:54.543413",
     "exception": false,
     "start_time": "2022-01-13T09:20:53.088491",
     "status": "completed"
    },
    "tags": []
   },
   "outputs": [
    {
     "data": {
      "text/plain": [
       "Text(0.5, 1.0, 'Area Distribution')"
      ]
     },
     "execution_count": 24,
     "metadata": {},
     "output_type": "execute_result"
    },
    {
     "data": {
      "image/png": "[encoded data removed]",
      "text/plain": [
       "<Figure size 432x288 with 1 Axes>"
      ]
     },
     "metadata": {},
     "output_type": "display_data"
    }
   ],
   "source": [
    "import seaborn as sns\n",
    "\n",
    "sns.set_theme(style=\"darkgrid\")\n",
    "sns.boxplot(x=\"Area\", data=df, palette=\"rocket\")\n",
    "plt.title(\"Area Distribution\")"
   ]
  },
  {
   "cell_type": "code",
   "execution_count": 31,
   "id": "d12581ea",
   "metadata": {
    "execution": {
     "iopub.execute_input": "2022-01-13T09:20:54.591084Z",
     "iopub.status.busy": "2022-01-13T09:20:54.590322Z",
     "iopub.status.idle": "2022-01-13T09:20:54.593288Z",
     "shell.execute_reply": "2022-01-13T09:20:54.593719Z",
     "shell.execute_reply.started": "2022-01-13T08:46:45.070270Z"
    },
    "papermill": {
     "duration": 0.029845,
     "end_time": "2022-01-13T09:20:54.593883",
     "exception": false,
     "start_time": "2022-01-13T09:20:54.564038",
     "status": "completed"
    },
    "tags": []
   },
   "outputs": [
    {
     "data": {
      "text/plain": [
       "(1, 249)"
      ]
     },
     "execution_count": 31,
     "metadata": {},
     "output_type": "execute_result"
    }
   ],
   "source": [
    "df.Area.min(),df.Area.max()"
   ]
  },
  {
   "cell_type": "markdown",
   "id": "96a33da7",
   "metadata": {
    "papermill": {
     "duration": 0.020668,
     "end_time": "2022-01-13T09:20:54.635402",
     "exception": false,
     "start_time": "2022-01-13T09:20:54.614734",
     "status": "completed"
    },
    "tags": []
   },
   "source": [
    "**Prices Column**"
   ]
  },
  {
   "cell_type": "code",
   "execution_count": 32,
   "id": "15c94906",
   "metadata": {
    "execution": {
     "iopub.execute_input": "2022-01-13T09:20:54.681360Z",
     "iopub.status.busy": "2022-01-13T09:20:54.680382Z",
     "iopub.status.idle": "2022-01-13T09:20:54.920920Z",
     "shell.execute_reply": "2022-01-13T09:20:54.920438Z",
     "shell.execute_reply.started": "2022-01-13T08:47:56.660060Z"
    },
    "papermill": {
     "duration": 0.26467,
     "end_time": "2022-01-13T09:20:54.921086",
     "exception": false,
     "start_time": "2022-01-13T09:20:54.656416",
     "status": "completed"
    },
    "tags": []
   },
   "outputs": [
    {
     "data": {
      "text/plain": [
       "Text(0.5, 1.0, 'Prices Distribution')"
      ]
     },
     "execution_count": 32,
     "metadata": {},
     "output_type": "execute_result"
    },
    {
     "data": {
      "image/png": "[encoded data removed]",
      "text/plain": [
       "<Figure size 432x288 with 1 Axes>"
      ]
     },
     "metadata": {},
     "output_type": "display_data"
    }
   ],
   "source": [
    "sns.set_theme(style=\"darkgrid\")\n",
    "sns.boxplot(x=\"Prices\", data=df, palette=\"rocket\")\n",
    "plt.title(\"Prices Distribution\")"
   ]
  },
  {
   "cell_type": "code",
   "execution_count": 33,
   "id": "87e901a0",
   "metadata": {
    "execution": {
     "iopub.execute_input": "2022-01-13T09:20:54.967965Z",
     "iopub.status.busy": "2022-01-13T09:20:54.967333Z",
     "iopub.status.idle": "2022-01-13T09:20:54.972006Z",
     "shell.execute_reply": "2022-01-13T09:20:54.972551Z",
     "shell.execute_reply.started": "2022-01-13T08:48:24.625873Z"
    },
    "papermill": {
     "duration": 0.030116,
     "end_time": "2022-01-13T09:20:54.972717",
     "exception": false,
     "start_time": "2022-01-13T09:20:54.942601",
     "status": "completed"
    },
    "tags": []
   },
   "outputs": [
    {
     "data": {
      "text/plain": [
       "(7725, 77975)"
      ]
     },
     "execution_count": 33,
     "metadata": {},
     "output_type": "execute_result"
    }
   ],
   "source": [
    "df.Prices.min(),df.Prices.max()"
   ]
  },
  {
   "cell_type": "code",
   "execution_count": 34,
   "id": "bac5060c",
   "metadata": {
    "execution": {
     "iopub.execute_input": "2022-01-13T09:20:55.019304Z",
     "iopub.status.busy": "2022-01-13T09:20:55.018694Z",
     "iopub.status.idle": "2022-01-13T09:20:55.271562Z",
     "shell.execute_reply": "2022-01-13T09:20:55.271021Z",
     "shell.execute_reply.started": "2022-01-13T08:48:48.150104Z"
    },
    "papermill": {
     "duration": 0.277113,
     "end_time": "2022-01-13T09:20:55.271695",
     "exception": false,
     "start_time": "2022-01-13T09:20:54.994582",
     "status": "completed"
    },
    "tags": []
   },
   "outputs": [
    {
     "data": {
      "image/png": "[encoded data removed]",
      "text/plain": [
       "<Figure size 432x288 with 1 Axes>"
      ]
     },
     "metadata": {},
     "output_type": "display_data"
    }
   ],
   "source": [
    "plt.scatter(df.Area, df.Prices)\n",
    "plt.show()"
   ]
  },
  {
   "cell_type": "code",
   "execution_count": 38,
   "id": "f917a6ce",
   "metadata": {
    "execution": {
     "iopub.execute_input": "2022-01-13T09:20:55.321558Z",
     "iopub.status.busy": "2022-01-13T09:20:55.320874Z",
     "iopub.status.idle": "2022-01-13T09:20:55.322667Z",
     "shell.execute_reply": "2022-01-13T09:20:55.323132Z",
     "shell.execute_reply.started": "2022-01-13T08:49:24.040205Z"
    },
    "papermill": {
     "duration": 0.029167,
     "end_time": "2022-01-13T09:20:55.323309",
     "exception": false,
     "start_time": "2022-01-13T09:20:55.294142",
     "status": "completed"
    },
    "tags": []
   },
   "outputs": [],
   "source": [
    "X = df['Area'].head(1000)\n",
    "Y = df['Prices'].head(1000)\n",
    "#print(X)\n",
    "#print(Y)"
   ]
  },
  {
   "cell_type": "markdown",
   "id": "f0905e58",
   "metadata": {
    "papermill": {
     "duration": 0.021994,
     "end_time": "2022-01-13T09:20:55.367604",
     "exception": false,
     "start_time": "2022-01-13T09:20:55.345610",
     "status": "completed"
    },
    "tags": []
   },
   "source": [
    "# Implement linear regression using OLS method"
   ]
  },
  {
   "cell_type": "code",
   "execution_count": 40,
   "id": "7522c50d",
   "metadata": {
    "execution": {
     "iopub.execute_input": "2022-01-13T09:20:55.415397Z",
     "iopub.status.busy": "2022-01-13T09:20:55.414766Z",
     "iopub.status.idle": "2022-01-13T09:20:55.421602Z",
     "shell.execute_reply": "2022-01-13T09:20:55.420991Z",
     "shell.execute_reply.started": "2022-01-13T08:50:24.775293Z"
    },
    "papermill": {
     "duration": 0.031619,
     "end_time": "2022-01-13T09:20:55.421741",
     "exception": false,
     "start_time": "2022-01-13T09:20:55.390122",
     "status": "completed"
    },
    "tags": []
   },
   "outputs": [
    {
     "name": "stdout",
     "output_type": "stream",
     "text": [
      "125.694 42074.3\n"
     ]
    }
   ],
   "source": [
    "x_bar = X.sum()/X.count()\n",
    "y_bar = Y.sum()/Y.count()\n",
    "print(x_bar,y_bar)"
   ]
  },
  {
   "cell_type": "code",
   "execution_count": 44,
   "id": "397cc676",
   "metadata": {
    "execution": {
     "iopub.execute_input": "2022-01-13T09:20:55.474339Z",
     "iopub.status.busy": "2022-01-13T09:20:55.473713Z",
     "iopub.status.idle": "2022-01-13T09:20:55.476905Z",
     "shell.execute_reply": "2022-01-13T09:20:55.477387Z",
     "shell.execute_reply.started": "2022-01-13T08:50:41.124512Z"
    },
    "papermill": {
     "duration": 0.032663,
     "end_time": "2022-01-13T09:20:55.477558",
     "exception": false,
     "start_time": "2022-01-13T09:20:55.444895",
     "status": "completed"
    },
    "tags": []
   },
   "outputs": [
    {
     "name": "stdout",
     "output_type": "stream",
     "text": [
      "33.97454508484849 37803.90353010506\n"
     ]
    }
   ],
   "source": [
    "#n = ((X-x_bar) * (Y-y_bar))\n",
    "#print(n)\n",
    "n = ((X-x_bar) * (Y-y_bar)).sum()\n",
    "d = ((X-x_bar)**2).sum()\n",
    "m = n/d\n",
    "b = y_bar - m* x_bar\n",
    "print(m, b)"
   ]
  },
  {
   "cell_type": "code",
   "execution_count": 49,
   "id": "649413a6",
   "metadata": {
    "execution": {
     "iopub.execute_input": "2022-01-13T09:20:55.527828Z",
     "iopub.status.busy": "2022-01-13T09:20:55.526899Z",
     "iopub.status.idle": "2022-01-13T09:20:55.533672Z",
     "shell.execute_reply": "2022-01-13T09:20:55.534150Z",
     "shell.execute_reply.started": "2022-01-13T08:51:01.153762Z"
    },
    "papermill": {
     "duration": 0.033637,
     "end_time": "2022-01-13T09:20:55.534331",
     "exception": false,
     "start_time": "2022-01-13T09:20:55.500694",
     "status": "completed"
    },
    "tags": []
   },
   "outputs": [],
   "source": [
    "predicted_df = pd.DataFrame(data = range(0,int(X.max())), columns={'X'})\n",
    "\n",
    "#print(predicted_df)\n",
    "#print(predicted_df['X'])\n",
    "#this above two statement print the same result because the predicted_df['Y'] is not added\n",
    "\n",
    "predicted_df['Y'] = predicted_df.X*m + (b)\n",
    "\n",
    "#print(predicted_df)\n",
    "#print(predicted_df['Y'])"
   ]
  },
  {
   "cell_type": "code",
   "execution_count": 55,
   "id": "76182cd4",
   "metadata": {
    "execution": {
     "iopub.execute_input": "2022-01-13T09:20:55.583482Z",
     "iopub.status.busy": "2022-01-13T09:20:55.582811Z",
     "iopub.status.idle": "2022-01-13T09:20:55.586694Z",
     "shell.execute_reply": "2022-01-13T09:20:55.587203Z",
     "shell.execute_reply.started": "2022-01-13T09:08:43.044113Z"
    },
    "papermill": {
     "duration": 0.030146,
     "end_time": "2022-01-13T09:20:55.587369",
     "exception": false,
     "start_time": "2022-01-13T09:20:55.557223",
     "status": "completed"
    },
    "tags": []
   },
   "outputs": [],
   "source": [
    "x = predicted_df['X']\n",
    "y = predicted_df['Y']\n",
    "#print(x,y)"
   ]
  },
  {
   "cell_type": "code",
   "execution_count": 57,
   "id": "ee6d65f0",
   "metadata": {
    "execution": {
     "iopub.execute_input": "2022-01-13T09:20:55.657982Z",
     "iopub.status.busy": "2022-01-13T09:20:55.657345Z",
     "iopub.status.idle": "2022-01-13T09:20:55.864952Z",
     "shell.execute_reply": "2022-01-13T09:20:55.865454Z",
     "shell.execute_reply.started": "2022-01-13T08:51:40.536003Z"
    },
    "papermill": {
     "duration": 0.255459,
     "end_time": "2022-01-13T09:20:55.865619",
     "exception": false,
     "start_time": "2022-01-13T09:20:55.610160",
     "status": "completed"
    },
    "tags": []
   },
   "outputs": [
    {
     "data": {
      "image/png": "[encoded data removed]",
      "text/plain": [
       "<Figure size 432x288 with 1 Axes>"
      ]
     },
     "metadata": {},
     "output_type": "display_data"
    }
   ],
   "source": [
    "plt.plot(x,y,c='red')\n",
    "plt.scatter(X, Y)\n",
    "plt.xlabel('X')\n",
    "plt.ylabel('Y')\n",
    "plt.title('Plot for Regression line fit')\n",
    "#plt.legend()\n",
    "plt.show()"
   ]
  },
  {
   "cell_type": "markdown",
   "id": "4a3f02c6",
   "metadata": {
    "papermill": {
     "duration": 0.0237,
     "end_time": "2022-01-13T09:20:55.913021",
     "exception": false,
     "start_time": "2022-01-13T09:20:55.889321",
     "status": "completed"
    },
    "tags": []
   },
   "source": [
    "# Implement linear regression using Gradient Descent from scratch"
   ]
  },
  {
   "cell_type": "code",
   "execution_count": 58,
   "id": "4dd00dae",
   "metadata": {
    "execution": {
     "iopub.execute_input": "2022-01-13T09:20:55.964235Z",
     "iopub.status.busy": "2022-01-13T09:20:55.963295Z",
     "iopub.status.idle": "2022-01-13T09:20:57.041732Z",
     "shell.execute_reply": "2022-01-13T09:20:57.042253Z",
     "shell.execute_reply.started": "2022-01-13T08:53:17.984886Z"
    },
    "papermill": {
     "duration": 1.105909,
     "end_time": "2022-01-13T09:20:57.042449",
     "exception": false,
     "start_time": "2022-01-13T09:20:55.936540",
     "status": "completed"
    },
    "tags": []
   },
   "outputs": [
    {
     "name": "stdout",
     "output_type": "stream",
     "text": [
      "258.428635231804 460.89669909759397\n"
     ]
    }
   ],
   "source": [
    "m = 0\n",
    "c = 0\n",
    "\n",
    "L      = 0.00001  # The learning Rate\n",
    "epochs = 2500  # The number of iterations to perform gradient descent\n",
    "\n",
    "n = float(len(X)) # Number of elements in X\n",
    "\n",
    "# Performing Gradient Descent \n",
    "for i in range(epochs): \n",
    "    Y_pred = m*X + c  # The current predicted value of Y\n",
    "    D_m = (-2/n) * sum(X * (Y - Y_pred))  # Derivative wrt m\n",
    "    D_c = (-2/n) * sum(Y - Y_pred)  # Derivative wrt c\n",
    "    m = m - L * D_m  # Update m\n",
    "    c = c - L * D_c  # Update c\n",
    "print (m, c)"
   ]
  },
  {
   "cell_type": "code",
   "execution_count": 59,
   "id": "d1774802",
   "metadata": {
    "execution": {
     "iopub.execute_input": "2022-01-13T09:20:57.093817Z",
     "iopub.status.busy": "2022-01-13T09:20:57.092850Z",
     "iopub.status.idle": "2022-01-13T09:20:57.271802Z",
     "shell.execute_reply": "2022-01-13T09:20:57.272412Z",
     "shell.execute_reply.started": "2022-01-13T08:55:09.975867Z"
    },
    "papermill": {
     "duration": 0.206258,
     "end_time": "2022-01-13T09:20:57.272601",
     "exception": false,
     "start_time": "2022-01-13T09:20:57.066343",
     "status": "completed"
    },
    "tags": []
   },
   "outputs": [
    {
     "name": "stdout",
     "output_type": "stream",
     "text": [
      "RMSE:  22067.243163314433 R2 score -2.2059483088350245\n"
     ]
    }
   ],
   "source": [
    "from math import sqrt\n",
    "from sklearn.metrics import mean_squared_error\n",
    "from sklearn.metrics import r2_score\n",
    "Y_pred = m*X + c\n",
    "print(\"RMSE: \", sqrt(mean_squared_error(Y,Y_pred)),\"R2 score\", r2_score(Y,Y_pred))"
   ]
  },
  {
   "cell_type": "markdown",
   "id": "e91a093d",
   "metadata": {
    "papermill": {
     "duration": 0.02417,
     "end_time": "2022-01-13T09:20:57.321607",
     "exception": false,
     "start_time": "2022-01-13T09:20:57.297437",
     "status": "completed"
    },
    "tags": []
   },
   "source": [
    "#  Implement linear regression using sklearn API"
   ]
  },
  {
   "cell_type": "code",
   "execution_count": 60,
   "id": "fa1ca03e",
   "metadata": {
    "execution": {
     "iopub.execute_input": "2022-01-13T09:20:57.377699Z",
     "iopub.status.busy": "2022-01-13T09:20:57.376780Z",
     "iopub.status.idle": "2022-01-13T09:20:57.501000Z",
     "shell.execute_reply": "2022-01-13T09:20:57.501559Z",
     "shell.execute_reply.started": "2022-01-13T08:56:00.605228Z"
    },
    "papermill": {
     "duration": 0.155073,
     "end_time": "2022-01-13T09:20:57.501734",
     "exception": false,
     "start_time": "2022-01-13T09:20:57.346661",
     "status": "completed"
    },
    "tags": []
   },
   "outputs": [
    {
     "name": "stdout",
     "output_type": "stream",
     "text": [
      "RMSE:  11977.372439015693 R2 Score: 0.0218202278606604\n"
     ]
    }
   ],
   "source": [
    "from sklearn import linear_model\n",
    "# This is using SKlearn API\n",
    "X = pd.DataFrame(df.Area)\n",
    "Y = df.Prices\n",
    "\n",
    "# Create object of algorithm\n",
    "rg = linear_model.LinearRegression()\n",
    "# Create model by fitting data\n",
    "rg.fit(X, Y)\n",
    "\n",
    "# RMSE and R2 Score\n",
    "print(\"RMSE: \", sqrt(mean_squared_error(Y,rg.predict(X))), \"R2 Score:\", r2_score(Y,rg.predict(X)))"
   ]
  },
  {
   "cell_type": "markdown",
   "id": "486c83ba",
   "metadata": {
    "papermill": {
     "duration": 0.024122,
     "end_time": "2022-01-13T09:20:57.550124",
     "exception": false,
     "start_time": "2022-01-13T09:20:57.526002",
     "status": "completed"
    },
    "tags": []
   },
   "source": [
    "**Quantify goodness of your model and discuss steps taken for improvement (RMSE, MSE, R2Score).**\n",
    "\n",
    "Regression using SKlearn Api is good as it gives highest R2 score and low RMSE."
   ]
  },
  {
   "cell_type": "markdown",
   "id": "381a0013",
   "metadata": {
    "papermill": {
     "duration": 0.024255,
     "end_time": "2022-01-13T09:20:57.598901",
     "exception": false,
     "start_time": "2022-01-13T09:20:57.574646",
     "status": "completed"
    },
    "tags": []
   },
   "source": [
    "**Discuss comparison of different methods.**\n",
    "\n",
    "The main reason why gradient descent is used for linear regression is the computational complexity: it's computationally cheaper (faster) to find the solution using the gradient descent in some cases.\n",
    "\n",
    "The formula which you wrote looks very simple, even computationally, because it only works for univariate case, i.e. when you have only one variable. In the multivariate case, when you have many variables, the formulae is slightly more complicated on paper and requires much more calculations when you implement it in software:\n",
    "β=(X′X)−1X′Y\n",
    "Here, you need to calculate the matrix X′X then invert it (see note below). It's an expensive calculation. For your reference, the (design) matrix X has K+1 columns where K is the number of predictors and N rows of observations. In a machine learning algorithm you can end up with K>1000 and N>1,000,000. The X′X matrix itself takes a little while to calculate, then you have to invert K×K matrix - this is expensive.\n",
    "\n",
    "So, the gradient descent allows to save a lot of time on calculations. Moreover, the way it's done allows for a trivial parallelization, i.e. distributing the calculations across multiple processors or machines. The linear algebra solution can also be parallelized but it's more complicated and still expensive.\n",
    "\n",
    "Additionally, there are versions of gradient descent when you keep only a piece of your data in memory, lowering the requirements for computer memory. Overall, for extra large problems it's more efficient than linear algebra solution.\n",
    "\n",
    "This becomes even more important as the dimensionality increases, when you have thousands of variables like in machine learning.\n",
    "\n",
    "In data analysis, we use OLS for estimating the unknown parameters in a linear regression model. The goal is minimizing the differences between the collected observations in some arbitrary dataset and the responses predicted by the linear approximation of the data. We can express the estimator by a simple formula. You can find the general OLS formula and its exact mathematical derivation."
   ]
  },
  {
   "cell_type": "markdown",
   "id": "04a8aceb",
   "metadata": {},
   "source": []
  }
 ],
 "metadata": {
  "kernelspec": {
   "display_name": "Python 3 (ipykernel)",
   "language": "python",
   "name": "python3"
  },
  "language_info": {
   "codemirror_mode": {
    "name": "ipython",
    "version": 3
   },
   "file_extension": ".py",
   "mimetype": "text/x-python",
   "name": "python",
   "nbconvert_exporter": "python",
   "pygments_lexer": "ipython3",
   "version": "3.9.7"
  },
  "papermill": {
   "default_parameters": {},
   "duration": 15.632752,
   "end_time": "2022-01-13T09:20:58.434443",
   "environment_variables": {},
   "exception": null,
   "input_path": "__notebook__.ipynb",
   "output_path": "__notebook__.ipynb",
   "parameters": {},
   "start_time": "2022-01-13T09:20:42.801691",
   "version": "2.3.3"
  }
 },
 "nbformat": 4,
 "nbformat_minor": 5
}
