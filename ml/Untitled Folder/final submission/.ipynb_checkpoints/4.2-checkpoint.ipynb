{
 "cells": [
  {
   "cell_type": "markdown",
   "id": "8fbbf93d",
   "metadata": {},
   "source": [
    "**Polynomial Regression**\n",
    "\n",
    "**Weather Dataset**"
   ]
  },
  {
   "cell_type": "code",
   "execution_count": 1,
   "id": "ad4a191a",
   "metadata": {},
   "outputs": [],
   "source": [
    "import numpy as np\n",
    "import pandas as pd\n",
    "import matplotlib.pyplot as plt\n",
    "from sklearn.linear_model import LinearRegression\n",
    "from sklearn.preprocessing import PolynomialFeatures"
   ]
  },
  {
   "cell_type": "code",
   "execution_count": 2,
   "id": "77da9a23",
   "metadata": {},
   "outputs": [
    {
     "data": {
      "text/html": [
       "<div>\n",
       "<style scoped>\n",
       "    .dataframe tbody tr th:only-of-type {\n",
       "        vertical-align: middle;\n",
       "    }\n",
       "\n",
       "    .dataframe tbody tr th {\n",
       "        vertical-align: top;\n",
       "    }\n",
       "\n",
       "    .dataframe thead th {\n",
       "        text-align: right;\n",
       "    }\n",
       "</style>\n",
       "<table border=\"1\" class=\"dataframe\">\n",
       "  <thead>\n",
       "    <tr style=\"text-align: right;\">\n",
       "      <th></th>\n",
       "      <th>Pressure</th>\n",
       "      <th>Humidity</th>\n",
       "    </tr>\n",
       "  </thead>\n",
       "  <tbody>\n",
       "    <tr>\n",
       "      <th>0</th>\n",
       "      <td>1014.40</td>\n",
       "      <td>0.62</td>\n",
       "    </tr>\n",
       "    <tr>\n",
       "      <th>1</th>\n",
       "      <td>1014.20</td>\n",
       "      <td>0.66</td>\n",
       "    </tr>\n",
       "    <tr>\n",
       "      <th>2</th>\n",
       "      <td>1014.47</td>\n",
       "      <td>0.79</td>\n",
       "    </tr>\n",
       "    <tr>\n",
       "      <th>3</th>\n",
       "      <td>1014.45</td>\n",
       "      <td>0.82</td>\n",
       "    </tr>\n",
       "    <tr>\n",
       "      <th>4</th>\n",
       "      <td>1014.49</td>\n",
       "      <td>0.83</td>\n",
       "    </tr>\n",
       "  </tbody>\n",
       "</table>\n",
       "</div>"
      ],
      "text/plain": [
       "   Pressure  Humidity\n",
       "0   1014.40      0.62\n",
       "1   1014.20      0.66\n",
       "2   1014.47      0.79\n",
       "3   1014.45      0.82\n",
       "4   1014.49      0.83"
      ]
     },
     "execution_count": 2,
     "metadata": {},
     "output_type": "execute_result"
    }
   ],
   "source": [
    "df = pd.read_csv(\"WeatherDataP.csv\")\n",
    "df.head()"
   ]
  },
  {
   "cell_type": "markdown",
   "id": "948a364d",
   "metadata": {},
   "source": [
    "**Why you want to apply regression on selected dataset?**\n",
    "\n",
    "Because our Y which is target variable is of continuous type so we can apply regression\n",
    "\n",
    "**How many total observations in data?**\n",
    "\n",
    "There are total 25 observations.\n",
    "\n",
    "**How many independent variables?**\n",
    "\n",
    "In This dataset,we could say pressure is the independent variables.\n",
    "\n",
    "**Which is dependent variable?**\n",
    "\n",
    "Humidity is the dependent variable.\n",
    "\n",
    "**Which are most useful variable in estimation? Prove using correlation.**\n",
    "\n",
    "In this dataset Area, Baths, White Marble, Floors,\tCity, Fiber, Glass Doors are useful."
   ]
  },
  {
   "cell_type": "code",
   "execution_count": 6,
   "id": "cb8fff7b",
   "metadata": {},
   "outputs": [
    {
     "data": {
      "text/html": [
       "<div>\n",
       "<style scoped>\n",
       "    .dataframe tbody tr th:only-of-type {\n",
       "        vertical-align: middle;\n",
       "    }\n",
       "\n",
       "    .dataframe tbody tr th {\n",
       "        vertical-align: top;\n",
       "    }\n",
       "\n",
       "    .dataframe thead th {\n",
       "        text-align: right;\n",
       "    }\n",
       "</style>\n",
       "<table border=\"1\" class=\"dataframe\">\n",
       "  <thead>\n",
       "    <tr style=\"text-align: right;\">\n",
       "      <th></th>\n",
       "      <th>Pressure</th>\n",
       "      <th>Humidity</th>\n",
       "    </tr>\n",
       "  </thead>\n",
       "  <tbody>\n",
       "    <tr>\n",
       "      <th>Pressure</th>\n",
       "      <td>1.00000</td>\n",
       "      <td>0.55263</td>\n",
       "    </tr>\n",
       "    <tr>\n",
       "      <th>Humidity</th>\n",
       "      <td>0.55263</td>\n",
       "      <td>1.00000</td>\n",
       "    </tr>\n",
       "  </tbody>\n",
       "</table>\n",
       "</div>"
      ],
      "text/plain": [
       "          Pressure  Humidity\n",
       "Pressure   1.00000   0.55263\n",
       "Humidity   0.55263   1.00000"
      ]
     },
     "execution_count": 6,
     "metadata": {},
     "output_type": "execute_result"
    }
   ],
   "source": [
    "df.corr()"
   ]
  },
  {
   "cell_type": "code",
   "execution_count": 7,
   "id": "7ee09b53",
   "metadata": {},
   "outputs": [
    {
     "data": {
      "text/html": [
       "<div>\n",
       "<style scoped>\n",
       "    .dataframe tbody tr th:only-of-type {\n",
       "        vertical-align: middle;\n",
       "    }\n",
       "\n",
       "    .dataframe tbody tr th {\n",
       "        vertical-align: top;\n",
       "    }\n",
       "\n",
       "    .dataframe thead th {\n",
       "        text-align: right;\n",
       "    }\n",
       "</style>\n",
       "<table border=\"1\" class=\"dataframe\">\n",
       "  <thead>\n",
       "    <tr style=\"text-align: right;\">\n",
       "      <th></th>\n",
       "      <th>Pressure</th>\n",
       "      <th>Humidity</th>\n",
       "    </tr>\n",
       "  </thead>\n",
       "  <tbody>\n",
       "    <tr>\n",
       "      <th>count</th>\n",
       "      <td>25.000000</td>\n",
       "      <td>25.0000</td>\n",
       "    </tr>\n",
       "    <tr>\n",
       "      <th>mean</th>\n",
       "      <td>1011.481600</td>\n",
       "      <td>0.5932</td>\n",
       "    </tr>\n",
       "    <tr>\n",
       "      <th>std</th>\n",
       "      <td>2.873799</td>\n",
       "      <td>0.1590</td>\n",
       "    </tr>\n",
       "    <tr>\n",
       "      <th>min</th>\n",
       "      <td>1007.260000</td>\n",
       "      <td>0.3600</td>\n",
       "    </tr>\n",
       "    <tr>\n",
       "      <th>25%</th>\n",
       "      <td>1008.360000</td>\n",
       "      <td>0.4600</td>\n",
       "    </tr>\n",
       "    <tr>\n",
       "      <th>50%</th>\n",
       "      <td>1012.220000</td>\n",
       "      <td>0.5900</td>\n",
       "    </tr>\n",
       "    <tr>\n",
       "      <th>75%</th>\n",
       "      <td>1014.240000</td>\n",
       "      <td>0.7200</td>\n",
       "    </tr>\n",
       "    <tr>\n",
       "      <th>max</th>\n",
       "      <td>1014.520000</td>\n",
       "      <td>0.8500</td>\n",
       "    </tr>\n",
       "  </tbody>\n",
       "</table>\n",
       "</div>"
      ],
      "text/plain": [
       "          Pressure  Humidity\n",
       "count    25.000000   25.0000\n",
       "mean   1011.481600    0.5932\n",
       "std       2.873799    0.1590\n",
       "min    1007.260000    0.3600\n",
       "25%    1008.360000    0.4600\n",
       "50%    1012.220000    0.5900\n",
       "75%    1014.240000    0.7200\n",
       "max    1014.520000    0.8500"
      ]
     },
     "execution_count": 7,
     "metadata": {},
     "output_type": "execute_result"
    }
   ],
   "source": [
    "df.describe()"
   ]
  },
  {
   "cell_type": "code",
   "execution_count": 8,
   "id": "0684ea7f",
   "metadata": {},
   "outputs": [
    {
     "name": "stdout",
     "output_type": "stream",
     "text": [
      "<class 'pandas.core.frame.DataFrame'>\n",
      "RangeIndex: 25 entries, 0 to 24\n",
      "Data columns (total 2 columns):\n",
      " #   Column    Non-Null Count  Dtype  \n",
      "---  ------    --------------  -----  \n",
      " 0   Pressure  25 non-null     float64\n",
      " 1   Humidity  25 non-null     float64\n",
      "dtypes: float64(2)\n",
      "memory usage: 528.0 bytes\n"
     ]
    }
   ],
   "source": [
    "df.info()"
   ]
  },
  {
   "cell_type": "code",
   "execution_count": 9,
   "id": "e607ab83",
   "metadata": {},
   "outputs": [
    {
     "data": {
      "text/plain": [
       "Pressure    0\n",
       "Humidity    0\n",
       "dtype: int64"
      ]
     },
     "execution_count": 9,
     "metadata": {},
     "output_type": "execute_result"
    }
   ],
   "source": [
    "df.isnull().sum()"
   ]
  },
  {
   "cell_type": "code",
   "execution_count": 75,
   "id": "84722085",
   "metadata": {},
   "outputs": [
    {
     "data": {
      "text/plain": [
       "array([1014.4 , 1014.2 , 1014.47, 1014.45, 1014.49, 1014.52, 1014.16,\n",
       "       1014.24, 1014.25, 1013.96, 1013.85, 1013.04, 1012.22, 1011.44,\n",
       "       1010.52, 1009.83, 1009.26, 1008.76, 1008.36, 1008.11, 1008.15,\n",
       "       1007.85, 1007.89, 1007.36, 1007.26])"
      ]
     },
     "execution_count": 75,
     "metadata": {},
     "output_type": "execute_result"
    }
   ],
   "source": [
    "# why we are not taking series and using .values we are taking array ?\n",
    "# bcz reshape will not work in pandas series , why actually reshape() is numpy method so x must be a array\n",
    "x = df['Pressure'].values \n",
    "y = df['Humidity'].values\n",
    "x\n",
    "\n",
    "#x=df.Pressure\n",
    "#x"
   ]
  },
  {
   "cell_type": "code",
   "execution_count": 76,
   "id": "f7157646",
   "metadata": {},
   "outputs": [
    {
     "data": {
      "text/plain": [
       "array([[1014.4 ],\n",
       "       [1014.2 ],\n",
       "       [1014.47],\n",
       "       [1014.45],\n",
       "       [1014.49],\n",
       "       [1014.52],\n",
       "       [1014.16],\n",
       "       [1014.24],\n",
       "       [1014.25],\n",
       "       [1013.96],\n",
       "       [1013.85],\n",
       "       [1013.04],\n",
       "       [1012.22],\n",
       "       [1011.44],\n",
       "       [1010.52],\n",
       "       [1009.83],\n",
       "       [1009.26],\n",
       "       [1008.76],\n",
       "       [1008.36],\n",
       "       [1008.11],\n",
       "       [1008.15],\n",
       "       [1007.85],\n",
       "       [1007.89],\n",
       "       [1007.36],\n",
       "       [1007.26]])"
      ]
     },
     "execution_count": 76,
     "metadata": {},
     "output_type": "execute_result"
    }
   ],
   "source": [
    "x= x.reshape(-1,1) # reshape(rows, columns)\n",
    "x\n",
    "\n",
    "#Unknown Dimension\n",
    "#You are allowed to have one \"unknown\" dimension.\n",
    "\n",
    "#Meaning that you do not have to specify an exact number for one of the dimensions in the reshape method.\n",
    "\n",
    "#Pass -1 as the value, and NumPy will calculate this number for you.\n",
    "# Note: We can not pass -1 to more than one dimension."
   ]
  },
  {
   "cell_type": "code",
   "execution_count": 77,
   "id": "5b83d809",
   "metadata": {},
   "outputs": [
    {
     "data": {
      "text/plain": [
       "PolynomialFeatures(degree=1)"
      ]
     },
     "execution_count": 77,
     "metadata": {},
     "output_type": "execute_result"
    }
   ],
   "source": [
    "poly = PolynomialFeatures(degree=1)\n",
    "poly"
   ]
  },
  {
   "cell_type": "code",
   "execution_count": 78,
   "id": "0aa6de28",
   "metadata": {},
   "outputs": [
    {
     "data": {
      "text/plain": [
       "array([[1.00000e+00, 1.01440e+03],\n",
       "       [1.00000e+00, 1.01420e+03],\n",
       "       [1.00000e+00, 1.01447e+03],\n",
       "       [1.00000e+00, 1.01445e+03],\n",
       "       [1.00000e+00, 1.01449e+03],\n",
       "       [1.00000e+00, 1.01452e+03],\n",
       "       [1.00000e+00, 1.01416e+03],\n",
       "       [1.00000e+00, 1.01424e+03],\n",
       "       [1.00000e+00, 1.01425e+03],\n",
       "       [1.00000e+00, 1.01396e+03],\n",
       "       [1.00000e+00, 1.01385e+03],\n",
       "       [1.00000e+00, 1.01304e+03],\n",
       "       [1.00000e+00, 1.01222e+03],\n",
       "       [1.00000e+00, 1.01144e+03],\n",
       "       [1.00000e+00, 1.01052e+03],\n",
       "       [1.00000e+00, 1.00983e+03],\n",
       "       [1.00000e+00, 1.00926e+03],\n",
       "       [1.00000e+00, 1.00876e+03],\n",
       "       [1.00000e+00, 1.00836e+03],\n",
       "       [1.00000e+00, 1.00811e+03],\n",
       "       [1.00000e+00, 1.00815e+03],\n",
       "       [1.00000e+00, 1.00785e+03],\n",
       "       [1.00000e+00, 1.00789e+03],\n",
       "       [1.00000e+00, 1.00736e+03],\n",
       "       [1.00000e+00, 1.00726e+03]])"
      ]
     },
     "execution_count": 78,
     "metadata": {},
     "output_type": "execute_result"
    }
   ],
   "source": [
    "x_poly = poly.fit_transform(x) #this function return valueerror if we have store x values in series instead of array\n",
    "x_poly\n",
    "\n",
    "#Often, the input features for a predictive modeling task interact in unexpected and often nonlinear ways.\n",
    "\n",
    "#These interactions can be identified and modeled by a learning algorithm. Another approach is to engineer new features that expose these interactions and see if they improve model performance. Additionally, transforms like raising input variables to a power can help to better expose the important relationships between input variables(x) and the target variable(x_poly).\n",
    "\n",
    "#These features are called interaction and polynomial features and allow the use of simpler modeling algorithms as some of the complexity of interpreting the input variables and their relationships is pushed back to the data preparation stage. Sometimes these features can result in improved modeling performance, although at the cost of adding thousands or even millions of additional input variables.'''"
   ]
  },
  {
   "cell_type": "code",
   "execution_count": 85,
   "id": "fab4176f",
   "metadata": {},
   "outputs": [
    {
     "data": {
      "text/plain": [
       "PolynomialFeatures(degree=5)"
      ]
     },
     "execution_count": 85,
     "metadata": {},
     "output_type": "execute_result"
    }
   ],
   "source": [
    "poly.fit(x_poly,y) # TO FIND OUT BEST FIT CO-EFFICENT / BEST LINE FIT CURVE FOR THE LINE OF INPUT(X_POLY),DEPENDS ON Y"
   ]
  },
  {
   "cell_type": "code",
   "execution_count": 80,
   "id": "c5a3f882",
   "metadata": {},
   "outputs": [
    {
     "data": {
      "text/plain": [
       "LinearRegression()"
      ]
     },
     "execution_count": 80,
     "metadata": {},
     "output_type": "execute_result"
    }
   ],
   "source": [
    "reg = LinearRegression()\n",
    "reg.fit(x_poly,y)"
   ]
  },
  {
   "cell_type": "code",
   "execution_count": 81,
   "id": "8f258f07",
   "metadata": {},
   "outputs": [],
   "source": [
    "y_preg = reg.predict(x_poly)"
   ]
  },
  {
   "cell_type": "code",
   "execution_count": 82,
   "id": "3e0f732e",
   "metadata": {},
   "outputs": [
    {
     "data": {
      "text/plain": [
       "[<matplotlib.lines.Line2D at 0x1f13c520190>]"
      ]
     },
     "execution_count": 82,
     "metadata": {},
     "output_type": "execute_result"
    },
    {
     "data": {
      "image/png": "[encoded data removed]",
      "text/plain": [
       "<Figure size 432x288 with 1 Axes>"
      ]
     },
     "metadata": {
      "needs_background": "light"
     },
     "output_type": "display_data"
    }
   ],
   "source": [
    "plt.scatter(x,y,color='black')\n",
    "plt.plot(x, y_preg, color='red')"
   ]
  },
  {
   "cell_type": "code",
   "execution_count": 83,
   "id": "d09c5cba",
   "metadata": {},
   "outputs": [
    {
     "data": {
      "text/plain": [
       "[<matplotlib.lines.Line2D at 0x1f13c58c2e0>]"
      ]
     },
     "execution_count": 83,
     "metadata": {},
     "output_type": "execute_result"
    },
    {
     "data": {
      "image/png": "[encoded data removed]",
      "text/plain": [
       "<Figure size 432x288 with 1 Axes>"
      ]
     },
     "metadata": {
      "needs_background": "light"
     },
     "output_type": "display_data"
    }
   ],
   "source": [
    "#polynomial of degree 3\n",
    "\n",
    "poly = PolynomialFeatures(degree=3)\n",
    "x_poly = poly.fit_transform(x)\n",
    "poly.fit(x_poly,y)\n",
    "reg.fit(x_poly,y)\n",
    "y_preg = reg.predict(x_poly)\n",
    "plt.scatter(x,y,color='black')\n",
    "plt.plot(x, y_preg, color='red')"
   ]
  },
  {
   "cell_type": "code",
   "execution_count": 84,
   "id": "057ecc81",
   "metadata": {},
   "outputs": [
    {
     "data": {
      "text/plain": [
       "[<matplotlib.lines.Line2D at 0x1f13c5fa280>]"
      ]
     },
     "execution_count": 84,
     "metadata": {},
     "output_type": "execute_result"
    },
    {
     "data": {
      "image/png": "[encoded data removed]",
      "text/plain": [
       "<Figure size 432x288 with 1 Axes>"
      ]
     },
     "metadata": {
      "needs_background": "light"
     },
     "output_type": "display_data"
    }
   ],
   "source": [
    "#polynomial of degree 5\n",
    "\n",
    "poly = PolynomialFeatures(degree=5)\n",
    "x_poly = poly.fit_transform(x)\n",
    "poly.fit(x_poly,y)\n",
    "reg.fit(x_poly,y)\n",
    "y_preg = reg.predict(x_poly)\n",
    "plt.scatter(x,y,color='black')\n",
    "plt.plot(x, y_preg, color='red')"
   ]
  },
  {
   "cell_type": "markdown",
   "id": "ac4fe27a",
   "metadata": {},
   "source": [
    "# Learning Outcomes\n",
    "\n",
    "    1. Polynomial Regression is most usefull when the dataset doesn't follow any co-relation with each other.\n",
    "    2. High Degree Polynomial Regression leads to overfitting problem."
   ]
  }
 ],
 "metadata": {
  "kernelspec": {
   "display_name": "Python 3 (ipykernel)",
   "language": "python",
   "name": "python3"
  },
  "language_info": {
   "codemirror_mode": {
    "name": "ipython",
    "version": 3
   },
   "file_extension": ".py",
   "mimetype": "text/x-python",
   "name": "python",
   "nbconvert_exporter": "python",
   "pygments_lexer": "ipython3",
   "version": "3.9.7"
  }
 },
 "nbformat": 4,
 "nbformat_minor": 5
}
