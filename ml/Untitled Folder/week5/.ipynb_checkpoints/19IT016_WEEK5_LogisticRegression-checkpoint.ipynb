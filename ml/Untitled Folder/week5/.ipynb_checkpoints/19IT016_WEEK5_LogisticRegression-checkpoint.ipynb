{
 "cells": [
  {
   "cell_type": "markdown",
   "id": "abdd84af",
   "metadata": {},
   "source": [
    "# **19IT016 Manav Butani**\n",
    "# Week 5 : Logistic Regression\n",
    "\n",
    "## Girnar Tourism Dataset"
   ]
  },
  {
   "cell_type": "markdown",
   "id": "91407579",
   "metadata": {},
   "source": [
    "# Flow of implementation\n",
    "- Import required libraries\n",
    "- Load dataset and Divide in Features and Target\n",
    "- Clean Dataset (Exchange missing values with apropreate value)\n",
    "- Divide dataset in train-test split\n",
    "- Fit the model on training data\n",
    "- Check for Goodness of Fit using confusion_matrix, score"
   ]
  },
  {
   "cell_type": "markdown",
   "id": "622ba821",
   "metadata": {},
   "source": [
    "# What is Logistic Regression ?\n",
    "**Logistic Regression is a Machine Learning algorithm which is used for the classification problems, it is a predictive analysis algorithm and based on the concept of probability.**\n",
    "\n",
    "# What are the types of logistic regression\n",
    "**Binary Classification (eg. 0 and 1) only two outcomes,**,\n",
    "**MultiClass Classification (eg. Cats, dogs or Sheep's) more than two counts**"
   ]
  },
  {
   "cell_type": "markdown",
   "id": "b7e15710",
   "metadata": {},
   "source": [
    "# Dataset Declaration\n",
    "\n",
    "Here,Girnar Hills' Tourists trying to claim Girnar Summit on day count 1. All are successful or not (0 or 1) related Binary Classification applied.\n",
    "\n",
    "Features are Age,\n",
    "Time(0 to 23.59) means that 24Hr format,\n",
    "Weather(hot, cool, rainy), \n",
    "Rope-Way(0 or 1) means that taking Rope-Way to climb Girnar,\n",
    "Exersize(0 or 1) means that tourist is regular in Exersize or not,\n",
    "Traffic Rate(0 t0 1) means traffic on that day."
   ]
  },
  {
   "cell_type": "code",
   "execution_count": 2,
   "id": "27ceaff9",
   "metadata": {},
   "outputs": [],
   "source": [
    "import pandas as pd\n",
    "import matplotlib.pyplot as plt\n",
    "%matplotlib inline\n",
    "import seaborn as sns"
   ]
  },
  {
   "cell_type": "code",
   "execution_count": 3,
   "id": "05fa1397",
   "metadata": {},
   "outputs": [
    {
     "data": {
      "text/html": [
       "<div>\n",
       "<style scoped>\n",
       "    .dataframe tbody tr th:only-of-type {\n",
       "        vertical-align: middle;\n",
       "    }\n",
       "\n",
       "    .dataframe tbody tr th {\n",
       "        vertical-align: top;\n",
       "    }\n",
       "\n",
       "    .dataframe thead th {\n",
       "        text-align: right;\n",
       "    }\n",
       "</style>\n",
       "<table border=\"1\" class=\"dataframe\">\n",
       "  <thead>\n",
       "    <tr style=\"text-align: right;\">\n",
       "      <th></th>\n",
       "      <th>Age</th>\n",
       "      <th>Time</th>\n",
       "      <th>Weather</th>\n",
       "      <th>Group</th>\n",
       "      <th>Rop-Way</th>\n",
       "      <th>Exersize</th>\n",
       "      <th>Weight</th>\n",
       "      <th>Trafic Rate</th>\n",
       "      <th>Success</th>\n",
       "    </tr>\n",
       "  </thead>\n",
       "  <tbody>\n",
       "    <tr>\n",
       "      <th>0</th>\n",
       "      <td>20.0</td>\n",
       "      <td>7.00</td>\n",
       "      <td>Hot</td>\n",
       "      <td>4.0</td>\n",
       "      <td>0.0</td>\n",
       "      <td>1.0</td>\n",
       "      <td>3.0</td>\n",
       "      <td>0.7</td>\n",
       "      <td>1</td>\n",
       "    </tr>\n",
       "    <tr>\n",
       "      <th>1</th>\n",
       "      <td>21.0</td>\n",
       "      <td>5.00</td>\n",
       "      <td>Cool</td>\n",
       "      <td>5.0</td>\n",
       "      <td>0.0</td>\n",
       "      <td>1.0</td>\n",
       "      <td>7.0</td>\n",
       "      <td>0.8</td>\n",
       "      <td>0</td>\n",
       "    </tr>\n",
       "    <tr>\n",
       "      <th>2</th>\n",
       "      <td>20.0</td>\n",
       "      <td>4.75</td>\n",
       "      <td>Rainy</td>\n",
       "      <td>3.0</td>\n",
       "      <td>0.0</td>\n",
       "      <td>1.0</td>\n",
       "      <td>2.8</td>\n",
       "      <td>0.4</td>\n",
       "      <td>0</td>\n",
       "    </tr>\n",
       "    <tr>\n",
       "      <th>3</th>\n",
       "      <td>66.0</td>\n",
       "      <td>5.50</td>\n",
       "      <td>Cool</td>\n",
       "      <td>3.0</td>\n",
       "      <td>0.0</td>\n",
       "      <td>1.0</td>\n",
       "      <td>1.5</td>\n",
       "      <td>0.7</td>\n",
       "      <td>1</td>\n",
       "    </tr>\n",
       "    <tr>\n",
       "      <th>4</th>\n",
       "      <td>24.0</td>\n",
       "      <td>4.75</td>\n",
       "      <td>Cool</td>\n",
       "      <td>10.0</td>\n",
       "      <td>1.0</td>\n",
       "      <td>0.0</td>\n",
       "      <td>2.7</td>\n",
       "      <td>0.7</td>\n",
       "      <td>0</td>\n",
       "    </tr>\n",
       "  </tbody>\n",
       "</table>\n",
       "</div>"
      ],
      "text/plain": [
       "    Age  Time Weather  Group  Rop-Way  Exersize  Weight  Trafic Rate  Success\n",
       "0  20.0  7.00     Hot    4.0      0.0       1.0     3.0          0.7        1\n",
       "1  21.0  5.00    Cool    5.0      0.0       1.0     7.0          0.8        0\n",
       "2  20.0  4.75   Rainy    3.0      0.0       1.0     2.8          0.4        0\n",
       "3  66.0  5.50    Cool    3.0      0.0       1.0     1.5          0.7        1\n",
       "4  24.0  4.75    Cool   10.0      1.0       0.0     2.7          0.7        0"
      ]
     },
     "execution_count": 3,
     "metadata": {},
     "output_type": "execute_result"
    }
   ],
   "source": [
    "df = pd.read_excel(\"Girnar_Tourism.xlsx\")\n",
    "df.head()"
   ]
  },
  {
   "cell_type": "code",
   "execution_count": 4,
   "id": "fd60fbf7",
   "metadata": {},
   "outputs": [
    {
     "name": "stdout",
     "output_type": "stream",
     "text": [
      "(39, 9)\n",
      "39\n"
     ]
    }
   ],
   "source": [
    "print(df.shape)\n",
    "print(len(df))"
   ]
  },
  {
   "cell_type": "markdown",
   "id": "346bce2e",
   "metadata": {},
   "source": [
    "Below we can see lot of duplicate rows present in data, so removing them"
   ]
  },
  {
   "cell_type": "code",
   "execution_count": 5,
   "id": "75e15509",
   "metadata": {},
   "outputs": [
    {
     "data": {
      "text/plain": [
       "0     False\n",
       "1     False\n",
       "2     False\n",
       "3     False\n",
       "4     False\n",
       "5     False\n",
       "6     False\n",
       "7     False\n",
       "8     False\n",
       "9     False\n",
       "10    False\n",
       "11    False\n",
       "12    False\n",
       "13    False\n",
       "14    False\n",
       "15    False\n",
       "16    False\n",
       "17    False\n",
       "18    False\n",
       "19    False\n",
       "20    False\n",
       "21    False\n",
       "22    False\n",
       "23    False\n",
       "24    False\n",
       "25    False\n",
       "26     True\n",
       "27     True\n",
       "28     True\n",
       "29     True\n",
       "30     True\n",
       "31     True\n",
       "32     True\n",
       "33     True\n",
       "34     True\n",
       "35     True\n",
       "36     True\n",
       "37     True\n",
       "38     True\n",
       "dtype: bool"
      ]
     },
     "execution_count": 5,
     "metadata": {},
     "output_type": "execute_result"
    }
   ],
   "source": [
    "df.duplicated() #shows duplicate rows in dataframe"
   ]
  },
  {
   "cell_type": "code",
   "execution_count": 6,
   "id": "7890eb1d",
   "metadata": {},
   "outputs": [],
   "source": [
    "df.drop_duplicates(inplace=True)"
   ]
  },
  {
   "cell_type": "code",
   "execution_count": 7,
   "id": "44aad544",
   "metadata": {},
   "outputs": [
    {
     "name": "stdout",
     "output_type": "stream",
     "text": [
      "<class 'pandas.core.frame.DataFrame'>\n",
      "Int64Index: 26 entries, 0 to 25\n",
      "Data columns (total 9 columns):\n",
      " #   Column       Non-Null Count  Dtype  \n",
      "---  ------       --------------  -----  \n",
      " 0   Age          25 non-null     float64\n",
      " 1   Time         25 non-null     float64\n",
      " 2   Weather      26 non-null     object \n",
      " 3   Group        25 non-null     float64\n",
      " 4   Rop-Way      25 non-null     float64\n",
      " 5   Exersize     25 non-null     float64\n",
      " 6   Weight       25 non-null     float64\n",
      " 7   Trafic Rate  25 non-null     float64\n",
      " 8   Success      26 non-null     int64  \n",
      "dtypes: float64(7), int64(1), object(1)\n",
      "memory usage: 2.0+ KB\n"
     ]
    }
   ],
   "source": [
    "df.info() #here, Weather datatype is object and that contains three value Hot, Cool, Rainy\n",
    "# consider Cool=1, Hot=.5 and Rainy=0"
   ]
  },
  {
   "cell_type": "code",
   "execution_count": 8,
   "id": "cc76a068",
   "metadata": {},
   "outputs": [],
   "source": [
    "df[\"Weather\"].replace(to_replace=\"Hot\",value=0.5, inplace=True)\n",
    "df[\"Weather\"].replace(to_replace=\"Rainy\",value=0, inplace=True)\n",
    "df[\"Weather\"].replace(to_replace=\"Cool\",value=1, inplace=True)"
   ]
  },
  {
   "cell_type": "markdown",
   "id": "f32418f0",
   "metadata": {},
   "source": [
    "Below we can see that there is null values present in Age, Time, Group, Rop-Way ,Exersize, Weight, and Trafic Rate.\n",
    "\n",
    "\n",
    "so put averange value of Age,Trafic Rate, Weight data where null values is present\n",
    "\n",
    "and for Group replace it with mode value\n",
    "\n",
    "and for Time replace it with meadian value\n",
    "\n",
    "and for Rop-Way and Exersize take random value"
   ]
  },
  {
   "cell_type": "code",
   "execution_count": 9,
   "id": "2b28de27",
   "metadata": {},
   "outputs": [
    {
     "data": {
      "text/plain": [
       "Age            1\n",
       "Time           1\n",
       "Weather        0\n",
       "Group          1\n",
       "Rop-Way        1\n",
       "Exersize       1\n",
       "Weight         1\n",
       "Trafic Rate    1\n",
       "Success        0\n",
       "dtype: int64"
      ]
     },
     "execution_count": 9,
     "metadata": {},
     "output_type": "execute_result"
    }
   ],
   "source": [
    "df.isnull().sum()"
   ]
  },
  {
   "cell_type": "code",
   "execution_count": 10,
   "id": "723d65e3",
   "metadata": {},
   "outputs": [],
   "source": [
    "avg_age = df['Age'].mean()\n",
    "df['Age'].fillna(avg_age,inplace=True)\n",
    "\n",
    "avg_traf = df['Trafic Rate'].mean()\n",
    "df['Trafic Rate'].fillna(avg_traf,inplace=True)\n",
    "\n",
    "avg_Weight = df['Weight'].mean()\n",
    "df['Weight'].fillna(avg_Weight,inplace=True)\n",
    "\n",
    "#inplace true means that we are changing in the original data set"
   ]
  },
  {
   "cell_type": "code",
   "execution_count": 11,
   "id": "3df806d0",
   "metadata": {},
   "outputs": [],
   "source": [
    "import math\n",
    "\n",
    "grp = df['Group'].mode().max()\n",
    "#print(grp) # 0 and 4 \n",
    "#In mode possible that we are getting multiple answer \n",
    "# here also we get 0 and 4, thats why taking max number among them\n",
    "df['Group'].fillna(grp,inplace=True)\n",
    "\n",
    "tm = df['Time'].median()\n",
    "df['Time'].fillna(tm,inplace=True)"
   ]
  },
  {
   "cell_type": "code",
   "execution_count": 12,
   "id": "04b63952",
   "metadata": {},
   "outputs": [],
   "source": [
    "import random\n",
    "\n",
    "list1 = [0, 1]\n",
    "df[\"Rop-Way\"].fillna(random.choice(list1),inplace=True)\n",
    "df[\"Exersize\"].fillna(random.choice(list1),inplace=True)"
   ]
  },
  {
   "cell_type": "code",
   "execution_count": 13,
   "id": "004991b5",
   "metadata": {},
   "outputs": [
    {
     "data": {
      "text/plain": [
       "Age            0\n",
       "Time           0\n",
       "Weather        0\n",
       "Group          0\n",
       "Rop-Way        0\n",
       "Exersize       0\n",
       "Weight         0\n",
       "Trafic Rate    0\n",
       "Success        0\n",
       "dtype: int64"
      ]
     },
     "execution_count": 13,
     "metadata": {},
     "output_type": "execute_result"
    }
   ],
   "source": [
    "df.isnull().sum()"
   ]
  },
  {
   "cell_type": "code",
   "execution_count": 14,
   "id": "3c47512f",
   "metadata": {},
   "outputs": [
    {
     "data": {
      "text/html": [
       "<div>\n",
       "<style scoped>\n",
       "    .dataframe tbody tr th:only-of-type {\n",
       "        vertical-align: middle;\n",
       "    }\n",
       "\n",
       "    .dataframe tbody tr th {\n",
       "        vertical-align: top;\n",
       "    }\n",
       "\n",
       "    .dataframe thead th {\n",
       "        text-align: right;\n",
       "    }\n",
       "</style>\n",
       "<table border=\"1\" class=\"dataframe\">\n",
       "  <thead>\n",
       "    <tr style=\"text-align: right;\">\n",
       "      <th></th>\n",
       "      <th>Age</th>\n",
       "      <th>Time</th>\n",
       "      <th>Weather</th>\n",
       "      <th>Group</th>\n",
       "      <th>Rop-Way</th>\n",
       "      <th>Exersize</th>\n",
       "      <th>Weight</th>\n",
       "      <th>Trafic Rate</th>\n",
       "      <th>Success</th>\n",
       "    </tr>\n",
       "  </thead>\n",
       "  <tbody>\n",
       "    <tr>\n",
       "      <th>count</th>\n",
       "      <td>26.000000</td>\n",
       "      <td>26.000000</td>\n",
       "      <td>26.000000</td>\n",
       "      <td>26.000000</td>\n",
       "      <td>26.000000</td>\n",
       "      <td>26.000000</td>\n",
       "      <td>26.000000</td>\n",
       "      <td>26.000000</td>\n",
       "      <td>26.000000</td>\n",
       "    </tr>\n",
       "    <tr>\n",
       "      <th>mean</th>\n",
       "      <td>30.640000</td>\n",
       "      <td>5.990385</td>\n",
       "      <td>0.596154</td>\n",
       "      <td>4.230769</td>\n",
       "      <td>0.461538</td>\n",
       "      <td>0.807692</td>\n",
       "      <td>2.856000</td>\n",
       "      <td>0.699200</td>\n",
       "      <td>0.500000</td>\n",
       "    </tr>\n",
       "    <tr>\n",
       "      <th>std</th>\n",
       "      <td>15.904414</td>\n",
       "      <td>1.713886</td>\n",
       "      <td>0.400480</td>\n",
       "      <td>1.773306</td>\n",
       "      <td>0.508391</td>\n",
       "      <td>0.401918</td>\n",
       "      <td>1.696132</td>\n",
       "      <td>0.210844</td>\n",
       "      <td>0.509902</td>\n",
       "    </tr>\n",
       "    <tr>\n",
       "      <th>min</th>\n",
       "      <td>10.000000</td>\n",
       "      <td>4.000000</td>\n",
       "      <td>0.000000</td>\n",
       "      <td>1.000000</td>\n",
       "      <td>0.000000</td>\n",
       "      <td>0.000000</td>\n",
       "      <td>0.000000</td>\n",
       "      <td>0.200000</td>\n",
       "      <td>0.000000</td>\n",
       "    </tr>\n",
       "    <tr>\n",
       "      <th>25%</th>\n",
       "      <td>21.000000</td>\n",
       "      <td>5.000000</td>\n",
       "      <td>0.500000</td>\n",
       "      <td>3.250000</td>\n",
       "      <td>0.000000</td>\n",
       "      <td>1.000000</td>\n",
       "      <td>1.625000</td>\n",
       "      <td>0.600000</td>\n",
       "      <td>0.000000</td>\n",
       "    </tr>\n",
       "    <tr>\n",
       "      <th>50%</th>\n",
       "      <td>24.000000</td>\n",
       "      <td>5.000000</td>\n",
       "      <td>0.500000</td>\n",
       "      <td>4.000000</td>\n",
       "      <td>0.000000</td>\n",
       "      <td>1.000000</td>\n",
       "      <td>2.750000</td>\n",
       "      <td>0.700000</td>\n",
       "      <td>0.500000</td>\n",
       "    </tr>\n",
       "    <tr>\n",
       "      <th>75%</th>\n",
       "      <td>36.500000</td>\n",
       "      <td>7.000000</td>\n",
       "      <td>1.000000</td>\n",
       "      <td>5.000000</td>\n",
       "      <td>1.000000</td>\n",
       "      <td>1.000000</td>\n",
       "      <td>4.000000</td>\n",
       "      <td>0.800000</td>\n",
       "      <td>1.000000</td>\n",
       "    </tr>\n",
       "    <tr>\n",
       "      <th>max</th>\n",
       "      <td>66.000000</td>\n",
       "      <td>10.000000</td>\n",
       "      <td>1.000000</td>\n",
       "      <td>10.000000</td>\n",
       "      <td>1.000000</td>\n",
       "      <td>1.000000</td>\n",
       "      <td>7.000000</td>\n",
       "      <td>1.000000</td>\n",
       "      <td>1.000000</td>\n",
       "    </tr>\n",
       "  </tbody>\n",
       "</table>\n",
       "</div>"
      ],
      "text/plain": [
       "             Age       Time    Weather      Group    Rop-Way   Exersize  \\\n",
       "count  26.000000  26.000000  26.000000  26.000000  26.000000  26.000000   \n",
       "mean   30.640000   5.990385   0.596154   4.230769   0.461538   0.807692   \n",
       "std    15.904414   1.713886   0.400480   1.773306   0.508391   0.401918   \n",
       "min    10.000000   4.000000   0.000000   1.000000   0.000000   0.000000   \n",
       "25%    21.000000   5.000000   0.500000   3.250000   0.000000   1.000000   \n",
       "50%    24.000000   5.000000   0.500000   4.000000   0.000000   1.000000   \n",
       "75%    36.500000   7.000000   1.000000   5.000000   1.000000   1.000000   \n",
       "max    66.000000  10.000000   1.000000  10.000000   1.000000   1.000000   \n",
       "\n",
       "          Weight  Trafic Rate    Success  \n",
       "count  26.000000    26.000000  26.000000  \n",
       "mean    2.856000     0.699200   0.500000  \n",
       "std     1.696132     0.210844   0.509902  \n",
       "min     0.000000     0.200000   0.000000  \n",
       "25%     1.625000     0.600000   0.000000  \n",
       "50%     2.750000     0.700000   0.500000  \n",
       "75%     4.000000     0.800000   1.000000  \n",
       "max     7.000000     1.000000   1.000000  "
      ]
     },
     "execution_count": 14,
     "metadata": {},
     "output_type": "execute_result"
    }
   ],
   "source": [
    "df.describe()"
   ]
  },
  {
   "cell_type": "code",
   "execution_count": 15,
   "id": "2a14ad55",
   "metadata": {},
   "outputs": [
    {
     "name": "stderr",
     "output_type": "stream",
     "text": [
      "C:\\Users\\Manav\\anaconda3\\lib\\site-packages\\seaborn\\_decorators.py:36: FutureWarning: Pass the following variable as a keyword arg: x. From version 0.12, the only valid positional argument will be `data`, and passing other arguments without an explicit keyword will result in an error or misinterpretation.\n",
      "  warnings.warn(\n",
      "C:\\Users\\Manav\\anaconda3\\lib\\site-packages\\seaborn\\_decorators.py:36: FutureWarning: Pass the following variable as a keyword arg: x. From version 0.12, the only valid positional argument will be `data`, and passing other arguments without an explicit keyword will result in an error or misinterpretation.\n",
      "  warnings.warn(\n",
      "C:\\Users\\Manav\\anaconda3\\lib\\site-packages\\seaborn\\_decorators.py:36: FutureWarning: Pass the following variable as a keyword arg: x. From version 0.12, the only valid positional argument will be `data`, and passing other arguments without an explicit keyword will result in an error or misinterpretation.\n",
      "  warnings.warn(\n"
     ]
    },
    {
     "data": {
      "text/plain": [
       "<AxesSubplot:xlabel='Exersize', ylabel='count'>"
      ]
     },
     "execution_count": 15,
     "metadata": {},
     "output_type": "execute_result"
    },
    {
     "data": {
      "image/png": "[encoded data removed]",
      "text/plain": [
       "<Figure size 7200x3600 with 3 Axes>"
      ]
     },
     "metadata": {
      "needs_background": "light"
     },
     "output_type": "display_data"
    }
   ],
   "source": [
    "plt.figure(figsize=(100, 50))\n",
    "sns.set(font_scale = 5)\n",
    "\n",
    "plt.subplot(331)\n",
    "sns.countplot(df[\"Weather\"],hue=df[\"Success\"])\n",
    "\n",
    "plt.subplot(332)\n",
    "sns.countplot(df[\"Rop-Way\"],hue=df[\"Success\"])\n",
    "\n",
    "plt.subplot(333)\n",
    "sns.countplot(df[\"Exersize\"],hue=df[\"Success\"])\n",
    "\n",
    "#plt.subplot(334)\n",
    "#sns.countplot(df[\"Weight\"],hue=df[\"Success\"])\n",
    "\n",
    "#plt.subplot(335)\n",
    "#sns.countplot(df[\"Trafic Rate\"],hue=df[\"Success\"])\n",
    "\n",
    "#plt.subplot(336)\n",
    "#sns.countplot(df[\"Time\"],hue=df[\"Success\"])\n"
   ]
  },
  {
   "cell_type": "code",
   "execution_count": 16,
   "id": "94ab50fc",
   "metadata": {},
   "outputs": [
    {
     "data": {
      "text/html": [
       "<div>\n",
       "<style scoped>\n",
       "    .dataframe tbody tr th:only-of-type {\n",
       "        vertical-align: middle;\n",
       "    }\n",
       "\n",
       "    .dataframe tbody tr th {\n",
       "        vertical-align: top;\n",
       "    }\n",
       "\n",
       "    .dataframe thead th {\n",
       "        text-align: right;\n",
       "    }\n",
       "</style>\n",
       "<table border=\"1\" class=\"dataframe\">\n",
       "  <thead>\n",
       "    <tr style=\"text-align: right;\">\n",
       "      <th></th>\n",
       "      <th>Age</th>\n",
       "      <th>Time</th>\n",
       "      <th>Weather</th>\n",
       "      <th>Group</th>\n",
       "      <th>Rop-Way</th>\n",
       "      <th>Exersize</th>\n",
       "      <th>Weight</th>\n",
       "      <th>Trafic Rate</th>\n",
       "      <th>Success</th>\n",
       "    </tr>\n",
       "  </thead>\n",
       "  <tbody>\n",
       "    <tr>\n",
       "      <th>Age</th>\n",
       "      <td>1.000000</td>\n",
       "      <td>0.338274</td>\n",
       "      <td>0.436964</td>\n",
       "      <td>-0.297610</td>\n",
       "      <td>-0.107252</td>\n",
       "      <td>0.282841</td>\n",
       "      <td>-0.347711</td>\n",
       "      <td>0.136374</td>\n",
       "      <td>-0.001578</td>\n",
       "    </tr>\n",
       "    <tr>\n",
       "      <th>Time</th>\n",
       "      <td>0.338274</td>\n",
       "      <td>1.000000</td>\n",
       "      <td>0.241793</td>\n",
       "      <td>-0.387495</td>\n",
       "      <td>-0.086517</td>\n",
       "      <td>0.316585</td>\n",
       "      <td>0.026254</td>\n",
       "      <td>-0.013770</td>\n",
       "      <td>0.085821</td>\n",
       "    </tr>\n",
       "    <tr>\n",
       "      <th>Weather</th>\n",
       "      <td>0.436964</td>\n",
       "      <td>0.241793</td>\n",
       "      <td>1.000000</td>\n",
       "      <td>0.192802</td>\n",
       "      <td>0.068006</td>\n",
       "      <td>-0.004779</td>\n",
       "      <td>0.175601</td>\n",
       "      <td>0.553014</td>\n",
       "      <td>0.440732</td>\n",
       "    </tr>\n",
       "    <tr>\n",
       "      <th>Group</th>\n",
       "      <td>-0.297610</td>\n",
       "      <td>-0.387495</td>\n",
       "      <td>0.192802</td>\n",
       "      <td>1.000000</td>\n",
       "      <td>0.409559</td>\n",
       "      <td>-0.271979</td>\n",
       "      <td>0.199005</td>\n",
       "      <td>0.051865</td>\n",
       "      <td>0.044237</td>\n",
       "    </tr>\n",
       "    <tr>\n",
       "      <th>Rop-Way</th>\n",
       "      <td>-0.107252</td>\n",
       "      <td>-0.086517</td>\n",
       "      <td>0.068006</td>\n",
       "      <td>0.409559</td>\n",
       "      <td>1.000000</td>\n",
       "      <td>-0.135526</td>\n",
       "      <td>-0.193529</td>\n",
       "      <td>0.145385</td>\n",
       "      <td>0.154303</td>\n",
       "    </tr>\n",
       "    <tr>\n",
       "      <th>Exersize</th>\n",
       "      <td>0.282841</td>\n",
       "      <td>0.316585</td>\n",
       "      <td>-0.004779</td>\n",
       "      <td>-0.271979</td>\n",
       "      <td>-0.135526</td>\n",
       "      <td>1.000000</td>\n",
       "      <td>0.233531</td>\n",
       "      <td>0.149158</td>\n",
       "      <td>0.097590</td>\n",
       "    </tr>\n",
       "    <tr>\n",
       "      <th>Weight</th>\n",
       "      <td>-0.347711</td>\n",
       "      <td>0.026254</td>\n",
       "      <td>0.175601</td>\n",
       "      <td>0.199005</td>\n",
       "      <td>-0.193529</td>\n",
       "      <td>0.233531</td>\n",
       "      <td>1.000000</td>\n",
       "      <td>0.415315</td>\n",
       "      <td>0.118956</td>\n",
       "    </tr>\n",
       "    <tr>\n",
       "      <th>Trafic Rate</th>\n",
       "      <td>0.136374</td>\n",
       "      <td>-0.013770</td>\n",
       "      <td>0.553014</td>\n",
       "      <td>0.051865</td>\n",
       "      <td>0.145385</td>\n",
       "      <td>0.149158</td>\n",
       "      <td>0.415315</td>\n",
       "      <td>1.000000</td>\n",
       "      <td>0.201060</td>\n",
       "    </tr>\n",
       "    <tr>\n",
       "      <th>Success</th>\n",
       "      <td>-0.001578</td>\n",
       "      <td>0.085821</td>\n",
       "      <td>0.440732</td>\n",
       "      <td>0.044237</td>\n",
       "      <td>0.154303</td>\n",
       "      <td>0.097590</td>\n",
       "      <td>0.118956</td>\n",
       "      <td>0.201060</td>\n",
       "      <td>1.000000</td>\n",
       "    </tr>\n",
       "  </tbody>\n",
       "</table>\n",
       "</div>"
      ],
      "text/plain": [
       "                  Age      Time   Weather     Group   Rop-Way  Exersize  \\\n",
       "Age          1.000000  0.338274  0.436964 -0.297610 -0.107252  0.282841   \n",
       "Time         0.338274  1.000000  0.241793 -0.387495 -0.086517  0.316585   \n",
       "Weather      0.436964  0.241793  1.000000  0.192802  0.068006 -0.004779   \n",
       "Group       -0.297610 -0.387495  0.192802  1.000000  0.409559 -0.271979   \n",
       "Rop-Way     -0.107252 -0.086517  0.068006  0.409559  1.000000 -0.135526   \n",
       "Exersize     0.282841  0.316585 -0.004779 -0.271979 -0.135526  1.000000   \n",
       "Weight      -0.347711  0.026254  0.175601  0.199005 -0.193529  0.233531   \n",
       "Trafic Rate  0.136374 -0.013770  0.553014  0.051865  0.145385  0.149158   \n",
       "Success     -0.001578  0.085821  0.440732  0.044237  0.154303  0.097590   \n",
       "\n",
       "               Weight  Trafic Rate   Success  \n",
       "Age         -0.347711     0.136374 -0.001578  \n",
       "Time         0.026254    -0.013770  0.085821  \n",
       "Weather      0.175601     0.553014  0.440732  \n",
       "Group        0.199005     0.051865  0.044237  \n",
       "Rop-Way     -0.193529     0.145385  0.154303  \n",
       "Exersize     0.233531     0.149158  0.097590  \n",
       "Weight       1.000000     0.415315  0.118956  \n",
       "Trafic Rate  0.415315     1.000000  0.201060  \n",
       "Success      0.118956     0.201060  1.000000  "
      ]
     },
     "execution_count": 16,
     "metadata": {},
     "output_type": "execute_result"
    }
   ],
   "source": [
    "df.corr()"
   ]
  },
  {
   "cell_type": "markdown",
   "id": "24d3e52b",
   "metadata": {},
   "source": [
    "**Why you want to apply regression on selected dataset?**\n",
    "\n",
    "Because our Y which is target variable is of continuous type so we can apply regression\n",
    "\n",
    "**How many total observations in data?**\n",
    "\n",
    "There are total 26 observations after filtering. Before filtering there was a 39 observations.\n",
    "\n",
    "**How many independent variables?**\n",
    "\n",
    "In This dataset,we could say Age, Time,\tWeather, Group,\tRop-Way, Exersize,\tWeight, Trafic Rate are the independent variables.\n",
    "\n",
    "**Which is dependent variable?**\n",
    "\n",
    "Success is the dependent variable.\n",
    "\n",
    "**Which are most useful variable in estimation? Prove using correlation.**\n",
    "\n",
    "In this dataset Weather, Rop-Way, Exersize,\tWeight, Trafic Rate are useful."
   ]
  },
  {
   "cell_type": "code",
   "execution_count": 17,
   "id": "afc8dcba",
   "metadata": {},
   "outputs": [],
   "source": [
    "from sklearn.model_selection import train_test_split"
   ]
  },
  {
   "cell_type": "code",
   "execution_count": 18,
   "id": "5a130df4",
   "metadata": {},
   "outputs": [],
   "source": [
    "X = df.loc[:,[\"Weather\", \"Rop-Way\", \"Exersize\",\"Weight\", \"Trafic Rate\"]]\n",
    "Y = df.iloc[:,-1] # last column of the df\n",
    "#X\n",
    "#print(\"----\")\n",
    "#Y\n",
    "# df.loc[rows,[\"column name 1\", \"colunm name 50\", \"required column name\"]]"
   ]
  },
  {
   "cell_type": "code",
   "execution_count": 19,
   "id": "c11bf5eb",
   "metadata": {},
   "outputs": [
    {
     "name": "stdout",
     "output_type": "stream",
     "text": [
      "(18, 5)\n",
      "(8, 5)\n",
      "(18,)\n",
      "(8,)\n"
     ]
    }
   ],
   "source": [
    "X_train, X_test, Y_train, Y_test = train_test_split(X,Y,test_size=0.3,random_state=2)\n",
    "print(X_train.shape)\n",
    "print(X_test.shape)\n",
    "print(Y_train.shape)\n",
    "print(Y_test.shape)\n",
    "# (rows, columns)"
   ]
  },
  {
   "cell_type": "code",
   "execution_count": 33,
   "id": "42c82b79",
   "metadata": {},
   "outputs": [
    {
     "data": {
      "text/html": [
       "<div>\n",
       "<style scoped>\n",
       "    .dataframe tbody tr th:only-of-type {\n",
       "        vertical-align: middle;\n",
       "    }\n",
       "\n",
       "    .dataframe tbody tr th {\n",
       "        vertical-align: top;\n",
       "    }\n",
       "\n",
       "    .dataframe thead th {\n",
       "        text-align: right;\n",
       "    }\n",
       "</style>\n",
       "<table border=\"1\" class=\"dataframe\">\n",
       "  <thead>\n",
       "    <tr style=\"text-align: right;\">\n",
       "      <th></th>\n",
       "      <th>Weather</th>\n",
       "      <th>Rop-Way</th>\n",
       "      <th>Exersize</th>\n",
       "      <th>Weight</th>\n",
       "      <th>Trafic Rate</th>\n",
       "    </tr>\n",
       "  </thead>\n",
       "  <tbody>\n",
       "    <tr>\n",
       "      <th>24</th>\n",
       "      <td>1.0</td>\n",
       "      <td>1.0</td>\n",
       "      <td>1.0</td>\n",
       "      <td>2.000</td>\n",
       "      <td>1.0000</td>\n",
       "    </tr>\n",
       "    <tr>\n",
       "      <th>0</th>\n",
       "      <td>0.5</td>\n",
       "      <td>0.0</td>\n",
       "      <td>1.0</td>\n",
       "      <td>3.000</td>\n",
       "      <td>0.7000</td>\n",
       "    </tr>\n",
       "    <tr>\n",
       "      <th>9</th>\n",
       "      <td>0.5</td>\n",
       "      <td>0.0</td>\n",
       "      <td>1.0</td>\n",
       "      <td>4.500</td>\n",
       "      <td>0.6000</td>\n",
       "    </tr>\n",
       "    <tr>\n",
       "      <th>20</th>\n",
       "      <td>0.0</td>\n",
       "      <td>0.0</td>\n",
       "      <td>1.0</td>\n",
       "      <td>2.856</td>\n",
       "      <td>0.6992</td>\n",
       "    </tr>\n",
       "    <tr>\n",
       "      <th>16</th>\n",
       "      <td>1.0</td>\n",
       "      <td>1.0</td>\n",
       "      <td>1.0</td>\n",
       "      <td>0.000</td>\n",
       "      <td>0.9000</td>\n",
       "    </tr>\n",
       "    <tr>\n",
       "      <th>12</th>\n",
       "      <td>1.0</td>\n",
       "      <td>0.0</td>\n",
       "      <td>1.0</td>\n",
       "      <td>1.500</td>\n",
       "      <td>1.0000</td>\n",
       "    </tr>\n",
       "    <tr>\n",
       "      <th>6</th>\n",
       "      <td>0.5</td>\n",
       "      <td>1.0</td>\n",
       "      <td>0.0</td>\n",
       "      <td>1.200</td>\n",
       "      <td>0.6000</td>\n",
       "    </tr>\n",
       "    <tr>\n",
       "      <th>3</th>\n",
       "      <td>1.0</td>\n",
       "      <td>0.0</td>\n",
       "      <td>1.0</td>\n",
       "      <td>1.500</td>\n",
       "      <td>0.7000</td>\n",
       "    </tr>\n",
       "  </tbody>\n",
       "</table>\n",
       "</div>"
      ],
      "text/plain": [
       "    Weather  Rop-Way  Exersize  Weight  Trafic Rate\n",
       "24      1.0      1.0       1.0   2.000       1.0000\n",
       "0       0.5      0.0       1.0   3.000       0.7000\n",
       "9       0.5      0.0       1.0   4.500       0.6000\n",
       "20      0.0      0.0       1.0   2.856       0.6992\n",
       "16      1.0      1.0       1.0   0.000       0.9000\n",
       "12      1.0      0.0       1.0   1.500       1.0000\n",
       "6       0.5      1.0       0.0   1.200       0.6000\n",
       "3       1.0      0.0       1.0   1.500       0.7000"
      ]
     },
     "execution_count": 33,
     "metadata": {},
     "output_type": "execute_result"
    }
   ],
   "source": [
    "X_test"
   ]
  },
  {
   "cell_type": "code",
   "execution_count": 21,
   "id": "48525592",
   "metadata": {},
   "outputs": [
    {
     "data": {
      "text/plain": [
       "24    0\n",
       "0     1\n",
       "9     1\n",
       "20    0\n",
       "16    1\n",
       "12    0\n",
       "6     1\n",
       "3     1\n",
       "Name: Success, dtype: int64"
      ]
     },
     "execution_count": 21,
     "metadata": {},
     "output_type": "execute_result"
    }
   ],
   "source": [
    "Y_test"
   ]
  },
  {
   "cell_type": "code",
   "execution_count": 22,
   "id": "a32ca544",
   "metadata": {},
   "outputs": [],
   "source": [
    "from sklearn.linear_model import LogisticRegression"
   ]
  },
  {
   "cell_type": "code",
   "execution_count": 23,
   "id": "2e739523",
   "metadata": {},
   "outputs": [
    {
     "data": {
      "text/plain": [
       "LogisticRegression()"
      ]
     },
     "execution_count": 23,
     "metadata": {},
     "output_type": "execute_result"
    }
   ],
   "source": [
    "reg = LogisticRegression()\n",
    "reg.fit(X_train,Y_train)"
   ]
  },
  {
   "cell_type": "code",
   "execution_count": 42,
   "id": "55c3ccac",
   "metadata": {},
   "outputs": [
    {
     "data": {
      "text/plain": [
       "array([1, 0, 0, 0, 1, 0, 0, 0], dtype=int64)"
      ]
     },
     "execution_count": 42,
     "metadata": {},
     "output_type": "execute_result"
    }
   ],
   "source": [
    "Y_pre= reg.predict(X_test)\n",
    "Y_pre"
   ]
  },
  {
   "cell_type": "markdown",
   "id": "7f3dc10b",
   "metadata": {},
   "source": [
    "###  **Check for Goodness of Fit using confusion matrix, score** "
   ]
  },
  {
   "cell_type": "code",
   "execution_count": 43,
   "id": "19bce6ac",
   "metadata": {},
   "outputs": [
    {
     "data": {
      "text/plain": [
       "0.375"
      ]
     },
     "execution_count": 43,
     "metadata": {},
     "output_type": "execute_result"
    }
   ],
   "source": [
    "reg.score(X_test,Y_test) #accuracy "
   ]
  },
  {
   "cell_type": "code",
   "execution_count": 49,
   "id": "61f859c4",
   "metadata": {},
   "outputs": [
    {
     "data": {
      "text/plain": [
       "array([[2, 1],\n",
       "       [4, 1]], dtype=int64)"
      ]
     },
     "execution_count": 49,
     "metadata": {},
     "output_type": "execute_result"
    }
   ],
   "source": [
    "from sklearn.metrics import confusion_matrix,classification_report\n",
    "\n",
    "cfa = confusion_matrix(Y_test, Y_pre)\n",
    "cfa"
   ]
  },
  {
   "cell_type": "code",
   "execution_count": 51,
   "id": "a5a1f977",
   "metadata": {},
   "outputs": [
    {
     "name": "stdout",
     "output_type": "stream",
     "text": [
      "              precision    recall  f1-score   support\n",
      "\n",
      "           0       0.33      0.67      0.44         3\n",
      "           1       0.50      0.20      0.29         5\n",
      "\n",
      "    accuracy                           0.38         8\n",
      "   macro avg       0.42      0.43      0.37         8\n",
      "weighted avg       0.44      0.38      0.35         8\n",
      "\n"
     ]
    }
   ],
   "source": [
    "print(classification_report(Y_test,Y_pre))"
   ]
  },
  {
   "cell_type": "markdown",
   "id": "4574678c",
   "metadata": {},
   "source": [
    "# Only using one variable, weather"
   ]
  },
  {
   "cell_type": "code",
   "execution_count": 26,
   "id": "feae69bd",
   "metadata": {
    "scrolled": true
   },
   "outputs": [
    {
     "name": "stdout",
     "output_type": "stream",
     "text": [
      "(13, 1)\n",
      "(13, 1)\n",
      "(13,)\n",
      "(13,)\n"
     ]
    }
   ],
   "source": [
    "W_train, W_test, S_train, S_test = train_test_split(df[[\"Weather\"]],df.Success,test_size=0.5,random_state=2)\n",
    "print(W_train.shape)\n",
    "print(W_test.shape)\n",
    "print(S_train.shape)\n",
    "print(S_test.shape)"
   ]
  },
  {
   "cell_type": "code",
   "execution_count": 27,
   "id": "c95d55b2",
   "metadata": {},
   "outputs": [
    {
     "data": {
      "text/plain": [
       "LogisticRegression()"
      ]
     },
     "execution_count": 27,
     "metadata": {},
     "output_type": "execute_result"
    }
   ],
   "source": [
    "reg2 = LogisticRegression()\n",
    "reg2.fit(W_train,S_train)"
   ]
  },
  {
   "cell_type": "code",
   "execution_count": 28,
   "id": "980605f3",
   "metadata": {},
   "outputs": [
    {
     "data": {
      "text/html": [
       "<div>\n",
       "<style scoped>\n",
       "    .dataframe tbody tr th:only-of-type {\n",
       "        vertical-align: middle;\n",
       "    }\n",
       "\n",
       "    .dataframe tbody tr th {\n",
       "        vertical-align: top;\n",
       "    }\n",
       "\n",
       "    .dataframe thead th {\n",
       "        text-align: right;\n",
       "    }\n",
       "</style>\n",
       "<table border=\"1\" class=\"dataframe\">\n",
       "  <thead>\n",
       "    <tr style=\"text-align: right;\">\n",
       "      <th></th>\n",
       "      <th>Weather</th>\n",
       "    </tr>\n",
       "  </thead>\n",
       "  <tbody>\n",
       "    <tr>\n",
       "      <th>24</th>\n",
       "      <td>1.0</td>\n",
       "    </tr>\n",
       "    <tr>\n",
       "      <th>0</th>\n",
       "      <td>0.5</td>\n",
       "    </tr>\n",
       "    <tr>\n",
       "      <th>9</th>\n",
       "      <td>0.5</td>\n",
       "    </tr>\n",
       "    <tr>\n",
       "      <th>20</th>\n",
       "      <td>0.0</td>\n",
       "    </tr>\n",
       "    <tr>\n",
       "      <th>16</th>\n",
       "      <td>1.0</td>\n",
       "    </tr>\n",
       "    <tr>\n",
       "      <th>12</th>\n",
       "      <td>1.0</td>\n",
       "    </tr>\n",
       "    <tr>\n",
       "      <th>6</th>\n",
       "      <td>0.5</td>\n",
       "    </tr>\n",
       "    <tr>\n",
       "      <th>3</th>\n",
       "      <td>1.0</td>\n",
       "    </tr>\n",
       "    <tr>\n",
       "      <th>17</th>\n",
       "      <td>0.0</td>\n",
       "    </tr>\n",
       "    <tr>\n",
       "      <th>23</th>\n",
       "      <td>0.0</td>\n",
       "    </tr>\n",
       "    <tr>\n",
       "      <th>14</th>\n",
       "      <td>0.5</td>\n",
       "    </tr>\n",
       "    <tr>\n",
       "      <th>4</th>\n",
       "      <td>1.0</td>\n",
       "    </tr>\n",
       "    <tr>\n",
       "      <th>10</th>\n",
       "      <td>1.0</td>\n",
       "    </tr>\n",
       "  </tbody>\n",
       "</table>\n",
       "</div>"
      ],
      "text/plain": [
       "    Weather\n",
       "24      1.0\n",
       "0       0.5\n",
       "9       0.5\n",
       "20      0.0\n",
       "16      1.0\n",
       "12      1.0\n",
       "6       0.5\n",
       "3       1.0\n",
       "17      0.0\n",
       "23      0.0\n",
       "14      0.5\n",
       "4       1.0\n",
       "10      1.0"
      ]
     },
     "execution_count": 28,
     "metadata": {},
     "output_type": "execute_result"
    }
   ],
   "source": [
    "W_test"
   ]
  },
  {
   "cell_type": "code",
   "execution_count": 46,
   "id": "849e5b0f",
   "metadata": {},
   "outputs": [
    {
     "data": {
      "text/plain": [
       "array([1, 1, 1, 0, 1, 1, 1, 1, 0, 0, 1, 1, 1], dtype=int64)"
      ]
     },
     "execution_count": 46,
     "metadata": {},
     "output_type": "execute_result"
    }
   ],
   "source": [
    "S_pre= reg2.predict(W_test)\n",
    "S_pre"
   ]
  },
  {
   "cell_type": "code",
   "execution_count": 35,
   "id": "8b9a20fd",
   "metadata": {
    "scrolled": true
   },
   "outputs": [
    {
     "data": {
      "text/plain": [
       "<matplotlib.collections.PathCollection at 0x1f8109c6790>"
      ]
     },
     "execution_count": 35,
     "metadata": {},
     "output_type": "execute_result"
    },
    {
     "data": {
      "image/png": "[encoded data removed]",
      "text/plain": [
       "<Figure size 360x216 with 1 Axes>"
      ]
     },
     "metadata": {},
     "output_type": "display_data"
    }
   ],
   "source": [
    "sns.set(font_scale = 1)\n",
    "plt.figure(figsize=(5, 3))\n",
    "plt.xlabel(\"Traffic Rate\")\n",
    "plt.ylabel(\"Success\")\n",
    "plt.title(\"Trafic Rate verses Success\")\n",
    "plt.scatter(df[\"Trafic Rate\"],df[\"Success\"],color=\"black\")"
   ]
  },
  {
   "cell_type": "code",
   "execution_count": 36,
   "id": "ddfceb44",
   "metadata": {},
   "outputs": [
    {
     "data": {
      "text/plain": [
       "<AxesSubplot:xlabel='Trafic Rate', ylabel='Success'>"
      ]
     },
     "execution_count": 36,
     "metadata": {},
     "output_type": "execute_result"
    },
    {
     "data": {
      "image/png": "[encoded data removed]",
      "text/plain": [
       "<Figure size 432x288 with 1 Axes>"
      ]
     },
     "metadata": {},
     "output_type": "display_data"
    }
   ],
   "source": [
    "sns.regplot(x=df[\"Trafic Rate\"],y=df[\"Success\"],logistic=True)"
   ]
  },
  {
   "cell_type": "code",
   "execution_count": 30,
   "id": "481dab42",
   "metadata": {},
   "outputs": [
    {
     "data": {
      "text/plain": [
       "0.6923076923076923"
      ]
     },
     "execution_count": 30,
     "metadata": {},
     "output_type": "execute_result"
    }
   ],
   "source": [
    "reg2.score(W_test,S_test)"
   ]
  },
  {
   "cell_type": "code",
   "execution_count": 52,
   "id": "5b03e94d",
   "metadata": {},
   "outputs": [
    {
     "data": {
      "text/plain": [
       "array([[3, 4],\n",
       "       [0, 6]], dtype=int64)"
      ]
     },
     "execution_count": 52,
     "metadata": {},
     "output_type": "execute_result"
    }
   ],
   "source": [
    "cfa = confusion_matrix(S_test, S_pre)\n",
    "cfa"
   ]
  },
  {
   "cell_type": "code",
   "execution_count": 53,
   "id": "f3a20c2f",
   "metadata": {},
   "outputs": [
    {
     "name": "stdout",
     "output_type": "stream",
     "text": [
      "              precision    recall  f1-score   support\n",
      "\n",
      "           0       1.00      0.43      0.60         7\n",
      "           1       0.60      1.00      0.75         6\n",
      "\n",
      "    accuracy                           0.69        13\n",
      "   macro avg       0.80      0.71      0.67        13\n",
      "weighted avg       0.82      0.69      0.67        13\n",
      "\n"
     ]
    }
   ],
   "source": [
    "print(classification_report(S_test,S_pre))"
   ]
  }
 ],
 "metadata": {
  "kernelspec": {
   "display_name": "Python 3 (ipykernel)",
   "language": "python",
   "name": "python3"
  },
  "language_info": {
   "codemirror_mode": {
    "name": "ipython",
    "version": 3
   },
   "file_extension": ".py",
   "mimetype": "text/x-python",
   "name": "python",
   "nbconvert_exporter": "python",
   "pygments_lexer": "ipython3",
   "version": "3.9.7"
  }
 },
 "nbformat": 4,
 "nbformat_minor": 5
}
