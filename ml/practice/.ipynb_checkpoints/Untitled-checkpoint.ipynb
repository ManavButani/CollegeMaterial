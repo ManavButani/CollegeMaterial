{
 "cells": [
  {
   "cell_type": "code",
   "execution_count": 11,
   "id": "ffaadc3f",
   "metadata": {},
   "outputs": [],
   "source": [
    "import sympy\n",
    "import math"
   ]
  },
  {
   "cell_type": "code",
   "execution_count": 7,
   "id": "48a956bb",
   "metadata": {},
   "outputs": [
    {
     "name": "stdout",
     "output_type": "stream",
     "text": [
      "1\n"
     ]
    }
   ],
   "source": [
    "primeNumber1 = sympy.randprime(1000000000,9999999999)\n",
    "#primeNumber\n",
    "primeNumber2 = sympy.randprime(1000000000,9999999999)\n",
    "print(gcd(primeNumber1,primeNumber2))"
   ]
  },
  {
   "cell_type": "code",
   "execution_count": 6,
   "id": "e1905f73",
   "metadata": {},
   "outputs": [],
   "source": [
    "def gcd(a,b):\n",
    "    while(1):\n",
    "        t=a%b\n",
    "        if t==0:\n",
    "            return b\n",
    "        a=b\n",
    "        b=t"
   ]
  },
  {
   "cell_type": "code",
   "execution_count": 10,
   "id": "fd47c942",
   "metadata": {},
   "outputs": [],
   "source": [
    "n= primeNumber1*primeNumber2\n",
    "phi = (primeNumber1-1)*(primeNumber2-1)\n",
    "e=2\n",
    "while e<phi:\n",
    "    track = gcd(e,phi)\n",
    "    if track==1:\n",
    "        break\n",
    "    else:\n",
    "        e+=1"
   ]
  },
  {
   "cell_type": "code",
   "execution_count": null,
   "id": "a735c38d",
   "metadata": {},
   "outputs": [],
   "source": [
    "d1 = 1/e\n",
    "d=math.fmod(d1,phi)\n",
    "message = int(input(\"Enter Your Message\"))\n",
    "c = math.pow"
   ]
  }
 ],
 "metadata": {
  "kernelspec": {
   "display_name": "Python 3 (ipykernel)",
   "language": "python",
   "name": "python3"
  },
  "language_info": {
   "codemirror_mode": {
    "name": "ipython",
    "version": 3
   },
   "file_extension": ".py",
   "mimetype": "text/x-python",
   "name": "python",
   "nbconvert_exporter": "python",
   "pygments_lexer": "ipython3",
   "version": "3.9.7"
  }
 },
 "nbformat": 4,
 "nbformat_minor": 5
}
