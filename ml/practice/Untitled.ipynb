{
 "cells": [
  {
   "cell_type": "code",
   "execution_count": 16,
   "id": "f1ca8206",
   "metadata": {},
   "outputs": [],
   "source": [
    "import sympy\n",
    "import math"
   ]
  },
  {
   "cell_type": "code",
   "execution_count": 17,
   "id": "1269001d",
   "metadata": {},
   "outputs": [
    {
     "name": "stdout",
     "output_type": "stream",
     "text": [
      "1\n"
     ]
    }
   ],
   "source": [
    "primeNumber1 = sympy.randprime(1000000000,9999999999)\n",
    "#primeNumber\n",
    "primeNumber2 = sympy.randprime(1000000000,9999999999)\n",
    "print(gcd(primeNumber1,primeNumber2))"
   ]
  },
  {
   "cell_type": "code",
   "execution_count": 18,
   "id": "6ff2577c",
   "metadata": {},
   "outputs": [],
   "source": [
    "def gcd(a,b):\n",
    "    while(1):\n",
    "        t=a%b\n",
    "        if t==0:\n",
    "            return b\n",
    "        a=b\n",
    "        b=t"
   ]
  },
  {
   "cell_type": "code",
   "execution_count": 19,
   "id": "979d4d76",
   "metadata": {},
   "outputs": [],
   "source": [
    "n= primeNumber1*primeNumber2\n",
    "phi = (primeNumber1-1)*(primeNumber2-1)\n",
    "e=2\n",
    "while e<phi:\n",
    "    track = gcd(e,phi)\n",
    "    if track==1:\n",
    "        break\n",
    "    else:\n",
    "        e+=1"
   ]
  },
  {
   "cell_type": "code",
   "execution_count": 20,
   "id": "19877d5a",
   "metadata": {},
   "outputs": [
    {
     "name": "stdout",
     "output_type": "stream",
     "text": [
      "Enter Your Message : 897\n"
     ]
    }
   ],
   "source": [
    "d1 = 1/e\n",
    "d= math.fmod(d1,phi)\n",
    "message = int(input(\"Enter Your Message : \"))\n",
    "c = pow(message,e)\n",
    "m = pow(c,d)\n",
    "C = math.fmod(c,n)\n",
    "M = math.fmod(m,n)"
   ]
  },
  {
   "cell_type": "code",
   "execution_count": 24,
   "id": "d2a55602",
   "metadata": {},
   "outputs": [
    {
     "name": "stdout",
     "output_type": "stream",
     "text": [
      " Original Message : 897\n",
      " PrimeNumber1 p : 5173211291\n",
      " PrimeNumber2 q : 4124279519\n",
      " phi(n): phi(21335769374930849029)= 21335769365633358220\n",
      " e = 3\n",
      " d = 3\n",
      " Encrypted Message = 721734273.0\n",
      " Decrypted Message = 897\n"
     ]
    }
   ],
   "source": [
    "print(f\" Original Message : {message}\")\n",
    "print(f\" PrimeNumber1 p : {primeNumber1}\")\n",
    "print(f\" PrimeNumber2 q : {primeNumber2}\")\n",
    "print(f\" phi(n): phi({n})= {phi}\")\n",
    "print(f\" e = {e}\")\n",
    "print(f\" d = {e}\")\n",
    "print(f\" Encrypted Message = {C}\")\n",
    "print(f\" Decrypted Message = {math.ceil(M)}\")"
   ]
  },
  {
   "cell_type": "code",
   "execution_count": 1,
   "id": "9166854b",
   "metadata": {},
   "outputs": [
    {
     "name": "stdout",
     "output_type": "stream",
     "text": [
      "Enter Your Message : 123456789\n",
      " Original Message : 123456789\n",
      " PrimeNumber1 p : 4513130767\n",
      " PrimeNumber2 q : 2437926419\n",
      " phi(n): phi(11002680729271033373)= 11002680722319976188\n",
      " e = 5\n",
      " d = 5\n",
      " Encrypted Message = 4.9506315291805286e+17\n",
      " Decrypted Message = 123456789.00000013\n"
     ]
    }
   ],
   "source": [
    "import sympy\n",
    "import math\n",
    "\n",
    "def gcd(a,b):\n",
    "    while(1):\n",
    "        t=a%b\n",
    "        if t==0:\n",
    "            return b\n",
    "        a=b\n",
    "        b=t\n",
    "\n",
    "if __name__==\"__main__\":\n",
    "    primeNumber1 = sympy.randprime(1000000000,9999999999)\n",
    "    primeNumber2 = sympy.randprime(1000000000,9999999999)\n",
    "    n= primeNumber1*primeNumber2\n",
    "    phi = (primeNumber1-1)*(primeNumber2-1)\n",
    "    e=2\n",
    "    while e<phi:\n",
    "        track = gcd(e,phi)\n",
    "        if track==1:\n",
    "            break\n",
    "        else:\n",
    "            e+=1\n",
    "\n",
    "    d1 = 1/e\n",
    "    d= math.fmod(d1,phi)\n",
    "    message = int(input(\"Enter Your Message : \"))\n",
    "    c = pow(message,e)\n",
    "    m = pow(c,d)\n",
    "    C = math.fmod(c,n)\n",
    "    M = math.fmod(m,n)\n",
    "\n",
    "    print(f\" Original Message : {message}\")\n",
    "    print(f\" PrimeNumber1 p : {primeNumber1}\")\n",
    "    print(f\" PrimeNumber2 q : {primeNumber2}\")\n",
    "    print(f\" phi(n): phi({n})= {phi}\")\n",
    "    print(f\" e = {e}\")\n",
    "    print(f\" d = {e}\")\n",
    "    print(f\" Encrypted Message = {C}\")\n",
    "    print(f\" Decrypted Message = {M}\")"
   ]
  },
  {
   "cell_type": "code",
   "execution_count": null,
   "id": "2d986833",
   "metadata": {},
   "outputs": [],
   "source": []
  }
 ],
 "metadata": {
  "kernelspec": {
   "display_name": "Python 3 (ipykernel)",
   "language": "python",
   "name": "python3"
  },
  "language_info": {
   "codemirror_mode": {
    "name": "ipython",
    "version": 3
   },
   "file_extension": ".py",
   "mimetype": "text/x-python",
   "name": "python",
   "nbconvert_exporter": "python",
   "pygments_lexer": "ipython3",
   "version": "3.9.7"
  }
 },
 "nbformat": 4,
 "nbformat_minor": 5
}
